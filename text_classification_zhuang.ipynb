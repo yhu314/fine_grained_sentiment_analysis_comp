{
 "cells": [
  {
   "cell_type": "code",
   "execution_count": 2,
   "metadata": {},
<<<<<<< HEAD
   "outputs": [
    {
     "name": "stderr",
     "output_type": "stream",
     "text": [
      "C:\\Users\\Yi\\Anaconda3\\lib\\site-packages\\h5py\\__init__.py:34: FutureWarning: Conversion of the second argument of issubdtype from `float` to `np.floating` is deprecated. In future, it will be treated as `np.float64 == np.dtype(float).type`.\n",
      "  from ._conv import register_converters as _register_converters\n",
      "Using TensorFlow backend.\n",
      "C:\\Users\\Yi\\Anaconda3\\lib\\site-packages\\gensim\\utils.py:1167: UserWarning: detected Windows; aliasing chunkize to chunkize_serial\n",
      "  warnings.warn(\"detected Windows; aliasing chunkize to chunkize_serial\")\n"
     ]
    }
   ],
=======
   "outputs": [],
>>>>>>> 029e816227ee22da107c0551fd1c0c9551900cb2
   "source": [
    "import numpy as np \n",
    "import pandas as pd \n",
    "import os\n",
    "import pickle\n",
    "from keras_callbacks import *\n",
    "from keras.layers import *\n",
    "from keras.preprocessing import text, sequence\n",
    "from keras import initializers, regularizers, constraints, optimizers, layers, callbacks\n",
    "from keras.callbacks import EarlyStopping,ModelCheckpoint\n",
    "from keras.models import Model\n",
    "from keras.optimizers import *\n",
    "from sklearn.model_selection import train_test_split\n",
    "from keras.utils import to_categorical\n",
    "import keras\n",
    "from keras import backend as K\n",
    "from random import randint\n",
    "from keras.engine.topology import Layer\n",
    "from gensim.models import KeyedVectors\n",
    "from train_config import targets\n",
    "from keras.backend.tensorflow_backend import set_session\n",
    "config = tf.ConfigProto()\n",
    "config.gpu_options.per_process_gpu_memory_fraction = 0.9\n",
    "config.gpu_options.allow_growth=True\n",
    "set_session(tf.Session(config=config))\n",
    "K.clear_session()"
   ]
  },
  {
   "cell_type": "markdown",
   "metadata": {},
   "source": [
    "处理数据，整理成list"
   ]
  },
  {
   "cell_type": "code",
<<<<<<< HEAD
   "execution_count": 2,
   "metadata": {
    "collapsed": true
   },
=======
   "execution_count": 3,
   "metadata": {},
>>>>>>> 029e816227ee22da107c0551fd1c0c9551900cb2
   "outputs": [],
   "source": [
    "file = ['../datasets/train_data_jieba.txt', '../datasets/valid_data_jieba.txt', '../datasets/test_data_jieba.txt']\n",
    "X_train = []\n",
    "X_valid = []\n",
    "X_test = []\n",
    "\n",
    "with open('../datasets/train_data_jieba.txt', 'r', encoding='utf8') as handle:\n",
    "    for line in handle.readlines():\n",
    "        X_train.append(line.rstrip('\\n'))\n",
    "        \n",
    "        \n",
    "with open('../datasets/valid_data_jieba.txt', 'r', encoding='utf8') as handle:\n",
    "    for line in handle.readlines():\n",
    "        X_valid.append(line.rstrip('\\n'))\n",
    "        \n",
    "        \n",
    "with open('../datasets/test_data_jieba.txt', 'r', encoding='utf8') as handle:\n",
    "    for line in handle.readlines():\n",
    "        X_test.append(line.rstrip('\\n'))"
   ]
  },
  {
   "cell_type": "markdown",
   "metadata": {},
<<<<<<< HEAD
   "outputs": [
    {
     "name": "stdout",
     "output_type": "stream",
     "text": [
      "105000\n",
      "15000\n",
      "15000\n"
     ]
    }
   ],
   "source": [
    "print(len(X_train))\n",
    "print(len(X_valid))\n",
    "print(len(X_test))"
=======
   "source": [
    "处理labels"
>>>>>>> 029e816227ee22da107c0551fd1c0c9551900cb2
   ]
  },
  {
   "cell_type": "code",
   "execution_count": 4,
   "metadata": {},
   "outputs": [
    {
     "data": {
      "text/plain": [
       "'吼吼吼 萌死人 的 棒棒糖 中了 大众点评 的 霸王餐 太 可爱 了 一直 就 好奇 这个 棒棒糖 是 怎么 个 东西 大众点评 给 了 我 这个 土老冒 一个 见识 的 机会 看 介绍 棒棒糖 是用 德国 糖 做的 不会 很甜 中间 的 照片 是 糯米 的 能 食用 真是太 高端大气上档次 了 还 可以买 蝴蝶结 扎口 送人 可以买 礼盒 我是 先 打的 卖家 电话 加了 微信 给 卖家 传 的 照片 等 了 几天 卖家 就 告诉我 可以 取货 了 去 大官屯 那取 的 虽然 连 卖家 的 面 都没 见到 但是 还是 谢谢 卖家 送我 这么 可爱的东西 太 喜欢了 这 哪 舍得吃 啊'"
      ]
     },
     "execution_count": 4,
     "metadata": {},
     "output_type": "execute_result"
    }
   ],
   "source": [
    "X_train[0]"
   ]
  },
  {
   "cell_type": "code",
   "execution_count": 5,
   "metadata": {
    "collapsed": true
   },
   "outputs": [],
   "source": [
    "name = ['location_traffic_convenience',\n",
    "       'location_distance_from_business_district', 'location_easy_to_find',\n",
    "       'service_wait_time', 'service_waiters_attitude',\n",
    "       'service_parking_convenience', 'service_serving_speed', 'price_level',\n",
    "       'price_cost_effective', 'price_discount', 'environment_decoration',\n",
    "       'environment_noise', 'environment_space', 'environment_cleaness',\n",
    "       'dish_portion', 'dish_taste', 'dish_look', 'dish_recommendation',\n",
    "       'others_overall_experience', 'others_willing_to_consume_again']\n",
    "train_data = pd.read_csv('../datasets/sentiment_analysis_trainingset.csv')\n",
    "valid_data = pd.read_csv('../datasets/sentiment_analysis_validationset.csv')\n",
    "\n",
    "y_train = []\n",
    "y_valid = []\n",
    "for N in name:\n",
    "    Y_train = train_data[[N]]\n",
    "    Y_train = np.array(Y_train)+2\n",
    "    Y_train = to_categorical(Y_train, num_classes=4)\n",
    "    y_train.append(Y_train)\n",
    "    \n",
    "    Y_valid = valid_data[[N]]\n",
    "    Y_valid = np.array(Y_valid)+2\n",
    "    Y_valid = to_categorical(Y_valid, num_classes=4)\n",
    "    y_valid.append(Y_valid)"
   ]
  },
  {
   "cell_type": "code",
   "execution_count": 6,
   "metadata": {},
   "outputs": [
    {
     "name": "stdout",
     "output_type": "stream",
     "text": [
      "105000\n",
      "20\n",
      "[[1. 0. 0. 0.]\n",
      " [1. 0. 0. 0.]\n",
      " [1. 0. 0. 0.]\n",
      " ...\n",
      " [1. 0. 0. 0.]\n",
      " [1. 0. 0. 0.]\n",
      " [1. 0. 0. 0.]]\n"
     ]
    }
   ],
   "source": [
    "print(len(y_train[0]))\n",
    "print(len(y_valid))\n",
    "print(y_train[3])"
   ]
  },
  {
   "cell_type": "code",
   "execution_count": 7,
   "metadata": {
    "collapsed": true
   },
   "outputs": [],
   "source": [
    "embedding_path = '../datasets/tencent_embedding.npy'\n",
    "# 词典大小，embedding矩阵大小\n",
    "tok2idx_path = '../datasets/vocab.pickle'"
   ]
  },
  {
   "cell_type": "code",
   "execution_count": 8,
   "metadata": {
    "collapsed": true
   },
   "outputs": [],
   "source": [
    "embedding_matrix = np.load(embedding_path)\n",
    "with open(tok2idx_path, 'rb') as file:\n",
    "    tok2idx = pickle.load(file)"
   ]
  },
  {
   "cell_type": "code",
   "execution_count": 9,
   "metadata": {
    "collapsed": true
   },
   "outputs": [],
   "source": [
    "def tokenize(sentence, tok2idx):\n",
    "    return [tok2idx[word] for word in sentence.split(' ')]"
   ]
  },
  {
   "cell_type": "code",
   "execution_count": 10,
   "metadata": {
    "collapsed": true
   },
   "outputs": [],
   "source": [
    "maxlen = 1024\n",
    "train = [tokenize(x, tok2idx) for x in X_train]\n",
    "valid = [tokenize(x, tok2idx) for x in X_valid]\n",
    "test = [tokenize(x, tok2idx) for x in X_test]\n",
    "x_train = sequence.pad_sequences(train, maxlen=maxlen, padding='pre')\n",
    "x_valid = sequence.pad_sequences(valid, maxlen=maxlen, padding='pre')\n",
    "x_test = sequence.pad_sequences(test, maxlen=maxlen, padding='pre')"
   ]
  },
  {
   "cell_type": "code",
   "execution_count": 11,
   "metadata": {
    "collapsed": true
   },
   "outputs": [],
   "source": [
    "# embeddings_index = {}\n",
    "# with open(EMBEDDING_FILE,encoding='utf8') as f:\n",
    "#     for line in f:\n",
    "#         values = line.rstrip().rsplit(' ')\n",
    "#         word = values[0]\n",
    "#         coefs = np.asarray(values[1:], dtype='float32')\n",
    "#         embeddings_index[word] = coefs"
   ]
  },
  {
   "cell_type": "code",
   "execution_count": 12,
   "metadata": {
    "collapsed": true
   },
   "outputs": [],
   "source": [
    "# word_index = tok.word_index\n",
    "# num_words = min(max_features, len(word_index) + 1)\n",
    "# embedding_matrix = np.zeros((num_words, embed_size))\n",
    "# for word, i in word_index.items():\n",
    "#     if i >= max_features:\n",
    "#         continue\n",
    "#     embedding_vector = embeddings_index.get(word)\n",
    "#     if embedding_vector is not None:\n",
    "#         embedding_matrix[i] = embedding_vector"
   ]
  },
  {
   "cell_type": "code",
<<<<<<< HEAD
   "execution_count": 13,
   "metadata": {
    "collapsed": true
   },
=======
   "execution_count": 11,
   "metadata": {},
>>>>>>> 029e816227ee22da107c0551fd1c0c9551900cb2
   "outputs": [],
   "source": [
    "embedding_layer = Embedding(input_dim=embedding_matrix.shape[0],\n",
    "                            output_dim=embedding_matrix.shape[1],\n",
    "                            weights=[embedding_matrix],\n",
    "                            trainable=False)"
   ]
  },
  {
   "cell_type": "code",
<<<<<<< HEAD
   "execution_count": 14,
   "metadata": {
    "collapsed": true
   },
=======
   "execution_count": 12,
   "metadata": {},
>>>>>>> 029e816227ee22da107c0551fd1c0c9551900cb2
   "outputs": [],
   "source": [
    "def dp_block(inputs):\n",
    "    \n",
    "    conv = Conv1D(filters=128, strides=1, kernel_size=3, activation='relu')(inputs)  # keep dimension the same\n",
    "    pool_avg = AveragePooling1D(pool_size=3, strides=2, padding='valid')(conv)\n",
    "    pool_max = MaxPooling1D(pool_size=3, strides=2, padding='valid')(conv)\n",
    "#     conv = Conv1D(filters=128, strides=1, kernel_size=3, activation='relu')(conv)\n",
    "#     shortcut = Concatenate()([conv, pool])\n",
    "    output = Add()([pool_avg, pool_max])\n",
    "    return output"
   ]
  },
  {
   "cell_type": "code",
<<<<<<< HEAD
   "execution_count": 15,
   "metadata": {
    "collapsed": true
   },
=======
   "execution_count": 13,
   "metadata": {},
>>>>>>> 029e816227ee22da107c0551fd1c0c9551900cb2
   "outputs": [],
   "source": [
    "def attention(inputs):\n",
    "    att = Dense(1, activation='sigmoid')(inputs)\n",
    "    weight = Reshape((-1,))(att)\n",
    "    weight = RepeatVector(128)(weight)\n",
    "    weight = Permute((2,1))(weight)\n",
    "    mul = Multiply()([inputs, weight])\n",
    "#     bn = BatchNormalization()(mul)\n",
    "    \n",
    "    return mul"
   ]
  },
  {
   "cell_type": "code",
<<<<<<< HEAD
   "execution_count": 16,
   "metadata": {
    "collapsed": true
   },
=======
   "execution_count": 14,
   "metadata": {},
>>>>>>> 029e816227ee22da107c0551fd1c0c9551900cb2
   "outputs": [],
   "source": [
    "def build_model(embedding_layer, maxlen, targets):\n",
    "    sent_input = Input((maxlen,), dtype='int32')\n",
    "    sent_embedded = embedding_layer(sent_input)\n",
    "    output_list_1 = []\n",
    "    \n",
    "    conv_3 = Conv1D(filters=256, strides=1, kernel_size=3, padding='same', activation='relu')(sent_embedded)\n",
    "    conv_3 = attention(conv_3)\n",
    "    conv_3 = MaxPooling1D(pool_size=3, strides=2, padding='valid')(conv_3)\n",
    "    \n",
    "    conv_2 = Conv1D(filters=256, strides=1, kernel_size=2, padding='same', activation='relu')(sent_embedded)\n",
    "    conv_2 = attention(conv_2)\n",
    "    conv_2 = MaxPooling1D(pool_size=3, strides=2, padding='valid')(conv_2)\n",
    "    \n",
    "    conv_4 = Conv1D(filters=256, strides=1, kernel_size=4, padding='same', activation='relu')(sent_embedded)\n",
    "    conv_4 = attention(conv_4)\n",
    "    conv_4 = MaxPooling1D(pool_size=3, strides=2, padding='valid')(conv_4)\n",
    "    \n",
    "    conv_5 = Conv1D(filters=256, strides=1, kernel_size=5, padding='same', activation='relu')(sent_embedded)\n",
    "    conv_5 = attention(conv_5)\n",
    "    conv_5 = MaxPooling1D(pool_size=3, strides=2, padding='valid')(conv_5)\n",
    "    \n",
    "    conv = Concatenate()([conv_2, conv_3, conv_4, conv_5])\n",
    "#     conv_att = dp_block(conv)\n",
    "    conv_1 = Conv1D(256, strides=1, kernel_size=3, activation='relu')(conv)\n",
    "    pool_avg = AveragePooling1D(pool_size=3, strides=2, padding='valid')(conv_1)\n",
    "    pool_max = MaxPooling1D(pool_size=3, strides=2, padding='valid')(conv_1)\n",
    "    pool = Add()([pool_avg, pool_max])\n",
    "    \n",
    "    conv_1 = Conv1D(128, strides=1, kernel_size=3, activation='relu')(conv_1)\n",
    "    pool_avg = AveragePooling1D(pool_size=3, strides=2, padding='valid')(conv_1)\n",
    "    pool_max = MaxPooling1D(pool_size=3, strides=2, padding='valid')(conv_1)\n",
    "    pool = Add()([pool_avg, pool_max])\n",
    "    \n",
    "    for target in targets:\n",
    "        \n",
    "        flat_1 = Flatten(name='flatten_1'+target)(pool)\n",
    "        if target in ['location_distance_from_business_district', 'dish_look', 'service_wait_time', ]:\n",
    "            flat_2 = Flatten(name='flatten_2'+target)(conv)\n",
    "            flat_1 = concatenate([flat_1, flat_2])\n",
    "            flat_1 = Dense(64, activation='relu', name='Dense_0_'+target)(flat_1)\n",
    "            \n",
    "        dense = Dense(32, activation='relu', name='Dense_1_'+target)(flat_1)\n",
    "        output_target = Dense(4, name='output_'+target, activation='softmax')(dense)\n",
    "        output_list_1.append(output_target)\n",
    "    \n",
    "    \n",
    "    model = Model(sent_input, output_list_1)\n",
    "    return model"
   ]
  },
  {
   "cell_type": "code",
<<<<<<< HEAD
   "execution_count": 17,
   "metadata": {
    "collapsed": true
   },
=======
   "execution_count": 15,
   "metadata": {},
>>>>>>> 029e816227ee22da107c0551fd1c0c9551900cb2
   "outputs": [],
   "source": [
    "batch_size = 32\n",
    "epochs = 2"
   ]
  },
  {
   "cell_type": "code",
<<<<<<< HEAD
   "execution_count": 18,
   "metadata": {
    "collapsed": true
   },
=======
   "execution_count": 16,
   "metadata": {},
>>>>>>> 029e816227ee22da107c0551fd1c0c9551900cb2
   "outputs": [],
   "source": [
    "model_name = 'DPCNN'\n",
    "lr_schedule = generate_learning_rate_schedule(0.0001, 0.003, 8, 0)\n",
    "checkpoint = generate_check_point(model_name)\n",
    "early_stopping = generate_early_stopping()\n",
    "tensorboard = generate_tensorboard(model_name, 'ALL')\n",
    "callbacks=[lr_schedule, checkpoint, early_stopping, tensorboard]"
   ]
  },
  {
   "cell_type": "code",
   "execution_count": 17,
   "metadata": {},
   "outputs": [
    {
     "name": "stdout",
     "output_type": "stream",
     "text": [
      "__________________________________________________________________________________________________\n",
      "Layer (type)                    Output Shape         Param #     Connected to                     \n",
      "==================================================================================================\n",
      "input_1 (InputLayer)            (None, 1024)         0                                            \n",
<<<<<<< HEAD
      "__________________________________________________________________________________________________\n",
      "embedding_1 (Embedding)         (None, 1024, 200)    83499000    input_1[0][0]                    \n",
      "__________________________________________________________________________________________________\n",
      "conv1d_1 (Conv1D)               (None, 1024, 256)    153856      embedding_1[0][0]                \n",
      "__________________________________________________________________________________________________\n",
      "zero_padding1d_1 (ZeroPadding1D (None, 1025, 256)    0           conv1d_1[0][0]                   \n",
      "__________________________________________________________________________________________________\n",
      "zero_padding1d_2 (ZeroPadding1D (None, 1025, 256)    0           conv1d_1[0][0]                   \n",
      "__________________________________________________________________________________________________\n",
      "zero_padding1d_3 (ZeroPadding1D (None, 1025, 256)    0           conv1d_1[0][0]                   \n",
      "__________________________________________________________________________________________________\n",
      "zero_padding1d_4 (ZeroPadding1D (None, 1025, 256)    0           conv1d_1[0][0]                   \n",
      "__________________________________________________________________________________________________\n",
      "zero_padding1d_5 (ZeroPadding1D (None, 1025, 256)    0           conv1d_1[0][0]                   \n",
      "__________________________________________________________________________________________________\n",
      "zero_padding1d_6 (ZeroPadding1D (None, 1025, 256)    0           conv1d_1[0][0]                   \n",
      "__________________________________________________________________________________________________\n",
      "zero_padding1d_7 (ZeroPadding1D (None, 1025, 256)    0           conv1d_1[0][0]                   \n",
      "__________________________________________________________________________________________________\n",
      "zero_padding1d_8 (ZeroPadding1D (None, 1025, 256)    0           conv1d_1[0][0]                   \n",
      "__________________________________________________________________________________________________\n",
      "zero_padding1d_9 (ZeroPadding1D (None, 1025, 256)    0           conv1d_1[0][0]                   \n",
      "__________________________________________________________________________________________________\n",
      "zero_padding1d_10 (ZeroPadding1 (None, 1025, 256)    0           conv1d_1[0][0]                   \n",
      "__________________________________________________________________________________________________\n",
      "zero_padding1d_11 (ZeroPadding1 (None, 1025, 256)    0           conv1d_1[0][0]                   \n",
      "__________________________________________________________________________________________________\n",
      "zero_padding1d_12 (ZeroPadding1 (None, 1025, 256)    0           conv1d_1[0][0]                   \n",
      "__________________________________________________________________________________________________\n",
      "zero_padding1d_13 (ZeroPadding1 (None, 1025, 256)    0           conv1d_1[0][0]                   \n",
      "__________________________________________________________________________________________________\n",
      "zero_padding1d_14 (ZeroPadding1 (None, 1025, 256)    0           conv1d_1[0][0]                   \n",
      "__________________________________________________________________________________________________\n",
      "zero_padding1d_15 (ZeroPadding1 (None, 1025, 256)    0           conv1d_1[0][0]                   \n",
      "__________________________________________________________________________________________________\n",
      "zero_padding1d_16 (ZeroPadding1 (None, 1025, 256)    0           conv1d_1[0][0]                   \n",
      "__________________________________________________________________________________________________\n",
      "zero_padding1d_17 (ZeroPadding1 (None, 1025, 256)    0           conv1d_1[0][0]                   \n",
      "__________________________________________________________________________________________________\n",
      "zero_padding1d_18 (ZeroPadding1 (None, 1025, 256)    0           conv1d_1[0][0]                   \n",
      "__________________________________________________________________________________________________\n",
      "zero_padding1d_19 (ZeroPadding1 (None, 1025, 256)    0           conv1d_1[0][0]                   \n",
      "__________________________________________________________________________________________________\n",
      "zero_padding1d_20 (ZeroPadding1 (None, 1025, 256)    0           conv1d_1[0][0]                   \n",
      "__________________________________________________________________________________________________\n",
      "max_pooling1d_1 (MaxPooling1D)  (None, 512, 256)     0           zero_padding1d_1[0][0]           \n",
      "__________________________________________________________________________________________________\n",
      "max_pooling1d_2 (MaxPooling1D)  (None, 512, 256)     0           zero_padding1d_2[0][0]           \n",
      "__________________________________________________________________________________________________\n",
      "max_pooling1d_3 (MaxPooling1D)  (None, 512, 256)     0           zero_padding1d_3[0][0]           \n",
      "__________________________________________________________________________________________________\n",
      "max_pooling1d_4 (MaxPooling1D)  (None, 512, 256)     0           zero_padding1d_4[0][0]           \n",
      "__________________________________________________________________________________________________\n",
      "max_pooling1d_5 (MaxPooling1D)  (None, 512, 256)     0           zero_padding1d_5[0][0]           \n",
      "__________________________________________________________________________________________________\n",
      "max_pooling1d_6 (MaxPooling1D)  (None, 512, 256)     0           zero_padding1d_6[0][0]           \n",
      "__________________________________________________________________________________________________\n",
      "max_pooling1d_7 (MaxPooling1D)  (None, 512, 256)     0           zero_padding1d_7[0][0]           \n",
      "__________________________________________________________________________________________________\n",
      "max_pooling1d_8 (MaxPooling1D)  (None, 512, 256)     0           zero_padding1d_8[0][0]           \n",
      "__________________________________________________________________________________________________\n",
      "max_pooling1d_9 (MaxPooling1D)  (None, 512, 256)     0           zero_padding1d_9[0][0]           \n",
      "__________________________________________________________________________________________________\n",
      "max_pooling1d_10 (MaxPooling1D) (None, 512, 256)     0           zero_padding1d_10[0][0]          \n",
      "__________________________________________________________________________________________________\n",
      "max_pooling1d_11 (MaxPooling1D) (None, 512, 256)     0           zero_padding1d_11[0][0]          \n",
      "__________________________________________________________________________________________________\n",
      "max_pooling1d_12 (MaxPooling1D) (None, 512, 256)     0           zero_padding1d_12[0][0]          \n",
      "__________________________________________________________________________________________________\n",
      "max_pooling1d_13 (MaxPooling1D) (None, 512, 256)     0           zero_padding1d_13[0][0]          \n",
      "__________________________________________________________________________________________________\n",
      "max_pooling1d_14 (MaxPooling1D) (None, 512, 256)     0           zero_padding1d_14[0][0]          \n",
      "__________________________________________________________________________________________________\n",
      "max_pooling1d_15 (MaxPooling1D) (None, 512, 256)     0           zero_padding1d_15[0][0]          \n",
      "__________________________________________________________________________________________________\n",
      "max_pooling1d_16 (MaxPooling1D) (None, 512, 256)     0           zero_padding1d_16[0][0]          \n",
      "__________________________________________________________________________________________________\n",
      "max_pooling1d_17 (MaxPooling1D) (None, 512, 256)     0           zero_padding1d_17[0][0]          \n",
      "__________________________________________________________________________________________________\n",
      "max_pooling1d_18 (MaxPooling1D) (None, 512, 256)     0           zero_padding1d_18[0][0]          \n",
      "__________________________________________________________________________________________________\n",
      "max_pooling1d_19 (MaxPooling1D) (None, 512, 256)     0           zero_padding1d_19[0][0]          \n",
      "__________________________________________________________________________________________________\n",
      "max_pooling1d_20 (MaxPooling1D) (None, 512, 256)     0           zero_padding1d_20[0][0]          \n",
      "__________________________________________________________________________________________________\n",
      "conv1d_2 (Conv1D)               (None, 512, 128)     98432       max_pooling1d_1[0][0]            \n",
      "__________________________________________________________________________________________________\n",
      "conv1d_4 (Conv1D)               (None, 512, 128)     98432       max_pooling1d_2[0][0]            \n",
      "__________________________________________________________________________________________________\n",
      "conv1d_6 (Conv1D)               (None, 512, 128)     98432       max_pooling1d_3[0][0]            \n",
      "__________________________________________________________________________________________________\n",
      "conv1d_8 (Conv1D)               (None, 512, 128)     98432       max_pooling1d_4[0][0]            \n",
      "__________________________________________________________________________________________________\n",
      "conv1d_10 (Conv1D)              (None, 512, 128)     98432       max_pooling1d_5[0][0]            \n",
      "__________________________________________________________________________________________________\n",
      "conv1d_12 (Conv1D)              (None, 512, 128)     98432       max_pooling1d_6[0][0]            \n",
      "__________________________________________________________________________________________________\n",
      "conv1d_14 (Conv1D)              (None, 512, 128)     98432       max_pooling1d_7[0][0]            \n",
      "__________________________________________________________________________________________________\n",
      "conv1d_16 (Conv1D)              (None, 512, 128)     98432       max_pooling1d_8[0][0]            \n",
      "__________________________________________________________________________________________________\n",
      "conv1d_18 (Conv1D)              (None, 512, 128)     98432       max_pooling1d_9[0][0]            \n",
      "__________________________________________________________________________________________________\n",
      "conv1d_20 (Conv1D)              (None, 512, 128)     98432       max_pooling1d_10[0][0]           \n",
      "__________________________________________________________________________________________________\n",
      "conv1d_22 (Conv1D)              (None, 512, 128)     98432       max_pooling1d_11[0][0]           \n",
      "__________________________________________________________________________________________________\n",
      "conv1d_24 (Conv1D)              (None, 512, 128)     98432       max_pooling1d_12[0][0]           \n",
      "__________________________________________________________________________________________________\n",
      "conv1d_26 (Conv1D)              (None, 512, 128)     98432       max_pooling1d_13[0][0]           \n",
      "__________________________________________________________________________________________________\n",
      "conv1d_28 (Conv1D)              (None, 512, 128)     98432       max_pooling1d_14[0][0]           \n",
      "__________________________________________________________________________________________________\n",
      "conv1d_30 (Conv1D)              (None, 512, 128)     98432       max_pooling1d_15[0][0]           \n",
      "__________________________________________________________________________________________________\n",
      "conv1d_32 (Conv1D)              (None, 512, 128)     98432       max_pooling1d_16[0][0]           \n",
      "__________________________________________________________________________________________________\n",
      "conv1d_34 (Conv1D)              (None, 512, 128)     98432       max_pooling1d_17[0][0]           \n",
      "__________________________________________________________________________________________________\n",
      "conv1d_36 (Conv1D)              (None, 512, 128)     98432       max_pooling1d_18[0][0]           \n",
      "__________________________________________________________________________________________________\n",
      "conv1d_38 (Conv1D)              (None, 512, 128)     98432       max_pooling1d_19[0][0]           \n",
      "__________________________________________________________________________________________________\n",
      "conv1d_40 (Conv1D)              (None, 512, 128)     98432       max_pooling1d_20[0][0]           \n",
      "__________________________________________________________________________________________________\n",
      "conv1d_3 (Conv1D)               (None, 512, 64)      24640       conv1d_2[0][0]                   \n",
      "__________________________________________________________________________________________________\n",
      "conv1d_5 (Conv1D)               (None, 512, 64)      24640       conv1d_4[0][0]                   \n",
      "__________________________________________________________________________________________________\n",
      "conv1d_7 (Conv1D)               (None, 512, 64)      24640       conv1d_6[0][0]                   \n",
      "__________________________________________________________________________________________________\n",
      "conv1d_9 (Conv1D)               (None, 512, 64)      24640       conv1d_8[0][0]                   \n",
      "__________________________________________________________________________________________________\n",
      "conv1d_11 (Conv1D)              (None, 512, 64)      24640       conv1d_10[0][0]                  \n",
      "__________________________________________________________________________________________________\n",
      "conv1d_13 (Conv1D)              (None, 512, 64)      24640       conv1d_12[0][0]                  \n",
      "__________________________________________________________________________________________________\n",
      "conv1d_15 (Conv1D)              (None, 512, 64)      24640       conv1d_14[0][0]                  \n",
      "__________________________________________________________________________________________________\n",
      "conv1d_17 (Conv1D)              (None, 512, 64)      24640       conv1d_16[0][0]                  \n",
      "__________________________________________________________________________________________________\n",
      "conv1d_19 (Conv1D)              (None, 512, 64)      24640       conv1d_18[0][0]                  \n",
      "__________________________________________________________________________________________________\n",
      "conv1d_21 (Conv1D)              (None, 512, 64)      24640       conv1d_20[0][0]                  \n",
      "__________________________________________________________________________________________________\n",
      "conv1d_23 (Conv1D)              (None, 512, 64)      24640       conv1d_22[0][0]                  \n",
      "__________________________________________________________________________________________________\n",
      "conv1d_25 (Conv1D)              (None, 512, 64)      24640       conv1d_24[0][0]                  \n",
      "__________________________________________________________________________________________________\n",
      "conv1d_27 (Conv1D)              (None, 512, 64)      24640       conv1d_26[0][0]                  \n",
      "__________________________________________________________________________________________________\n",
      "conv1d_29 (Conv1D)              (None, 512, 64)      24640       conv1d_28[0][0]                  \n",
      "__________________________________________________________________________________________________\n",
      "conv1d_31 (Conv1D)              (None, 512, 64)      24640       conv1d_30[0][0]                  \n",
      "__________________________________________________________________________________________________\n",
      "conv1d_33 (Conv1D)              (None, 512, 64)      24640       conv1d_32[0][0]                  \n",
      "__________________________________________________________________________________________________\n",
      "conv1d_35 (Conv1D)              (None, 512, 64)      24640       conv1d_34[0][0]                  \n",
      "__________________________________________________________________________________________________\n",
      "conv1d_37 (Conv1D)              (None, 512, 64)      24640       conv1d_36[0][0]                  \n",
      "__________________________________________________________________________________________________\n",
      "conv1d_39 (Conv1D)              (None, 512, 64)      24640       conv1d_38[0][0]                  \n",
      "__________________________________________________________________________________________________\n",
      "conv1d_41 (Conv1D)              (None, 512, 64)      24640       conv1d_40[0][0]                  \n",
      "__________________________________________________________________________________________________\n",
      "flatten_1location_traffic_conve (None, 32768)        0           conv1d_3[0][0]                   \n",
      "__________________________________________________________________________________________________\n",
      "flatten_1location_distance_from (None, 32768)        0           conv1d_5[0][0]                   \n",
      "__________________________________________________________________________________________________\n",
      "flatten_1location_easy_to_find  (None, 32768)        0           conv1d_7[0][0]                   \n",
      "__________________________________________________________________________________________________\n",
      "flatten_1service_wait_time (Fla (None, 32768)        0           conv1d_9[0][0]                   \n",
      "__________________________________________________________________________________________________\n",
      "flatten_1service_waiters_attitu (None, 32768)        0           conv1d_11[0][0]                  \n",
      "__________________________________________________________________________________________________\n",
      "flatten_1service_parking_conven (None, 32768)        0           conv1d_13[0][0]                  \n",
      "__________________________________________________________________________________________________\n",
      "flatten_1service_serving_speed  (None, 32768)        0           conv1d_15[0][0]                  \n",
      "__________________________________________________________________________________________________\n",
      "flatten_1price_level (Flatten)  (None, 32768)        0           conv1d_17[0][0]                  \n",
      "__________________________________________________________________________________________________\n",
      "flatten_1price_cost_effective ( (None, 32768)        0           conv1d_19[0][0]                  \n",
      "__________________________________________________________________________________________________\n",
      "flatten_1price_discount (Flatte (None, 32768)        0           conv1d_21[0][0]                  \n",
      "__________________________________________________________________________________________________\n",
      "flatten_1environment_decoration (None, 32768)        0           conv1d_23[0][0]                  \n",
      "__________________________________________________________________________________________________\n",
      "flatten_1environment_noise (Fla (None, 32768)        0           conv1d_25[0][0]                  \n",
      "__________________________________________________________________________________________________\n",
      "flatten_1environment_space (Fla (None, 32768)        0           conv1d_27[0][0]                  \n",
      "__________________________________________________________________________________________________\n",
      "flatten_1environment_cleaness ( (None, 32768)        0           conv1d_29[0][0]                  \n",
      "__________________________________________________________________________________________________\n",
      "flatten_1dish_portion (Flatten) (None, 32768)        0           conv1d_31[0][0]                  \n",
      "__________________________________________________________________________________________________\n",
      "flatten_1dish_taste (Flatten)   (None, 32768)        0           conv1d_33[0][0]                  \n",
      "__________________________________________________________________________________________________\n",
      "flatten_1dish_look (Flatten)    (None, 32768)        0           conv1d_35[0][0]                  \n",
      "__________________________________________________________________________________________________\n",
      "flatten_1dish_recommendation (F (None, 32768)        0           conv1d_37[0][0]                  \n",
      "__________________________________________________________________________________________________\n",
      "flatten_1others_overall_experie (None, 32768)        0           conv1d_39[0][0]                  \n",
      "__________________________________________________________________________________________________\n",
      "flatten_1others_willing_to_cons (None, 32768)        0           conv1d_41[0][0]                  \n",
=======
      "__________________________________________________________________________________________________\n",
      "embedding_1 (Embedding)         (None, 1024, 400)    68000000    input_1[0][0]                    \n",
      "__________________________________________________________________________________________________\n",
      "conv1d_2 (Conv1D)               (None, 1024, 128)    102528      embedding_1[0][0]                \n",
      "__________________________________________________________________________________________________\n",
      "conv1d_1 (Conv1D)               (None, 1024, 128)    153728      embedding_1[0][0]                \n",
      "__________________________________________________________________________________________________\n",
      "conv1d_3 (Conv1D)               (None, 1024, 128)    204928      embedding_1[0][0]                \n",
      "__________________________________________________________________________________________________\n",
      "conv1d_4 (Conv1D)               (None, 1024, 128)    256128      embedding_1[0][0]                \n",
      "__________________________________________________________________________________________________\n",
      "dense_2 (Dense)                 (None, 1024, 1)      129         conv1d_2[0][0]                   \n",
      "__________________________________________________________________________________________________\n",
      "dense_1 (Dense)                 (None, 1024, 1)      129         conv1d_1[0][0]                   \n",
      "__________________________________________________________________________________________________\n",
      "dense_3 (Dense)                 (None, 1024, 1)      129         conv1d_3[0][0]                   \n",
      "__________________________________________________________________________________________________\n",
      "dense_4 (Dense)                 (None, 1024, 1)      129         conv1d_4[0][0]                   \n",
      "__________________________________________________________________________________________________\n",
      "reshape_2 (Reshape)             (None, 1024)         0           dense_2[0][0]                    \n",
      "__________________________________________________________________________________________________\n",
      "reshape_1 (Reshape)             (None, 1024)         0           dense_1[0][0]                    \n",
      "__________________________________________________________________________________________________\n",
      "reshape_3 (Reshape)             (None, 1024)         0           dense_3[0][0]                    \n",
      "__________________________________________________________________________________________________\n",
      "reshape_4 (Reshape)             (None, 1024)         0           dense_4[0][0]                    \n",
      "__________________________________________________________________________________________________\n",
      "repeat_vector_2 (RepeatVector)  (None, 128, 1024)    0           reshape_2[0][0]                  \n",
      "__________________________________________________________________________________________________\n",
      "repeat_vector_1 (RepeatVector)  (None, 128, 1024)    0           reshape_1[0][0]                  \n",
      "__________________________________________________________________________________________________\n",
      "repeat_vector_3 (RepeatVector)  (None, 128, 1024)    0           reshape_3[0][0]                  \n",
      "__________________________________________________________________________________________________\n",
      "repeat_vector_4 (RepeatVector)  (None, 128, 1024)    0           reshape_4[0][0]                  \n",
      "__________________________________________________________________________________________________\n",
      "permute_2 (Permute)             (None, 1024, 128)    0           repeat_vector_2[0][0]            \n",
      "__________________________________________________________________________________________________\n",
      "permute_1 (Permute)             (None, 1024, 128)    0           repeat_vector_1[0][0]            \n",
      "__________________________________________________________________________________________________\n",
      "permute_3 (Permute)             (None, 1024, 128)    0           repeat_vector_3[0][0]            \n",
      "__________________________________________________________________________________________________\n",
      "permute_4 (Permute)             (None, 1024, 128)    0           repeat_vector_4[0][0]            \n",
      "__________________________________________________________________________________________________\n",
      "multiply_2 (Multiply)           (None, 1024, 128)    0           conv1d_2[0][0]                   \n",
      "                                                                 permute_2[0][0]                  \n",
      "__________________________________________________________________________________________________\n",
      "multiply_1 (Multiply)           (None, 1024, 128)    0           conv1d_1[0][0]                   \n",
      "                                                                 permute_1[0][0]                  \n",
      "__________________________________________________________________________________________________\n",
      "multiply_3 (Multiply)           (None, 1024, 128)    0           conv1d_3[0][0]                   \n",
      "                                                                 permute_3[0][0]                  \n",
      "__________________________________________________________________________________________________\n",
      "multiply_4 (Multiply)           (None, 1024, 128)    0           conv1d_4[0][0]                   \n",
      "                                                                 permute_4[0][0]                  \n",
      "__________________________________________________________________________________________________\n",
      "max_pooling1d_2 (MaxPooling1D)  (None, 511, 128)     0           multiply_2[0][0]                 \n",
      "__________________________________________________________________________________________________\n",
      "max_pooling1d_1 (MaxPooling1D)  (None, 511, 128)     0           multiply_1[0][0]                 \n",
      "__________________________________________________________________________________________________\n",
      "max_pooling1d_3 (MaxPooling1D)  (None, 511, 128)     0           multiply_3[0][0]                 \n",
      "__________________________________________________________________________________________________\n",
      "max_pooling1d_4 (MaxPooling1D)  (None, 511, 128)     0           multiply_4[0][0]                 \n",
      "__________________________________________________________________________________________________\n",
      "concatenate_1 (Concatenate)     (None, 511, 512)     0           max_pooling1d_2[0][0]            \n",
      "                                                                 max_pooling1d_1[0][0]            \n",
      "                                                                 max_pooling1d_3[0][0]            \n",
      "                                                                 max_pooling1d_4[0][0]            \n",
      "__________________________________________________________________________________________________\n",
      "conv1d_5 (Conv1D)               (None, 255, 128)     196736      concatenate_1[0][0]              \n",
      "__________________________________________________________________________________________________\n",
      "max_pooling1d_5 (MaxPooling1D)  (None, 127, 128)     0           conv1d_5[0][0]                   \n",
      "__________________________________________________________________________________________________\n",
      "flatten_1location_traffic_conve (None, 16256)        0           max_pooling1d_5[0][0]            \n",
      "__________________________________________________________________________________________________\n",
      "flatten_1location_distance_from (None, 16256)        0           max_pooling1d_5[0][0]            \n",
      "__________________________________________________________________________________________________\n",
      "flatten_1location_easy_to_find  (None, 16256)        0           max_pooling1d_5[0][0]            \n",
      "__________________________________________________________________________________________________\n",
      "flatten_1service_wait_time (Fla (None, 16256)        0           max_pooling1d_5[0][0]            \n",
      "__________________________________________________________________________________________________\n",
      "flatten_1service_waiters_attitu (None, 16256)        0           max_pooling1d_5[0][0]            \n",
      "__________________________________________________________________________________________________\n",
      "flatten_1service_parking_conven (None, 16256)        0           max_pooling1d_5[0][0]            \n",
      "__________________________________________________________________________________________________\n",
      "flatten_1service_serving_speed  (None, 16256)        0           max_pooling1d_5[0][0]            \n",
      "__________________________________________________________________________________________________\n",
      "flatten_1price_level (Flatten)  (None, 16256)        0           max_pooling1d_5[0][0]            \n",
      "__________________________________________________________________________________________________\n",
      "flatten_1price_cost_effective ( (None, 16256)        0           max_pooling1d_5[0][0]            \n",
      "__________________________________________________________________________________________________\n",
      "flatten_1price_discount (Flatte (None, 16256)        0           max_pooling1d_5[0][0]            \n",
      "__________________________________________________________________________________________________\n",
      "flatten_1environment_decoration (None, 16256)        0           max_pooling1d_5[0][0]            \n",
      "__________________________________________________________________________________________________\n",
      "flatten_1environment_noise (Fla (None, 16256)        0           max_pooling1d_5[0][0]            \n",
      "__________________________________________________________________________________________________\n",
      "flatten_1environment_space (Fla (None, 16256)        0           max_pooling1d_5[0][0]            \n",
      "__________________________________________________________________________________________________\n",
      "flatten_1environment_cleaness ( (None, 16256)        0           max_pooling1d_5[0][0]            \n",
      "__________________________________________________________________________________________________\n",
      "flatten_1dish_portion (Flatten) (None, 16256)        0           max_pooling1d_5[0][0]            \n",
      "__________________________________________________________________________________________________\n",
      "flatten_1dish_taste (Flatten)   (None, 16256)        0           max_pooling1d_5[0][0]            \n",
      "__________________________________________________________________________________________________\n",
      "flatten_1dish_look (Flatten)    (None, 16256)        0           max_pooling1d_5[0][0]            \n",
      "__________________________________________________________________________________________________\n",
      "flatten_1dish_recommendation (F (None, 16256)        0           max_pooling1d_5[0][0]            \n",
      "__________________________________________________________________________________________________\n",
      "flatten_1others_overall_experie (None, 16256)        0           max_pooling1d_5[0][0]            \n",
      "__________________________________________________________________________________________________\n",
      "flatten_1others_willing_to_cons (None, 16256)        0           max_pooling1d_5[0][0]            \n",
      "__________________________________________________________________________________________________\n",
      "Dense_1_location_traffic_conven (None, 32)           520224      flatten_1location_traffic_conveni\n",
      "__________________________________________________________________________________________________\n",
      "Dense_1_location_distance_from_ (None, 32)           520224      flatten_1location_distance_from_b\n",
      "__________________________________________________________________________________________________\n",
      "Dense_1_location_easy_to_find ( (None, 32)           520224      flatten_1location_easy_to_find[0]\n",
      "__________________________________________________________________________________________________\n",
      "Dense_1_service_wait_time (Dens (None, 32)           520224      flatten_1service_wait_time[0][0] \n",
      "__________________________________________________________________________________________________\n",
      "Dense_1_service_waiters_attitud (None, 32)           520224      flatten_1service_waiters_attitude\n",
      "__________________________________________________________________________________________________\n",
      "Dense_1_service_parking_conveni (None, 32)           520224      flatten_1service_parking_convenie\n",
      "__________________________________________________________________________________________________\n",
      "Dense_1_service_serving_speed ( (None, 32)           520224      flatten_1service_serving_speed[0]\n",
      "__________________________________________________________________________________________________\n",
      "Dense_1_price_level (Dense)     (None, 32)           520224      flatten_1price_level[0][0]       \n",
      "__________________________________________________________________________________________________\n",
      "Dense_1_price_cost_effective (D (None, 32)           520224      flatten_1price_cost_effective[0][\n",
      "__________________________________________________________________________________________________\n",
      "Dense_1_price_discount (Dense)  (None, 32)           520224      flatten_1price_discount[0][0]    \n",
      "__________________________________________________________________________________________________\n",
      "Dense_1_environment_decoration  (None, 32)           520224      flatten_1environment_decoration[0\n",
      "__________________________________________________________________________________________________\n",
      "Dense_1_environment_noise (Dens (None, 32)           520224      flatten_1environment_noise[0][0] \n",
      "__________________________________________________________________________________________________\n",
      "Dense_1_environment_space (Dens (None, 32)           520224      flatten_1environment_space[0][0] \n",
      "__________________________________________________________________________________________________\n",
      "Dense_1_environment_cleaness (D (None, 32)           520224      flatten_1environment_cleaness[0][\n",
      "__________________________________________________________________________________________________\n",
      "Dense_1_dish_portion (Dense)    (None, 32)           520224      flatten_1dish_portion[0][0]      \n",
      "__________________________________________________________________________________________________\n",
      "Dense_1_dish_taste (Dense)      (None, 32)           520224      flatten_1dish_taste[0][0]        \n",
      "__________________________________________________________________________________________________\n",
      "Dense_1_dish_look (Dense)       (None, 32)           520224      flatten_1dish_look[0][0]         \n",
      "__________________________________________________________________________________________________\n",
      "Dense_1_dish_recommendation (De (None, 32)           520224      flatten_1dish_recommendation[0][0\n",
      "__________________________________________________________________________________________________\n",
      "Dense_1_others_overall_experien (None, 32)           520224      flatten_1others_overall_experienc\n",
      "__________________________________________________________________________________________________\n",
      "Dense_1_others_willing_to_consu (None, 32)           520224      flatten_1others_willing_to_consum\n",
      "__________________________________________________________________________________________________\n",
      "output_location_traffic_conveni (None, 4)            132         Dense_1_location_traffic_convenie\n",
      "__________________________________________________________________________________________________\n",
      "output_location_distance_from_b (None, 4)            132         Dense_1_location_distance_from_bu\n",
      "__________________________________________________________________________________________________\n",
      "output_location_easy_to_find (D (None, 4)            132         Dense_1_location_easy_to_find[0][\n",
      "__________________________________________________________________________________________________\n",
      "output_service_wait_time (Dense (None, 4)            132         Dense_1_service_wait_time[0][0]  \n",
      "__________________________________________________________________________________________________\n",
      "output_service_waiters_attitude (None, 4)            132         Dense_1_service_waiters_attitude[\n",
      "__________________________________________________________________________________________________\n",
      "output_service_parking_convenie (None, 4)            132         Dense_1_service_parking_convenien\n",
      "__________________________________________________________________________________________________\n",
      "output_service_serving_speed (D (None, 4)            132         Dense_1_service_serving_speed[0][\n",
      "__________________________________________________________________________________________________\n",
      "output_price_level (Dense)      (None, 4)            132         Dense_1_price_level[0][0]        \n",
      "__________________________________________________________________________________________________\n",
      "output_price_cost_effective (De (None, 4)            132         Dense_1_price_cost_effective[0][0\n",
      "__________________________________________________________________________________________________\n",
      "output_price_discount (Dense)   (None, 4)            132         Dense_1_price_discount[0][0]     \n",
      "__________________________________________________________________________________________________\n",
      "output_environment_decoration ( (None, 4)            132         Dense_1_environment_decoration[0]\n",
      "__________________________________________________________________________________________________\n",
      "output_environment_noise (Dense (None, 4)            132         Dense_1_environment_noise[0][0]  \n",
      "__________________________________________________________________________________________________\n",
      "output_environment_space (Dense (None, 4)            132         Dense_1_environment_space[0][0]  \n",
      "__________________________________________________________________________________________________\n",
      "output_environment_cleaness (De (None, 4)            132         Dense_1_environment_cleaness[0][0\n",
>>>>>>> 029e816227ee22da107c0551fd1c0c9551900cb2
      "__________________________________________________________________________________________________\n",
      "output_dish_portion (Dense)     (None, 4)            132         Dense_1_dish_portion[0][0]       \n",
      "__________________________________________________________________________________________________\n",
      "output_dish_taste (Dense)       (None, 4)            132         Dense_1_dish_taste[0][0]         \n",
      "__________________________________________________________________________________________________\n",
      "output_dish_look (Dense)        (None, 4)            132         Dense_1_dish_look[0][0]          \n",
      "__________________________________________________________________________________________________\n",
      "output_dish_recommendation (Den (None, 4)            132         Dense_1_dish_recommendation[0][0]\n",
      "__________________________________________________________________________________________________\n",
      "output_others_overall_experienc (None, 4)            132         Dense_1_others_overall_experience\n",
      "__________________________________________________________________________________________________\n",
      "output_others_willing_to_consum (None, 4)            132         Dense_1_others_willing_to_consume\n",
      "==================================================================================================\n",
<<<<<<< HEAD
      "Total params: 107,089,096\n",
      "Trainable params: 23,590,096\n",
      "Non-trainable params: 83,499,000\n",
=======
      "Total params: 79,321,684\n",
      "Trainable params: 11,321,684\n",
      "Non-trainable params: 68,000,000\n",
>>>>>>> 029e816227ee22da107c0551fd1c0c9551900cb2
      "__________________________________________________________________________________________________\n"
     ]
    }
   ],
   "source": [
    "\n",
    "model = build_model(embedding_layer, maxlen, targets)\n",
    "model.summary()\n",
    "model.compile(optimizer='adam', loss='categorical_crossentropy')"
   ]
  },
  {
   "cell_type": "code",
   "execution_count": 20,
   "metadata": {},
   "outputs": [
    {
     "name": "stdout",
     "output_type": "stream",
     "text": [
<<<<<<< HEAD
      "Train on 105000 samples, validate on 15000 samples\n",
      "Epoch 1/20\n",
      "\n",
      "Epoch 00001: LearningRateScheduler reducing learning rate to 0.05.\n",
      "105000/105000 [==============================] - 625s 6ms/step - loss: 104.5706 - output_location_traffic_convenience_loss: 3.6252 - output_location_distance_from_business_district_loss: 3.2727 - output_location_easy_to_find_loss: 3.7445 - output_service_wait_time_loss: 1.8785 - output_service_waiters_attitude_loss: 9.6071 - output_service_parking_convenience_loss: 1.0324 - output_service_serving_speed_loss: 2.5019 - output_price_level_loss: 8.0089 - output_price_cost_effective_loss: 3.8001 - output_price_discount_loss: 6.2559 - output_environment_decoration_loss: 10.0607 - output_environment_noise_loss: 4.8432 - output_environment_space_loss: 6.0780 - output_environment_cleaness_loss: 5.8939 - output_dish_portion_loss: 7.3806 - output_dish_taste_loss: 7.6179 - output_dish_look_loss: 4.4551 - output_dish_recommendation_loss: 3.1055 - output_others_overall_experience_loss: 5.3614 - output_others_willing_to_consume_again_loss: 6.0473 - output_location_traffic_convenience_f1: 0.7749 - output_location_distance_from_business_district_f1: 0.7968 - output_location_easy_to_find_f1: 0.7675 - output_service_wait_time_f1: 0.8833 - output_service_waiters_attitude_f1: 0.4038 - output_service_parking_convenience_f1: 0.9358 - output_service_serving_speed_f1: 0.8446 - output_price_level_f1: 0.5030 - output_price_cost_effective_f1: 0.7641 - output_price_discount_f1: 0.6117 - output_environment_decoration_f1: 0.3757 - output_environment_noise_f1: 0.6994 - output_environment_space_f1: 0.6228 - output_environment_cleaness_f1: 0.6342 - output_dish_portion_f1: 0.5420 - output_dish_taste_f1: 0.5272 - output_dish_look_f1: 0.7235 - output_dish_recommendation_f1: 0.8072 - output_others_overall_experience_f1: 0.6672 - output_others_willing_to_consume_again_f1: 0.6247 - val_loss: 104.3486 - val_output_location_traffic_convenience_loss: 3.4847 - val_output_location_distance_from_business_district_loss: 3.1892 - val_output_location_easy_to_find_loss: 3.7437 - val_output_service_wait_time_loss: 1.8944 - val_output_service_waiters_attitude_loss: 9.6795 - val_output_service_parking_convenience_loss: 1.0251 - val_output_service_serving_speed_loss: 2.4962 - val_output_price_level_loss: 8.0623 - val_output_price_cost_effective_loss: 3.8383 - val_output_price_discount_loss: 6.1657 - val_output_environment_decoration_loss: 10.0878 - val_output_environment_noise_loss: 4.8129 - val_output_environment_space_loss: 5.9196 - val_output_environment_cleaness_loss: 5.8068 - val_output_dish_portion_loss: 7.4014 - val_output_dish_taste_loss: 7.6894 - val_output_dish_look_loss: 4.5582 - val_output_dish_recommendation_loss: 3.1344 - val_output_others_overall_experience_loss: 5.2921 - val_output_others_willing_to_consume_again_loss: 6.0669 - val_output_location_traffic_convenience_f1: 0.7838 - val_output_location_distance_from_business_district_f1: 0.8021 - val_output_location_easy_to_find_f1: 0.7677 - val_output_service_wait_time_f1: 0.8825 - val_output_service_waiters_attitude_f1: 0.3995 - val_output_service_parking_convenience_f1: 0.9364 - val_output_service_serving_speed_f1: 0.8451 - val_output_price_level_f1: 0.4998 - val_output_price_cost_effective_f1: 0.7619 - val_output_price_discount_f1: 0.6175 - val_output_environment_decoration_f1: 0.3741 - val_output_environment_noise_f1: 0.7014 - val_output_environment_space_f1: 0.6327 - val_output_environment_cleaness_f1: 0.6397 - val_output_dish_portion_f1: 0.5408 - val_output_dish_taste_f1: 0.5229 - val_output_dish_look_f1: 0.7172 - val_output_dish_recommendation_f1: 0.8055 - val_output_others_overall_experience_f1: 0.6717 - val_output_others_willing_to_consume_again_f1: 0.6236\n",
      "Epoch 2/20\n",
      "\n",
      "Epoch 00002: LearningRateScheduler reducing learning rate to 0.04982956620103283.\n",
      "105000/105000 [==============================] - 619s 6ms/step - loss: 104.5817 - output_location_traffic_convenience_loss: 3.6255 - output_location_distance_from_business_district_loss: 3.2727 - output_location_easy_to_find_loss: 3.7448 - output_service_wait_time_loss: 1.8784 - output_service_waiters_attitude_loss: 9.6079 - output_service_parking_convenience_loss: 1.0322 - output_service_serving_speed_loss: 2.5021 - output_price_level_loss: 8.0099 - output_price_cost_effective_loss: 3.8005 - output_price_discount_loss: 6.2564 - output_environment_decoration_loss: 10.0618 - output_environment_noise_loss: 4.8439 - output_environment_space_loss: 6.0791 - output_environment_cleaness_loss: 5.8949 - output_dish_portion_loss: 7.3810 - output_dish_taste_loss: 7.6189 - output_dish_look_loss: 4.4555 - output_dish_recommendation_loss: 3.1059 - output_others_overall_experience_loss: 5.3620 - output_others_willing_to_consume_again_loss: 6.0481 - output_location_traffic_convenience_f1: 0.7751 - output_location_distance_from_business_district_f1: 0.7970 - output_location_easy_to_find_f1: 0.7677 - output_service_wait_time_f1: 0.8835 - output_service_waiters_attitude_f1: 0.4039 - output_service_parking_convenience_f1: 0.9360 - output_service_serving_speed_f1: 0.8448 - output_price_level_f1: 0.5030 - output_price_cost_effective_f1: 0.7642 - output_price_discount_f1: 0.6118 - output_environment_decoration_f1: 0.3757 - output_environment_noise_f1: 0.6995 - output_environment_space_f1: 0.6228 - output_environment_cleaness_f1: 0.6343 - output_dish_portion_f1: 0.5421 - output_dish_taste_f1: 0.5273 - output_dish_look_f1: 0.7236 - output_dish_recommendation_f1: 0.8073 - output_others_overall_experience_f1: 0.6673 - output_others_willing_to_consume_again_f1: 0.6248 - val_loss: 104.3486 - val_output_location_traffic_convenience_loss: 3.4847 - val_output_location_distance_from_business_district_loss: 3.1892 - val_output_location_easy_to_find_loss: 3.7437 - val_output_service_wait_time_loss: 1.8944 - val_output_service_waiters_attitude_loss: 9.6795 - val_output_service_parking_convenience_loss: 1.0251 - val_output_service_serving_speed_loss: 2.4962 - val_output_price_level_loss: 8.0623 - val_output_price_cost_effective_loss: 3.8383 - val_output_price_discount_loss: 6.1657 - val_output_environment_decoration_loss: 10.0878 - val_output_environment_noise_loss: 4.8129 - val_output_environment_space_loss: 5.9196 - val_output_environment_cleaness_loss: 5.8068 - val_output_dish_portion_loss: 7.4014 - val_output_dish_taste_loss: 7.6894 - val_output_dish_look_loss: 4.5582 - val_output_dish_recommendation_loss: 3.1344 - val_output_others_overall_experience_loss: 5.2921 - val_output_others_willing_to_consume_again_loss: 6.0669 - val_output_location_traffic_convenience_f1: 0.7838 - val_output_location_distance_from_business_district_f1: 0.8021 - val_output_location_easy_to_find_f1: 0.7677 - val_output_service_wait_time_f1: 0.8825 - val_output_service_waiters_attitude_f1: 0.3995 - val_output_service_parking_convenience_f1: 0.9364 - val_output_service_serving_speed_f1: 0.8451 - val_output_price_level_f1: 0.4998 - val_output_price_cost_effective_f1: 0.7619 - val_output_price_discount_f1: 0.6175 - val_output_environment_decoration_f1: 0.3741 - val_output_environment_noise_f1: 0.7014 - val_output_environment_space_f1: 0.6327 - val_output_environment_cleaness_f1: 0.6397 - val_output_dish_portion_f1: 0.5408 - val_output_dish_taste_f1: 0.5229 - val_output_dish_look_f1: 0.7172 - val_output_dish_recommendation_f1: 0.8055 - val_output_others_overall_experience_f1: 0.6717 - val_output_others_willing_to_consume_again_f1: 0.6236\n",
      "Epoch 3/20\n",
      "\n",
      "Epoch 00003: LearningRateScheduler reducing learning rate to 0.049319429039795845.\n"
     ]
    },
    {
     "name": "stdout",
     "output_type": "stream",
     "text": [
      "105000/105000 [==============================] - 616s 6ms/step - loss: 104.5817 - output_location_traffic_convenience_loss: 3.6255 - output_location_distance_from_business_district_loss: 3.2727 - output_location_easy_to_find_loss: 3.7448 - output_service_wait_time_loss: 1.8784 - output_service_waiters_attitude_loss: 9.6079 - output_service_parking_convenience_loss: 1.0322 - output_service_serving_speed_loss: 2.5021 - output_price_level_loss: 8.0099 - output_price_cost_effective_loss: 3.8005 - output_price_discount_loss: 6.2564 - output_environment_decoration_loss: 10.0618 - output_environment_noise_loss: 4.8439 - output_environment_space_loss: 6.0791 - output_environment_cleaness_loss: 5.8949 - output_dish_portion_loss: 7.3810 - output_dish_taste_loss: 7.6189 - output_dish_look_loss: 4.4555 - output_dish_recommendation_loss: 3.1059 - output_others_overall_experience_loss: 5.3620 - output_others_willing_to_consume_again_loss: 6.0481 - output_location_traffic_convenience_f1: 0.7751 - output_location_distance_from_business_district_f1: 0.7970 - output_location_easy_to_find_f1: 0.7677 - output_service_wait_time_f1: 0.8835 - output_service_waiters_attitude_f1: 0.4039 - output_service_parking_convenience_f1: 0.9360 - output_service_serving_speed_f1: 0.8448 - output_price_level_f1: 0.5030 - output_price_cost_effective_f1: 0.7642 - output_price_discount_f1: 0.6118 - output_environment_decoration_f1: 0.3757 - output_environment_noise_f1: 0.6995 - output_environment_space_f1: 0.6228 - output_environment_cleaness_f1: 0.6343 - output_dish_portion_f1: 0.5421 - output_dish_taste_f1: 0.5273 - output_dish_look_f1: 0.7236 - output_dish_recommendation_f1: 0.8073 - output_others_overall_experience_f1: 0.6673 - output_others_willing_to_consume_again_f1: 0.6248 - val_loss: 104.3486 - val_output_location_traffic_convenience_loss: 3.4847 - val_output_location_distance_from_business_district_loss: 3.1892 - val_output_location_easy_to_find_loss: 3.7437 - val_output_service_wait_time_loss: 1.8944 - val_output_service_waiters_attitude_loss: 9.6795 - val_output_service_parking_convenience_loss: 1.0251 - val_output_service_serving_speed_loss: 2.4962 - val_output_price_level_loss: 8.0623 - val_output_price_cost_effective_loss: 3.8383 - val_output_price_discount_loss: 6.1657 - val_output_environment_decoration_loss: 10.0878 - val_output_environment_noise_loss: 4.8129 - val_output_environment_space_loss: 5.9196 - val_output_environment_cleaness_loss: 5.8068 - val_output_dish_portion_loss: 7.4014 - val_output_dish_taste_loss: 7.6894 - val_output_dish_look_loss: 4.5582 - val_output_dish_recommendation_loss: 3.1344 - val_output_others_overall_experience_loss: 5.2921 - val_output_others_willing_to_consume_again_loss: 6.0669 - val_output_location_traffic_convenience_f1: 0.7838 - val_output_location_distance_from_business_district_f1: 0.8021 - val_output_location_easy_to_find_f1: 0.7677 - val_output_service_wait_time_f1: 0.8825 - val_output_service_waiters_attitude_f1: 0.3995 - val_output_service_parking_convenience_f1: 0.9364 - val_output_service_serving_speed_f1: 0.8451 - val_output_price_level_f1: 0.4998 - val_output_price_cost_effective_f1: 0.7619 - val_output_price_discount_f1: 0.6175 - val_output_environment_decoration_f1: 0.3741 - val_output_environment_noise_f1: 0.7014 - val_output_environment_space_f1: 0.6327 - val_output_environment_cleaness_f1: 0.6397 - val_output_dish_portion_f1: 0.5408 - val_output_dish_taste_f1: 0.5229 - val_output_dish_look_f1: 0.7172 - val_output_dish_recommendation_f1: 0.8055 - val_output_others_overall_experience_f1: 0.6717 - val_output_others_willing_to_consume_again_f1: 0.6236\n",
      "Epoch 4/20\n",
      "\n",
      "Epoch 00004: LearningRateScheduler reducing learning rate to 0.04847307327037259.\n",
      "105000/105000 [==============================] - 619s 6ms/step - loss: 104.5817 - output_location_traffic_convenience_loss: 3.6255 - output_location_distance_from_business_district_loss: 3.2727 - output_location_easy_to_find_loss: 3.7448 - output_service_wait_time_loss: 1.8784 - output_service_waiters_attitude_loss: 9.6079 - output_service_parking_convenience_loss: 1.0322 - output_service_serving_speed_loss: 2.5021 - output_price_level_loss: 8.0099 - output_price_cost_effective_loss: 3.8005 - output_price_discount_loss: 6.2564 - output_environment_decoration_loss: 10.0618 - output_environment_noise_loss: 4.8439 - output_environment_space_loss: 6.0791 - output_environment_cleaness_loss: 5.8949 - output_dish_portion_loss: 7.3810 - output_dish_taste_loss: 7.6189 - output_dish_look_loss: 4.4555 - output_dish_recommendation_loss: 3.1059 - output_others_overall_experience_loss: 5.3620 - output_others_willing_to_consume_again_loss: 6.0481 - output_location_traffic_convenience_f1: 0.7751 - output_location_distance_from_business_district_f1: 0.7970 - output_location_easy_to_find_f1: 0.7677 - output_service_wait_time_f1: 0.8835 - output_service_waiters_attitude_f1: 0.4039 - output_service_parking_convenience_f1: 0.9360 - output_service_serving_speed_f1: 0.8448 - output_price_level_f1: 0.5030 - output_price_cost_effective_f1: 0.7642 - output_price_discount_f1: 0.6118 - output_environment_decoration_f1: 0.3757 - output_environment_noise_f1: 0.6995 - output_environment_space_f1: 0.6228 - output_environment_cleaness_f1: 0.6343 - output_dish_portion_f1: 0.5421 - output_dish_taste_f1: 0.5273 - output_dish_look_f1: 0.7236 - output_dish_recommendation_f1: 0.8073 - output_others_overall_experience_f1: 0.6673 - output_others_willing_to_consume_again_f1: 0.6248 - val_loss: 104.3486 - val_output_location_traffic_convenience_loss: 3.4847 - val_output_location_distance_from_business_district_loss: 3.1892 - val_output_location_easy_to_find_loss: 3.7437 - val_output_service_wait_time_loss: 1.8944 - val_output_service_waiters_attitude_loss: 9.6795 - val_output_service_parking_convenience_loss: 1.0251 - val_output_service_serving_speed_loss: 2.4962 - val_output_price_level_loss: 8.0623 - val_output_price_cost_effective_loss: 3.8383 - val_output_price_discount_loss: 6.1657 - val_output_environment_decoration_loss: 10.0878 - val_output_environment_noise_loss: 4.8129 - val_output_environment_space_loss: 5.9196 - val_output_environment_cleaness_loss: 5.8068 - val_output_dish_portion_loss: 7.4014 - val_output_dish_taste_loss: 7.6894 - val_output_dish_look_loss: 4.5582 - val_output_dish_recommendation_loss: 3.1344 - val_output_others_overall_experience_loss: 5.2921 - val_output_others_willing_to_consume_again_loss: 6.0669 - val_output_location_traffic_convenience_f1: 0.7838 - val_output_location_distance_from_business_district_f1: 0.8021 - val_output_location_easy_to_find_f1: 0.7677 - val_output_service_wait_time_f1: 0.8825 - val_output_service_waiters_attitude_f1: 0.3995 - val_output_service_parking_convenience_f1: 0.9364 - val_output_service_serving_speed_f1: 0.8451 - val_output_price_level_f1: 0.4998 - val_output_price_cost_effective_f1: 0.7619 - val_output_price_discount_f1: 0.6175 - val_output_environment_decoration_f1: 0.3741 - val_output_environment_noise_f1: 0.7014 - val_output_environment_space_f1: 0.6327 - val_output_environment_cleaness_f1: 0.6397 - val_output_dish_portion_f1: 0.5408 - val_output_dish_taste_f1: 0.5229 - val_output_dish_look_f1: 0.7172 - val_output_dish_recommendation_f1: 0.8055 - val_output_others_overall_experience_f1: 0.6717 - val_output_others_willing_to_consume_again_f1: 0.6236\n",
      "Epoch 5/20\n",
      "\n",
      "Epoch 00005: LearningRateScheduler reducing learning rate to 0.04729628036086167.\n"
=======
      "Epoch 1/1\n",
      "105000/105000 [==============================] - 1151s 11ms/step - loss: 13.0081 - output_location_traffic_convenience_loss: 0.3833 - output_location_distance_from_business_district_loss: 0.5086 - output_location_easy_to_find_loss: 0.5092 - output_service_wait_time_loss: 0.4855 - output_service_waiters_attitude_loss: 0.8003 - output_service_parking_convenience_loss: 0.2869 - output_service_serving_speed_loss: 0.5701 - output_price_level_loss: 1.0012 - output_price_cost_effective_loss: 0.5597 - output_price_discount_loss: 0.7462 - output_environment_decoration_loss: 0.7142 - output_environment_noise_loss: 0.6416 - output_environment_space_loss: 0.8423 - output_environment_cleaness_loss: 0.7001 - output_dish_portion_loss: 0.9705 - output_dish_taste_loss: 0.7897 - output_dish_look_loss: 0.7553 - output_dish_recommendation_loss: 0.5423 - output_others_overall_experience_loss: 0.6387 - output_others_willing_to_consume_again_loss: 0.5622\n",
      "15000/15000 [==============================] - 41s 3ms/step\n",
      "[0.44089434582611275, 0.2580991016658746, 0.40672554997240773, 0.2343910472075645, 0.5886311475253204, 0.241788886593679, 0.2327158889325668, 0.5169092689825604, 0.4448544986070259, 0.49551893724994284, 0.45953580616870554, 0.37545487079667317, 0.34225006328325647, 0.4139932027489085, 0.4129688215614806, 0.4853359928053611, 0.2304936726463635, 0.3420486031536833, 0.48935650465264163, 0.5818451043913774]\n",
      "0.3996905657385753\n",
      "Epoch 1/1\n"
     ]
    },
    {
     "name": "stderr",
     "output_type": "stream",
     "text": [
      "D:\\Anaconda\\lib\\site-packages\\sklearn\\metrics\\classification.py:1135: UndefinedMetricWarning: F-score is ill-defined and being set to 0.0 in labels with no predicted samples.\n",
      "  'precision', 'predicted', average, warn_for)\n"
>>>>>>> 029e816227ee22da107c0551fd1c0c9551900cb2
     ]
    },
    {
     "name": "stdout",
     "output_type": "stream",
     "text": [
<<<<<<< HEAD
      "105000/105000 [==============================] - 616s 6ms/step - loss: 104.5817 - output_location_traffic_convenience_loss: 3.6255 - output_location_distance_from_business_district_loss: 3.2727 - output_location_easy_to_find_loss: 3.7448 - output_service_wait_time_loss: 1.8784 - output_service_waiters_attitude_loss: 9.6079 - output_service_parking_convenience_loss: 1.0322 - output_service_serving_speed_loss: 2.5021 - output_price_level_loss: 8.0099 - output_price_cost_effective_loss: 3.8005 - output_price_discount_loss: 6.2564 - output_environment_decoration_loss: 10.0618 - output_environment_noise_loss: 4.8439 - output_environment_space_loss: 6.0791 - output_environment_cleaness_loss: 5.8949 - output_dish_portion_loss: 7.3810 - output_dish_taste_loss: 7.6189 - output_dish_look_loss: 4.4555 - output_dish_recommendation_loss: 3.1059 - output_others_overall_experience_loss: 5.3620 - output_others_willing_to_consume_again_loss: 6.0481 - output_location_traffic_convenience_f1: 0.7751 - output_location_distance_from_business_district_f1: 0.7970 - output_location_easy_to_find_f1: 0.7677 - output_service_wait_time_f1: 0.8835 - output_service_waiters_attitude_f1: 0.4039 - output_service_parking_convenience_f1: 0.9360 - output_service_serving_speed_f1: 0.8448 - output_price_level_f1: 0.5030 - output_price_cost_effective_f1: 0.7642 - output_price_discount_f1: 0.6118 - output_environment_decoration_f1: 0.3757 - output_environment_noise_f1: 0.6995 - output_environment_space_f1: 0.6228 - output_environment_cleaness_f1: 0.6343 - output_dish_portion_f1: 0.5421 - output_dish_taste_f1: 0.5273 - output_dish_look_f1: 0.7236 - output_dish_recommendation_f1: 0.8073 - output_others_overall_experience_f1: 0.6673 - output_others_willing_to_consume_again_f1: 0.6248 - val_loss: 104.3486 - val_output_location_traffic_convenience_loss: 3.4847 - val_output_location_distance_from_business_district_loss: 3.1892 - val_output_location_easy_to_find_loss: 3.7437 - val_output_service_wait_time_loss: 1.8944 - val_output_service_waiters_attitude_loss: 9.6795 - val_output_service_parking_convenience_loss: 1.0251 - val_output_service_serving_speed_loss: 2.4962 - val_output_price_level_loss: 8.0623 - val_output_price_cost_effective_loss: 3.8383 - val_output_price_discount_loss: 6.1657 - val_output_environment_decoration_loss: 10.0878 - val_output_environment_noise_loss: 4.8129 - val_output_environment_space_loss: 5.9196 - val_output_environment_cleaness_loss: 5.8068 - val_output_dish_portion_loss: 7.4014 - val_output_dish_taste_loss: 7.6894 - val_output_dish_look_loss: 4.5582 - val_output_dish_recommendation_loss: 3.1344 - val_output_others_overall_experience_loss: 5.2921 - val_output_others_willing_to_consume_again_loss: 6.0669 - val_output_location_traffic_convenience_f1: 0.7838 - val_output_location_distance_from_business_district_f1: 0.8021 - val_output_location_easy_to_find_f1: 0.7677 - val_output_service_wait_time_f1: 0.8825 - val_output_service_waiters_attitude_f1: 0.3995 - val_output_service_parking_convenience_f1: 0.9364 - val_output_service_serving_speed_f1: 0.8451 - val_output_price_level_f1: 0.4998 - val_output_price_cost_effective_f1: 0.7619 - val_output_price_discount_f1: 0.6175 - val_output_environment_decoration_f1: 0.3741 - val_output_environment_noise_f1: 0.7014 - val_output_environment_space_f1: 0.6327 - val_output_environment_cleaness_f1: 0.6397 - val_output_dish_portion_f1: 0.5408 - val_output_dish_taste_f1: 0.5229 - val_output_dish_look_f1: 0.7172 - val_output_dish_recommendation_f1: 0.8055 - val_output_others_overall_experience_f1: 0.6717 - val_output_others_willing_to_consume_again_f1: 0.6236\n",
      "Epoch 6/20\n",
      "\n",
      "Epoch 00006: LearningRateScheduler reducing learning rate to 0.04579708900008737.\n",
      "105000/105000 [==============================] - 618s 6ms/step - loss: 104.5817 - output_location_traffic_convenience_loss: 3.6255 - output_location_distance_from_business_district_loss: 3.2727 - output_location_easy_to_find_loss: 3.7448 - output_service_wait_time_loss: 1.8784 - output_service_waiters_attitude_loss: 9.6079 - output_service_parking_convenience_loss: 1.0322 - output_service_serving_speed_loss: 2.5021 - output_price_level_loss: 8.0099 - output_price_cost_effective_loss: 3.8005 - output_price_discount_loss: 6.2564 - output_environment_decoration_loss: 10.0618 - output_environment_noise_loss: 4.8439 - output_environment_space_loss: 6.0791 - output_environment_cleaness_loss: 5.8949 - output_dish_portion_loss: 7.3810 - output_dish_taste_loss: 7.6189 - output_dish_look_loss: 4.4555 - output_dish_recommendation_loss: 3.1059 - output_others_overall_experience_loss: 5.3620 - output_others_willing_to_consume_again_loss: 6.0481 - output_location_traffic_convenience_f1: 0.7751 - output_location_distance_from_business_district_f1: 0.7970 - output_location_easy_to_find_f1: 0.7677 - output_service_wait_time_f1: 0.8835 - output_service_waiters_attitude_f1: 0.4039 - output_service_parking_convenience_f1: 0.9360 - output_service_serving_speed_f1: 0.8448 - output_price_level_f1: 0.5030 - output_price_cost_effective_f1: 0.7642 - output_price_discount_f1: 0.6118 - output_environment_decoration_f1: 0.3757 - output_environment_noise_f1: 0.6995 - output_environment_space_f1: 0.6228 - output_environment_cleaness_f1: 0.6343 - output_dish_portion_f1: 0.5421 - output_dish_taste_f1: 0.5273 - output_dish_look_f1: 0.7236 - output_dish_recommendation_f1: 0.8073 - output_others_overall_experience_f1: 0.6673 - output_others_willing_to_consume_again_f1: 0.6248 - val_loss: 104.3486 - val_output_location_traffic_convenience_loss: 3.4847 - val_output_location_distance_from_business_district_loss: 3.1892 - val_output_location_easy_to_find_loss: 3.7437 - val_output_service_wait_time_loss: 1.8944 - val_output_service_waiters_attitude_loss: 9.6795 - val_output_service_parking_convenience_loss: 1.0251 - val_output_service_serving_speed_loss: 2.4962 - val_output_price_level_loss: 8.0623 - val_output_price_cost_effective_loss: 3.8383 - val_output_price_discount_loss: 6.1657 - val_output_environment_decoration_loss: 10.0878 - val_output_environment_noise_loss: 4.8129 - val_output_environment_space_loss: 5.9196 - val_output_environment_cleaness_loss: 5.8068 - val_output_dish_portion_loss: 7.4014 - val_output_dish_taste_loss: 7.6894 - val_output_dish_look_loss: 4.5582 - val_output_dish_recommendation_loss: 3.1344 - val_output_others_overall_experience_loss: 5.2921 - val_output_others_willing_to_consume_again_loss: 6.0669 - val_output_location_traffic_convenience_f1: 0.7838 - val_output_location_distance_from_business_district_f1: 0.8021 - val_output_location_easy_to_find_f1: 0.7677 - val_output_service_wait_time_f1: 0.8825 - val_output_service_waiters_attitude_f1: 0.3995 - val_output_service_parking_convenience_f1: 0.9364 - val_output_service_serving_speed_f1: 0.8451 - val_output_price_level_f1: 0.4998 - val_output_price_cost_effective_f1: 0.7619 - val_output_price_discount_f1: 0.6175 - val_output_environment_decoration_f1: 0.3741 - val_output_environment_noise_f1: 0.7014 - val_output_environment_space_f1: 0.6327 - val_output_environment_cleaness_f1: 0.6397 - val_output_dish_portion_f1: 0.5408 - val_output_dish_taste_f1: 0.5229 - val_output_dish_look_f1: 0.7172 - val_output_dish_recommendation_f1: 0.8055 - val_output_others_overall_experience_f1: 0.6717 - val_output_others_willing_to_consume_again_f1: 0.6236\n"
=======
      "105000/105000 [==============================] - 1138s 11ms/step - loss: 10.7889 - output_location_traffic_convenience_loss: 0.3093 - output_location_distance_from_business_district_loss: 0.4495 - output_location_easy_to_find_loss: 0.4216 - output_service_wait_time_loss: 0.4243 - output_service_waiters_attitude_loss: 0.6044 - output_service_parking_convenience_loss: 0.2596 - output_service_serving_speed_loss: 0.4119 - output_price_level_loss: 0.8115 - output_price_cost_effective_loss: 0.4487 - output_price_discount_loss: 0.5683 - output_environment_decoration_loss: 0.6067 - output_environment_noise_loss: 0.5557 - output_environment_space_loss: 0.7214 - output_environment_cleaness_loss: 0.5700 - output_dish_portion_loss: 0.7554 - output_dish_taste_loss: 0.6789 - output_dish_look_loss: 0.7250 - output_dish_recommendation_loss: 0.4364 - output_others_overall_experience_loss: 0.5631 - output_others_willing_to_consume_again_loss: 0.4673\n",
      "15000/15000 [==============================] - 40s 3ms/step\n",
      "[0.4384944929820494, 0.2931268270864748, 0.418240518500119, 0.2594790707667198, 0.6688000396041506, 0.241788886593679, 0.49081208401914656, 0.6046356987105483, 0.48665197086129536, 0.5022054660935977, 0.5084081789727279, 0.4864529495383222, 0.5132241768345998, 0.579144805235693, 0.5637735693560045, 0.5697540538019062, 0.26702170853133445, 0.5141239345513239, 0.5315748414011539, 0.5937432180796737]\n",
      "0.476572824576026\n",
      "Epoch 1/1\n",
      "105000/105000 [==============================] - 1138s 11ms/step - loss: 10.0755 - output_location_traffic_convenience_loss: 0.2934 - output_location_distance_from_business_district_loss: 0.4278 - output_location_easy_to_find_loss: 0.3933 - output_service_wait_time_loss: 0.3501 - output_service_waiters_attitude_loss: 0.5642 - output_service_parking_convenience_loss: 0.2465 - output_service_serving_speed_loss: 0.3284 - output_price_level_loss: 0.7445 - output_price_cost_effective_loss: 0.4128 - output_price_discount_loss: 0.5451 - output_environment_decoration_loss: 0.5751 - output_environment_noise_loss: 0.5341 - output_environment_space_loss: 0.6710 - output_environment_cleaness_loss: 0.5383 - output_dish_portion_loss: 0.7141 - output_dish_taste_loss: 0.6488 - output_dish_look_loss: 0.6961 - output_dish_recommendation_loss: 0.3995 - output_others_overall_experience_loss: 0.5480 - output_others_willing_to_consume_again_loss: 0.4443\n",
      "15000/15000 [==============================] - 40s 3ms/step\n",
      "[0.4466385212638041, 0.3478608548105978, 0.4969272046045684, 0.32515209261970934, 0.6879627640779828, 0.24176221464724718, 0.5451510587170967, 0.6127733994623398, 0.5287547800838409, 0.5423733658751313, 0.49224248233803947, 0.46077247719308634, 0.48699668731566187, 0.5612551236231849, 0.5829899455799297, 0.5131087577321644, 0.31077352025739474, 0.5357306982186018, 0.5290652553330534, 0.5927757259101984]\n",
      "0.4920533464831817\n",
      "Epoch 1/1\n",
      "105000/105000 [==============================] - 1142s 11ms/step - loss: 9.6655 - output_location_traffic_convenience_loss: 0.2807 - output_location_distance_from_business_district_loss: 0.4205 - output_location_easy_to_find_loss: 0.3724 - output_service_wait_time_loss: 0.3344 - output_service_waiters_attitude_loss: 0.5481 - output_service_parking_convenience_loss: 0.1836 - output_service_serving_speed_loss: 0.3074 - output_price_level_loss: 0.7133 - output_price_cost_effective_loss: 0.3941 - output_price_discount_loss: 0.5247 - output_environment_decoration_loss: 0.5552 - output_environment_noise_loss: 0.5179 - output_environment_space_loss: 0.6516 - output_environment_cleaness_loss: 0.5180 - output_dish_portion_loss: 0.6957 - output_dish_taste_loss: 0.6352 - output_dish_look_loss: 0.6635 - output_dish_recommendation_loss: 0.3810 - output_others_overall_experience_loss: 0.5349 - output_others_willing_to_consume_again_loss: 0.4333\n",
      "15000/15000 [==============================] - 40s 3ms/step\n",
      "[0.4537025550173547, 0.334203104908478, 0.5492817566542392, 0.3653982909593539, 0.6771426926246004, 0.4222525060299872, 0.5404326290717362, 0.6457098322264961, 0.547545398119438, 0.5561210284672665, 0.49813661631033723, 0.4862840448978203, 0.508868570720773, 0.5700379934641668, 0.5916636189893, 0.5525950658581745, 0.2919096446277315, 0.5897155239976448, 0.5219844302620755, 0.5837408030126767]\n",
      "0.5143363053109826\n",
      "Epoch 1/1\n",
      "105000/105000 [==============================] - 1174s 11ms/step - loss: 9.3743 - output_location_traffic_convenience_loss: 0.2690 - output_location_distance_from_business_district_loss: 0.4097 - output_location_easy_to_find_loss: 0.3498 - output_service_wait_time_loss: 0.3254 - output_service_waiters_attitude_loss: 0.5358 - output_service_parking_convenience_loss: 0.1391 - output_service_serving_speed_loss: 0.2924 - output_price_level_loss: 0.6973 - output_price_cost_effective_loss: 0.3854 - output_price_discount_loss: 0.5086 - output_environment_decoration_loss: 0.5415 - output_environment_noise_loss: 0.5075 - output_environment_space_loss: 0.6316 - output_environment_cleaness_loss: 0.5036 - output_dish_portion_loss: 0.6813 - output_dish_taste_loss: 0.6253 - output_dish_look_loss: 0.6452 - output_dish_recommendation_loss: 0.3697 - output_others_overall_experience_loss: 0.5318 - output_others_willing_to_consume_again_loss: 0.4243\n",
      "15000/15000 [==============================] - 40s 3ms/step\n",
      "[0.44955620854480716, 0.3597711671542084, 0.5695503762673458, 0.34402213201890147, 0.6632928072726643, 0.45545027737736776, 0.5537759972609635, 0.6354164208045014, 0.5700659077747838, 0.5477897198224488, 0.5210402711221094, 0.48190812521338244, 0.5350840725625576, 0.5867618815776421, 0.6019882386998271, 0.5270510689418327, 0.32607828932327365, 0.5132419945448741, 0.5196092750059895, 0.6127825172157322]\n",
      "0.5187118374252606\n",
      "Epoch 1/1\n",
      "105000/105000 [==============================] - 1150s 11ms/step - loss: 9.2031 - output_location_traffic_convenience_loss: 0.2637 - output_location_distance_from_business_district_loss: 0.4043 - output_location_easy_to_find_loss: 0.3430 - output_service_wait_time_loss: 0.3204 - output_service_waiters_attitude_loss: 0.5280 - output_service_parking_convenience_loss: 0.1304 - output_service_serving_speed_loss: 0.2848 - output_price_level_loss: 0.6826 - output_price_cost_effective_loss: 0.3791 - output_price_discount_loss: 0.4982 - output_environment_decoration_loss: 0.5299 - output_environment_noise_loss: 0.4968 - output_environment_space_loss: 0.6194 - output_environment_cleaness_loss: 0.4949 - output_dish_portion_loss: 0.6736 - output_dish_taste_loss: 0.6159 - output_dish_look_loss: 0.6336 - output_dish_recommendation_loss: 0.3623 - output_others_overall_experience_loss: 0.5251 - output_others_willing_to_consume_again_loss: 0.4170\n",
      "15000/15000 [==============================] - 40s 3ms/step\n",
      "[0.4389686113368937, 0.3325216393901821, 0.564409734036198, 0.3876149528947591, 0.6755572294932681, 0.45332343680172993, 0.4419602665428266, 0.656287315047974, 0.5771890572927236, 0.5588896745036379, 0.5381261932053821, 0.5389828634761196, 0.5765224431920007, 0.5810043709159244, 0.5767022801962189, 0.569769201602713, 0.3882050703340144, 0.5798806580864315, 0.5293119849625125, 0.5887660586193921]\n",
      "0.5276996520965451\n",
      "Epoch 1/1\n",
      "105000/105000 [==============================] - 1143s 11ms/step - loss: 9.0390 - output_location_traffic_convenience_loss: 0.2564 - output_location_distance_from_business_district_loss: 0.3975 - output_location_easy_to_find_loss: 0.3333 - output_service_wait_time_loss: 0.3144 - output_service_waiters_attitude_loss: 0.5181 - output_service_parking_convenience_loss: 0.1238 - output_service_serving_speed_loss: 0.2777 - output_price_level_loss: 0.6742 - output_price_cost_effective_loss: 0.3721 - output_price_discount_loss: 0.4878 - output_environment_decoration_loss: 0.5186 - output_environment_noise_loss: 0.4880 - output_environment_space_loss: 0.6060 - output_environment_cleaness_loss: 0.4841 - output_dish_portion_loss: 0.6667 - output_dish_taste_loss: 0.6062 - output_dish_look_loss: 0.6281 - output_dish_recommendation_loss: 0.3574 - output_others_overall_experience_loss: 0.5178 - output_others_willing_to_consume_again_loss: 0.4107\n",
      "15000/15000 [==============================] - 40s 3ms/step\n",
      "[0.45211921650037856, 0.3560800988151944, 0.5702478337076844, 0.36045265704154195, 0.6875491121515178, 0.4906375554491894, 0.5841817003697001, 0.6457116889912999, 0.5411936854574495, 0.5662289339773853, 0.5122441587392809, 0.5355253126964753, 0.5704379720958099, 0.5870645069791294, 0.6214640797589506, 0.5851437536392043, 0.36715341533836643, 0.619398011516133, 0.5350564339835207, 0.597746154430118]\n",
      "0.5392818140819164\n",
      "Epoch 1/1\n",
      "100032/105000 [===========================>..] - ETA: 54s - loss: 8.9126 - output_location_traffic_convenience_loss: 0.2529 - output_location_distance_from_business_district_loss: 0.3911 - output_location_easy_to_find_loss: 0.3259 - output_service_wait_time_loss: 0.3087 - output_service_waiters_attitude_loss: 0.5126 - output_service_parking_convenience_loss: 0.1206 - output_service_serving_speed_loss: 0.2729 - output_price_level_loss: 0.6644 - output_price_cost_effective_loss: 0.3673 - output_price_discount_loss: 0.4831 - output_environment_decoration_loss: 0.5130 - output_environment_noise_loss: 0.4807 - output_environment_space_loss: 0.5965 - output_environment_cleaness_loss: 0.4776 - output_dish_portion_loss: 0.6578 - output_dish_taste_loss: 0.5984 - output_dish_look_loss: 0.6202 - output_dish_recommendation_loss: 0.3502 - output_others_overall_experience_loss: 0.5133 - output_others_willing_to_consume_again_loss: 0.4055"
     ]
    }
   ],
   "source": [
    "for i in range(10):\n",
    "    model.optimizer = Adam(lr=0.003/(i+1))\n",
    "    model.fit(x_train,\n",
    "              y_train, \n",
    "              batch_size=batch_size,\n",
    "              epochs=1)\n",
    "    preds = model.predict(x_valid, batch_size=32, verbose=True)\n",
    "    score = []\n",
    "    for i in range(20):\n",
    "        score.append(f1_score(np.argmax(np.array(y_valid[i]), axis=1), np.argmax(np.array(preds[i]), axis=1), average='macro'))\n",
    "    print(score)\n",
    "    print(np.mean(score))"
   ]
  },
  {
   "cell_type": "code",
   "execution_count": 71,
   "metadata": {},
   "outputs": [
    {
     "name": "stdout",
     "output_type": "stream",
     "text": [
      "[-2 -2  1  1 -2  1 -2 -2 -2 -2 -2 -2 -2 -2 -2 -2 -2 -2  1 -2 -2 -2 -2 -2\n",
      " -2 -2  1  1 -2 -2 -2 -2  1  1  1  1 -2  1 -2 -2 -2 -2 -2 -2 -2 -2 -2 -2\n",
      " -2 -2 -2 -2 -2 -2 -2 -2 -2 -2 -2 -2 -2 -2 -2 -2 -2 -2 -2 -2 -2 -2 -2 -2\n",
      " -2 -2 -2 -2 -2 -2 -2 -2 -2  1  1  1 -2  1 -2  1 -2 -2 -2 -2  1 -2  1 -2\n",
      " -2 -2 -2 -2]\n"
>>>>>>> 029e816227ee22da107c0551fd1c0c9551900cb2
     ]
    },
    {
     "data": {
      "text/plain": [
       "<keras.callbacks.History at 0x1396cd1f208>"
      ]
     },
     "execution_count": 20,
     "metadata": {},
     "output_type": "execute_result"
    }
   ],
   "source": [
    "y = np.argmax(np.array(preds), axis=2)-2\n",
    "print(len(y))\n",
    "test_data = pd.read_csv('datasets/sentiment_analysis_testa.csv')\n",
    "i=0\n",
    "for index in name:\n",
    "    test_data.loc[:,index] = y[i]\n",
    "    i=i+1\n",
    "print(y[0][:100])"
   ]
  },
  {
   "cell_type": "code",
   "execution_count": 69,
   "metadata": {},
   "outputs": [],
   "source": [
    "test_data.to_csv('datasets/results.csv',encoding='utf-8',index=False)"
   ]
  },
  {
   "cell_type": "code",
   "execution_count": 70,
   "metadata": {},
   "outputs": [
    {
     "data": {
      "text/html": [
       "<div>\n",
       "<style scoped>\n",
       "    .dataframe tbody tr th:only-of-type {\n",
       "        vertical-align: middle;\n",
       "    }\n",
       "\n",
       "    .dataframe tbody tr th {\n",
       "        vertical-align: top;\n",
       "    }\n",
       "\n",
       "    .dataframe thead th {\n",
       "        text-align: right;\n",
       "    }\n",
       "</style>\n",
       "<table border=\"1\" class=\"dataframe\">\n",
       "  <thead>\n",
       "    <tr style=\"text-align: right;\">\n",
       "      <th></th>\n",
       "      <th>id</th>\n",
       "      <th>content</th>\n",
       "      <th>location_traffic_convenience</th>\n",
       "      <th>location_distance_from_business_district</th>\n",
       "      <th>location_easy_to_find</th>\n",
       "      <th>service_wait_time</th>\n",
       "      <th>service_waiters_attitude</th>\n",
       "      <th>service_parking_convenience</th>\n",
       "      <th>service_serving_speed</th>\n",
       "      <th>price_level</th>\n",
       "      <th>...</th>\n",
       "      <th>environment_decoration</th>\n",
       "      <th>environment_noise</th>\n",
       "      <th>environment_space</th>\n",
       "      <th>environment_cleaness</th>\n",
       "      <th>dish_portion</th>\n",
       "      <th>dish_taste</th>\n",
       "      <th>dish_look</th>\n",
       "      <th>dish_recommendation</th>\n",
       "      <th>others_overall_experience</th>\n",
       "      <th>others_willing_to_consume_again</th>\n",
       "    </tr>\n",
       "  </thead>\n",
       "  <tbody>\n",
       "    <tr>\n",
       "      <th>0</th>\n",
       "      <td>0</td>\n",
       "      <td>\"我想说他们家的优惠活动好持久啊，我预售的时候买的券，前两天心血来潮去吃的活动还在继续\\n首...</td>\n",
       "      <td>-2</td>\n",
       "      <td>-2</td>\n",
       "      <td>-2</td>\n",
       "      <td>-2</td>\n",
       "      <td>1</td>\n",
       "      <td>-2</td>\n",
       "      <td>-2</td>\n",
       "      <td>0</td>\n",
       "      <td>...</td>\n",
       "      <td>1</td>\n",
       "      <td>-2</td>\n",
       "      <td>1</td>\n",
       "      <td>1</td>\n",
       "      <td>1</td>\n",
       "      <td>1</td>\n",
       "      <td>-2</td>\n",
       "      <td>-2</td>\n",
       "      <td>1</td>\n",
       "      <td>-2</td>\n",
       "    </tr>\n",
       "    <tr>\n",
       "      <th>1</th>\n",
       "      <td>1</td>\n",
       "      <td>\"终于开到心心念念的LAB loft。第一次来就随便点也一些～【香辣虾意面】蛮辣的，但其实一...</td>\n",
       "      <td>-2</td>\n",
       "      <td>-2</td>\n",
       "      <td>-2</td>\n",
       "      <td>-2</td>\n",
       "      <td>-2</td>\n",
       "      <td>-2</td>\n",
       "      <td>-2</td>\n",
       "      <td>0</td>\n",
       "      <td>...</td>\n",
       "      <td>-2</td>\n",
       "      <td>-2</td>\n",
       "      <td>-2</td>\n",
       "      <td>-2</td>\n",
       "      <td>-1</td>\n",
       "      <td>0</td>\n",
       "      <td>-2</td>\n",
       "      <td>-2</td>\n",
       "      <td>0</td>\n",
       "      <td>-2</td>\n",
       "    </tr>\n",
       "    <tr>\n",
       "      <th>2</th>\n",
       "      <td>2</td>\n",
       "      <td>\"地理位置好，交通方便，就在124车站对面交通方便，很好，我晚上7点多去买的了，已经没有什么...</td>\n",
       "      <td>1</td>\n",
       "      <td>1</td>\n",
       "      <td>-2</td>\n",
       "      <td>-2</td>\n",
       "      <td>-1</td>\n",
       "      <td>-2</td>\n",
       "      <td>-2</td>\n",
       "      <td>0</td>\n",
       "      <td>...</td>\n",
       "      <td>-2</td>\n",
       "      <td>-2</td>\n",
       "      <td>-2</td>\n",
       "      <td>-2</td>\n",
       "      <td>-2</td>\n",
       "      <td>0</td>\n",
       "      <td>-2</td>\n",
       "      <td>-2</td>\n",
       "      <td>-1</td>\n",
       "      <td>-1</td>\n",
       "    </tr>\n",
       "    <tr>\n",
       "      <th>3</th>\n",
       "      <td>3</td>\n",
       "      <td>\"运气很好，抽中了大众点评的霸王餐。这家主题餐厅心仪已久了，种种原因一直未能成行，没想到抽中...</td>\n",
       "      <td>1</td>\n",
       "      <td>-2</td>\n",
       "      <td>-2</td>\n",
       "      <td>-2</td>\n",
       "      <td>1</td>\n",
       "      <td>-2</td>\n",
       "      <td>-2</td>\n",
       "      <td>-2</td>\n",
       "      <td>...</td>\n",
       "      <td>1</td>\n",
       "      <td>-2</td>\n",
       "      <td>-2</td>\n",
       "      <td>-2</td>\n",
       "      <td>-2</td>\n",
       "      <td>1</td>\n",
       "      <td>-2</td>\n",
       "      <td>1</td>\n",
       "      <td>1</td>\n",
       "      <td>1</td>\n",
       "    </tr>\n",
       "    <tr>\n",
       "      <th>4</th>\n",
       "      <td>4</td>\n",
       "      <td>\"幸运随点评团体验霸王餐，心情好~蜀九香刚进驻泉州不久，招牌大名气响，以至于刚到店门口的我被...</td>\n",
       "      <td>-2</td>\n",
       "      <td>-2</td>\n",
       "      <td>-2</td>\n",
       "      <td>-2</td>\n",
       "      <td>1</td>\n",
       "      <td>-2</td>\n",
       "      <td>-2</td>\n",
       "      <td>-2</td>\n",
       "      <td>...</td>\n",
       "      <td>1</td>\n",
       "      <td>1</td>\n",
       "      <td>-2</td>\n",
       "      <td>-2</td>\n",
       "      <td>-2</td>\n",
       "      <td>1</td>\n",
       "      <td>-2</td>\n",
       "      <td>-2</td>\n",
       "      <td>1</td>\n",
       "      <td>-2</td>\n",
       "    </tr>\n",
       "  </tbody>\n",
       "</table>\n",
       "<p>5 rows × 22 columns</p>\n",
       "</div>"
      ],
      "text/plain": [
       "   id                                            content  \\\n",
       "0   0  \"我想说他们家的优惠活动好持久啊，我预售的时候买的券，前两天心血来潮去吃的活动还在继续\\n首...   \n",
       "1   1  \"终于开到心心念念的LAB loft。第一次来就随便点也一些～【香辣虾意面】蛮辣的，但其实一...   \n",
       "2   2  \"地理位置好，交通方便，就在124车站对面交通方便，很好，我晚上7点多去买的了，已经没有什么...   \n",
       "3   3  \"运气很好，抽中了大众点评的霸王餐。这家主题餐厅心仪已久了，种种原因一直未能成行，没想到抽中...   \n",
       "4   4  \"幸运随点评团体验霸王餐，心情好~蜀九香刚进驻泉州不久，招牌大名气响，以至于刚到店门口的我被...   \n",
       "\n",
       "   location_traffic_convenience  location_distance_from_business_district  \\\n",
       "0                            -2                                        -2   \n",
       "1                            -2                                        -2   \n",
       "2                             1                                         1   \n",
       "3                             1                                        -2   \n",
       "4                            -2                                        -2   \n",
       "\n",
       "   location_easy_to_find  service_wait_time  service_waiters_attitude  \\\n",
       "0                     -2                 -2                         1   \n",
       "1                     -2                 -2                        -2   \n",
       "2                     -2                 -2                        -1   \n",
       "3                     -2                 -2                         1   \n",
       "4                     -2                 -2                         1   \n",
       "\n",
       "   service_parking_convenience  service_serving_speed  price_level  \\\n",
       "0                           -2                     -2            0   \n",
       "1                           -2                     -2            0   \n",
       "2                           -2                     -2            0   \n",
       "3                           -2                     -2           -2   \n",
       "4                           -2                     -2           -2   \n",
       "\n",
       "                ...                 environment_decoration  environment_noise  \\\n",
       "0               ...                                      1                 -2   \n",
       "1               ...                                     -2                 -2   \n",
       "2               ...                                     -2                 -2   \n",
       "3               ...                                      1                 -2   \n",
       "4               ...                                      1                  1   \n",
       "\n",
       "   environment_space  environment_cleaness  dish_portion  dish_taste  \\\n",
       "0                  1                     1             1           1   \n",
       "1                 -2                    -2            -1           0   \n",
       "2                 -2                    -2            -2           0   \n",
       "3                 -2                    -2            -2           1   \n",
       "4                 -2                    -2            -2           1   \n",
       "\n",
       "   dish_look  dish_recommendation  others_overall_experience  \\\n",
       "0         -2                   -2                          1   \n",
       "1         -2                   -2                          0   \n",
       "2         -2                   -2                         -1   \n",
       "3         -2                    1                          1   \n",
       "4         -2                   -2                          1   \n",
       "\n",
       "   others_willing_to_consume_again  \n",
       "0                               -2  \n",
       "1                               -2  \n",
       "2                               -1  \n",
       "3                                1  \n",
       "4                               -2  \n",
       "\n",
       "[5 rows x 22 columns]"
      ]
     },
     "execution_count": 70,
     "metadata": {},
     "output_type": "execute_result"
    }
   ],
   "source": [
    "test_data.head()"
   ]
  },
  {
   "cell_type": "code",
   "execution_count": 21,
   "metadata": {},
   "outputs": [
    {
     "ename": "AttributeError",
     "evalue": "'list' object has no attribute 'shape'",
     "output_type": "error",
     "traceback": [
      "\u001b[1;31m---------------------------------------------------------------------------\u001b[0m",
      "\u001b[1;31mAttributeError\u001b[0m                            Traceback (most recent call last)",
      "\u001b[1;32m<ipython-input-21-d822561cbaf9>\u001b[0m in \u001b[0;36m<module>\u001b[1;34m()\u001b[0m\n\u001b[1;32m----> 1\u001b[1;33m \u001b[0my_train\u001b[0m\u001b[1;33m.\u001b[0m\u001b[0mshape\u001b[0m\u001b[1;33m\u001b[0m\u001b[0m\n\u001b[0m",
      "\u001b[1;31mAttributeError\u001b[0m: 'list' object has no attribute 'shape'"
     ]
    }
   ],
   "source": [
    "y_train.shape"
   ]
  },
  {
   "cell_type": "code",
   "execution_count": null,
   "metadata": {
    "collapsed": true
   },
   "outputs": [],
   "source": [
    "loss_log = []\n",
    "for lr_factor in range(-5, 0):\n",
    "    lr = 10 ** lr_factor\n",
    "    optimizer = Adam(lr = lr)\n",
    "    model.compile(optimizer=optimizer, loss='categorical_crossentropy')\n",
    "    loss = model.train_on_batch(x_train[:64,:], [x[:64] for x in y_train])\n",
    "    loss_log.append(loss)"
   ]
  },
  {
   "cell_type": "code",
   "execution_count": null,
   "metadata": {},
   "outputs": [],
   "source": [
    "[x[0] for x in loss_log]"
   ]
  },
  {
   "cell_type": "code",
   "execution_count": null,
   "metadata": {
    "collapsed": true
   },
   "outputs": [],
   "source": []
  }
 ],
 "metadata": {
  "kernelspec": {
   "display_name": "Python 3",
   "language": "python",
   "name": "python3"
  },
  "language_info": {
   "codemirror_mode": {
    "name": "ipython",
    "version": 3
   },
   "file_extension": ".py",
   "mimetype": "text/x-python",
   "name": "python",
   "nbconvert_exporter": "python",
   "pygments_lexer": "ipython3",
   "version": "3.6.3"
  }
 },
 "nbformat": 4,
 "nbformat_minor": 2
}
