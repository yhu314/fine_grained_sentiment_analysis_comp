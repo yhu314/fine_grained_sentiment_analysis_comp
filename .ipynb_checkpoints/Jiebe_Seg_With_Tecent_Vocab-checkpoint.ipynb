{
 "cells": [
  {
   "cell_type": "code",
   "execution_count": 7,
   "metadata": {},
   "outputs": [],
   "source": [
    "import jieba\n",
    "import pickle\n",
    "import pyprind\n",
    "import pandas as pd\n",
    "# jieba.initialize()"
   ]
  },
  {
   "cell_type": "code",
   "execution_count": 2,
   "metadata": {
    "collapsed": true
   },
   "outputs": [],
   "source": [
    "vocab_path = '../tencent_embedding/vocab.pickle'"
   ]
  },
  {
   "cell_type": "code",
   "execution_count": 3,
   "metadata": {
    "collapsed": true
   },
   "outputs": [],
   "source": [
    "with open(vocab_path, 'rb') as file:\n",
    "    vocab = pickle.load(file)"
   ]
  },
  {
   "cell_type": "code",
   "execution_count": 4,
   "metadata": {},
   "outputs": [
    {
     "name": "stderr",
     "output_type": "stream",
     "text": [
      "0% [##############################] 100% | ETA: 00:00:00\n",
      "Total time elapsed: 00:04:56\n"
     ]
    }
   ],
   "source": [
    "prog_bar = pyprind.ProgBar(len(vocab))\n",
    "for word, _ in vocab.items():\n",
    "    jieba.add_word(word)\n",
    "    prog_bar.update()"
   ]
  },
  {
   "cell_type": "code",
   "execution_count": 5,
   "metadata": {
    "collapsed": true
   },
   "outputs": [],
   "source": [
    "train_data_path = '../datasets/sentiment_analysis_trainingset.csv'\n",
    "valid_data_path = '../datasets/sentiment_analysis_validationset.csv'\n",
    "test_data_path = '../datasets/sentiment_analysis_testa.csv'"
   ]
  },
  {
   "cell_type": "code",
   "execution_count": 10,
   "metadata": {},
   "outputs": [],
   "source": [
    "train_df = pd.read_csv(train_data_path, index_col=0)\n",
    "valid_df = pd.read_csv(valid_data_path, index_col=0)\n",
    "test_df = pd.read_csv(test_data_path, index_col=0)"
   ]
  },
  {
   "cell_type": "code",
   "execution_count": 18,
   "metadata": {},
   "outputs": [],
   "source": [
    "train_df['jieba_tencent_cut'] = train_df['content'].apply(lambda x: ' '.join(jieba.lcut(x)))"
   ]
  },
  {
   "cell_type": "code",
   "execution_count": 21,
   "metadata": {},
   "outputs": [
    {
     "name": "stderr",
     "output_type": "stream",
     "text": [
      "0% [##############################] 100% | ETA: 00:00:00\n",
      "Total time elapsed: 00:00:30\n"
     ]
    }
   ],
   "source": [
    "prog_bar = pyprind.ProgBar(len(vocab))\n",
    "with open('../datasets/vocabulary_Chinese.txt', 'w', encoding='utf8') as file:\n",
    "    for word, _ in vocab.items():\n",
    "        file.write(word + '\\n')\n",
    "        prog_bar.update()"
   ]
  },
  {
   "cell_type": "code",
   "execution_count": null,
   "metadata": {
    "collapsed": true
   },
   "outputs": [],
   "source": []
  }
 ],
 "metadata": {
  "kernelspec": {
   "display_name": "Python 3",
   "language": "python",
   "name": "python3"
  },
  "language_info": {
   "codemirror_mode": {
    "name": "ipython",
    "version": 3
   },
   "file_extension": ".py",
   "mimetype": "text/x-python",
   "name": "python",
   "nbconvert_exporter": "python",
   "pygments_lexer": "ipython3",
   "version": "3.6.3"
  }
 },
 "nbformat": 4,
 "nbformat_minor": 2
}
