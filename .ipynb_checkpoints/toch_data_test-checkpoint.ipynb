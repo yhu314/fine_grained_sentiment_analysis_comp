{
 "cells": [
  {
   "cell_type": "code",
   "execution_count": 44,
   "metadata": {},
   "outputs": [],
   "source": [
    "from torch_data import UserCommentDataset\n",
    "from train_config import targets, data_path_config\n",
    "import re\n",
    "from gensim.models import KeyedVectors\n",
    "from utils import build_tok2idx, build_embedding_matrix\n",
    "hierarchical_model_config = {\n",
    "    'max_sentences': 240,\n",
    "    'max_sentence_length': 40\n",
    "}\n"
   ]
  },
  {
   "cell_type": "code",
   "execution_count": 2,
   "metadata": {
    "collapsed": true
   },
   "outputs": [],
   "source": [
    "def remove_special_tokens(sent):\n",
    "    tokens = {'*', '^', 'O'}\n",
    "    for token in tokens:\n",
    "        sent = sent.replace(token, '')\n",
    "    return sent"
   ]
  },
  {
   "cell_type": "code",
   "execution_count": 3,
   "metadata": {
    "collapsed": true
   },
   "outputs": [],
   "source": [
    "def process_error_seg(sent):\n",
    "    repls = [('(是\\s吗\\s*){1,}', '是吗'),\n",
    "             ('(去\\s吧\\s*){1,}', '去吧'),\n",
    "             ('(坑\\s爹\\s*){1,}', '坑爹')]\n",
    "    for pattern, repl in repls:\n",
    "        sent = re.sub(pattern, repl, sent)\n",
    "    return sent"
   ]
  },
  {
   "cell_type": "code",
   "execution_count": 19,
   "metadata": {},
   "outputs": [],
   "source": [
    "def split_sentence(sent):\n",
    "    splits = ';+|。+|！+|…+|\\r+|\\n+|，+|~+|!+|\\s{2,}|,+|\\.{1,}|～+|、+|\\'+|≡+|·+|-+|〜'\n",
    "    return re.split(splits, sent)"
   ]
  },
  {
   "cell_type": "code",
   "execution_count": 20,
   "metadata": {
    "collapsed": true
   },
   "outputs": [],
   "source": [
    "def process_sentence(sents):\n",
    "    processed_sents = []\n",
    "    void_set = {' ', '', '*', '^', 'O'}\n",
    "    for sent in sents:\n",
    "        sent = sent.lstrip(' ').rstrip(' ')\n",
    "        if sent in void_set:\n",
    "            continue\n",
    "        processed_sents.append(sent)\n",
    "    return processed_sents"
   ]
  },
  {
   "cell_type": "code",
   "execution_count": 21,
   "metadata": {
    "collapsed": true
   },
   "outputs": [],
   "source": [
    "def remove_dups(sents):\n",
    "    processed_sents = []\n",
    "    appeared_sents = set()\n",
    "    for sent in sents:\n",
    "        if sent in appeared_sents:\n",
    "            continue\n",
    "        appeared_sents.add(sent)\n",
    "        processed_sents.append(sent)\n",
    "    return processed_sents"
   ]
  },
  {
   "cell_type": "code",
   "execution_count": 22,
   "metadata": {
    "collapsed": true
   },
   "outputs": [],
   "source": [
    "transformers = [remove_special_tokens, process_error_seg, split_sentence, process_sentence, remove_dups]"
   ]
  },
  {
   "cell_type": "code",
   "execution_count": 23,
   "metadata": {},
   "outputs": [],
   "source": [
    "sample = UserCommentDataset(data_path_config['train_data_path'], targets=None, content='jieba_seg', transformers= transformers)"
   ]
  },
  {
   "cell_type": "code",
   "execution_count": 24,
   "metadata": {},
   "outputs": [],
   "source": [
    "sents, tag, tag_cat = zip(*sample)"
   ]
  },
  {
   "cell_type": "code",
   "execution_count": 25,
   "metadata": {},
   "outputs": [
    {
     "data": {
      "text/plain": [
       "240"
      ]
     },
     "execution_count": 25,
     "metadata": {},
     "output_type": "execute_result"
    }
   ],
   "source": [
    "max([len(x) for x in sents])"
   ]
  },
  {
   "cell_type": "code",
   "execution_count": 26,
   "metadata": {},
   "outputs": [
    {
     "name": "stdout",
     "output_type": "stream",
     "text": [
      "吼吼 吼\n",
      "萌死 人 的 棒棒糖\n",
      "中 了 大众 点评 的 霸王餐\n",
      "一直 就 好奇 这个 棒棒糖 是 怎么 个 东西\n",
      "大众 点评 给 了 我 这个 土老冒 一个 见识 的 机会\n",
      "所以 4 个人 花 了 100 不到 【 这个 优惠券 只能 在 1 层用\n",
      "你 厨师 哪里 请来 的 啊 大街 上 随便 拉 个人 过来 都 烤 的 比 你好 吧 ？\n",
      "果然 是 老 厦门 的 地方 吗 ？ 我 一般 是从 角滨路 禾祥西 那个 十字路口 附近 的 消防大队 旁边 的 那条 小路 走进 去\n",
      "根据 介绍 这到 想 吃 麻辣 就 红 汤锅 \u0007 \u0006 \u0006 \u0006 \u0007 \u0006 \u0005 \u0007 \u0007 \u0007 \u0006 bbb \u0007 \u0005 \u0007 \u0005 b \u0005 \u0006 b \u0006 b \u0006 \u0006 \u0006 \u0007\n",
      "单身 狗 你 占 了 便宜 还 要求 怎么样 啊 ） 带 着 妈妈 一 起飞 ✌ ️ 七楼 唯一 不用 排队 旁边 一直 是 蜜桃 叫 号 约会 建议 不要 饭点 去 点菜 自助 写 编码 就 可以 啦 棒棒 嗒 ✌ ️\n",
      "鱼肉 也 是 鲜嫩 至极 感觉 上面 还淋上 了 少许 的 柠檬汁 还是 这样 的 烤鱼 比较 原汁原味 （ 有 鲳鱼 和 鲈鱼 两种 ） 毛蟹 炒年糕 也 不错 但 就是 酱汁 有 一点 偏甜 需要 改进 而且 年糕 块 也 可以 再 小 一点 要是 放 上 一点 牛柳 可能 会 更好\n",
      "可能 是 可能 是 去 的 比较 早 所以 提前 去 的 时候 打个 电话 就 可以 了 店 里面 很 干净 的 主导 是 铁板烧 点 了 好几份 刺身 但是 服务员 的 态度 很 好 很 好 饮料 梅列会 主动 来 询问 你 二 饮料 够不够 或者 是 要 不要 再 加一点 啊 刺身 新鲜 的 铁板烧 的 师傅 态度 也 很 好点 了 很多 也 一直 给 我们 做 材料 也 挺 新鲜 的\n",
      "你 要 请 我 吃 章鱼 小丸子 炸 臭豆腐 上校 鸡块 烤 面筋 麻辣 鸭 脖 酸辣粉 鳕鱼 盖浇饭 手 抓 饼 瘦肉 丸 布丁 巧克力 奶茶 寿司 森永 水果糖 不 二家 棒棒糖 悠哈 烤肉 汉堡 冰淇淋 黑森林 奶昔 慕斯 毛血旺 鸡公 煲 串 烧烤 羊腿 牛 板筋 糖醋 花生 驴打滚 儿 果脯 绿豆糕 夫妻 肺片 圆笼 粉蒸肉 麻辣 猪肝 掉渣饼 东坡肉 板栗 烧鸡 可乐 鸡翅 纸包 酸奶 冰棒 芒果 西米露 肉末 茄子 软式 法国 面包 猫舌饼 可丽饼 小泡 芙 刨冰 通心面 海绵 蛋糕 洋葱 汤 雀巢 沙拉 冰糖葫芦 糖 炒栗子 黄 烤红薯 哦\n",
      "我们 吃 了 好 多次 几点 乙方 甲方 借读费 姐夫 饭卡 飞机 覅 vi 日 飞机 飞 飞机 充卡 饭卡 覅 图 乖 啦 后 顾 瑞卡 v 给 块 工技 大 v 出发 天赋 日 分开 vi 乖 哦 赶快 G8G8 顾 国际法 叫 她 姐个 it 哦 图 工具 偶额 u 发看 哈 体罚 据统计 日系 回答 句法 金卡 高雅 小嘎 以后 独唱 团太 孤独 烦得 很 沙发 会 饿 企鹅 哦 家 回答 睡 吧 v 子 就 多 大 脚后跟 废墟 回 公司 vif 小鸡鸡 有 撒 v 没 开发 的 发 吧 就 鸡巴 吃 呀 干 撒嘻哈 开发 出 年纪 粉底 根本 就 吃 出 健康 i 吃 半年 卡\n",
      "• • • • • • • • • • • • • • • • • • • • • • • • • • • • • • • • • • • • • • • • • • • • • • • • • • 进入 DP 分割线 • • • • • • • • • • • • • • • • • • • • • • • • • • • • • • • • • • • • • • • • • • • • • • • • • • • • • • • • • • • • • • • • • • • • • • • • •\n",
      "位置 在 海航 万邦 的 四楼 〜 中午 11 点 开始 〜 周末 去 的 〜 11 点时 已经 有 不少 人 了 〜 东西 很多 〜 菜品 丰富 〜 可以 自助 烤肉 〜 是 很 有 特色 的 黑 牛肉 〜 都 切 好 薄片 分盘 放在 冰柜 里 〜 非常 方便 〜 还有 现烤 的 肉 串 〜 在 其他 自助 也 比较 少见 吧 〜 正好 有刚 烤 好 的 鸡心 就 拿 了 一串 〜 味道 很 不错 〜 铁板烧 的 种类 也 不少 〜 进门 入座 的 时候 服务生 会 给 每人 几个 有桌 号 的 小牌 〜 想点 什么 铁板烧 的 就 在 菜品 前面 放小 牌 〜 做好 后 菜品 和 小牌 会 一起 给 送过来 〜 这样 的 安排 很 合理 〜 烤鹅肝 很 好吃\n",
      "大家 觉得 惊喜交加 大家 都 快点 快点 看看 的 大结局 都 觉得 亟待解决 的 就 大哭 大哭 大哭 的 亟待解决 的 觉得 亟待解决 大姐 大姐 大姐大 姐姐 代扣代缴 大家 坑爹 坑 爹 坑 爹 坑 爹 坑 爹 坑 爹 坑 爹 坑 爹 看看 大哭 大哭 大哭 大哭 大家 觉得 亟待解决 大姐 大姐 大姐 大姐 大姐 打开 看看 大家 亟待解决 的 基督教 的 亟待解决 的 亟待解决 额 呵呵 呵呵 呵 电话 电话 好多好多 好多好多 计划 大姐 大姐 大姐 大姐 亟待解决 的 觉得 亟待解决 的 亟待解决 大姐 大姐 的 亟待解决 就是 襟江带湖 大家 都 觉得 亟待解决 的 还 大喊大叫 大姐 经济 的 觉得 亟待解决 大姐 大姐 的 亟待解决 的 觉得 大姐 经济 大姐 大姐 大姐 大姐 的 亟待解决 的 大 姐姐 大姐 大姐 大姐 经济 大姐 大姐 大姐 的 亟待解决 大姐 大姐 大姐 大姐 大姐 大姐 大姐 大姐 的 亟待解决 大姐 大姐 大姐 大姐 大姐 不是 宝宝 打扮 打扮 打扮 巴登 巴登 吧 不失时机 徐徐 嘻嘻 弟弟\n"
     ]
    },
    {
     "data": {
      "text/plain": [
       "157"
      ]
     },
     "execution_count": 26,
     "metadata": {},
     "output_type": "execute_result"
    }
   ],
   "source": [
    "max_len = 0\n",
    "max_len_sent = ''\n",
    "max_idx = 0\n",
    "for idx, sent in enumerate(sents):\n",
    "    for words in sent:\n",
    "        n_words = len([x for x in words.split(' ') if x != ''])\n",
    "        if n_words > max_len:\n",
    "            print(words)\n",
    "            max_len = n_words\n",
    "            max_len_sent = words\n",
    "            max_idx = idx\n",
    "max_len"
   ]
  },
  {
   "cell_type": "code",
   "execution_count": 27,
   "metadata": {},
   "outputs": [
    {
     "data": {
      "text/plain": [
       "'大家 觉得 惊喜交加 大家 都 快点 快点 看看 的 大结局 都 觉得 亟待解决 的 就 大哭 大哭 大哭 的 亟待解决 的 觉得 亟待解决 大姐 大姐 大姐大 姐姐 代扣代缴 大家 坑爹 坑 爹 坑 爹 坑 爹 坑 爹 坑 爹 坑 爹 坑 爹 看看 大哭 大哭 大哭 大哭 大家 觉得 亟待解决 大姐 大姐 大姐 大姐 大姐 打开 看看 大家 亟待解决 的 基督教 的 亟待解决 的 亟待解决 额 呵呵 呵呵 呵 电话 电话 好多好多 好多好多 计划 大姐 大姐 大姐 大姐 亟待解决 的 觉得 亟待解决 的 亟待解决 大姐 大姐 的 亟待解决 就是 襟江带湖 大家 都 觉得 亟待解决 的 还 大喊大叫 大姐 经济 的 觉得 亟待解决 大姐 大姐 的 亟待解决 的 觉得 大姐 经济 大姐 大姐 大姐 大姐 的 亟待解决 的 大 姐姐 大姐 大姐 大姐 经济 大姐 大姐 大姐 的 亟待解决 大姐 大姐 大姐 大姐 大姐 大姐 大姐 大姐 的 亟待解决 大姐 大姐 大姐 大姐 大姐 不是 宝宝 打扮 打扮 打扮 巴登 巴登 吧 不失时机 徐徐 嘻嘻 弟弟'"
      ]
     },
     "execution_count": 27,
     "metadata": {},
     "output_type": "execute_result"
    }
   ],
   "source": [
    "max_len_sent"
   ]
  },
  {
   "cell_type": "code",
   "execution_count": 28,
   "metadata": {},
   "outputs": [
    {
     "data": {
      "text/plain": [
       "41331"
      ]
     },
     "execution_count": 28,
     "metadata": {},
     "output_type": "execute_result"
    }
   ],
   "source": [
    "max_idx"
   ]
  },
  {
   "cell_type": "code",
   "execution_count": null,
   "metadata": {},
   "outputs": [],
   "source": [
    "import pandas as pd\n",
    "data = pd.read_csv(data_path_config['train_data_path'])"
   ]
  },
  {
   "cell_type": "code",
   "execution_count": null,
   "metadata": {},
   "outputs": [],
   "source": [
    "data['content'].values[max_idx]"
   ]
  },
  {
   "cell_type": "code",
   "execution_count": null,
   "metadata": {},
   "outputs": [],
   "source": [
    "data['jieba_seg'].values[max_idx]"
   ]
  },
  {
   "cell_type": "code",
   "execution_count": null,
   "metadata": {},
   "outputs": [],
   "source": [
    "re.split(splits, sents[86749])"
   ]
  },
  {
   "cell_type": "code",
   "execution_count": null,
   "metadata": {},
   "outputs": [],
   "source": [
    "sents[29505]"
   ]
  },
  {
   "cell_type": "code",
   "execution_count": null,
   "metadata": {
    "collapsed": true
   },
   "outputs": [],
   "source": [
    "def transform(sents):\n",
    "    processed_sents = []\n",
    "    for sent in sents:\n",
    "        sent = sent.lstrip(' ').rstrip(' ')\n",
    "        if sent == ' ' or sent == '':\n",
    "            continue\n",
    "        print(sent)\n",
    "        processed_sents.append(sent)\n",
    "    return processed_sents"
   ]
  },
  {
   "cell_type": "code",
   "execution_count": null,
   "metadata": {},
   "outputs": [],
   "source": [
    "transform(re.split(splits, sents[86749]))"
   ]
  },
  {
   "cell_type": "code",
   "execution_count": null,
   "metadata": {},
   "outputs": [],
   "source": [
    "re.split(splits, sents[86749])[50].lstrip(' ').rstrip(' ')"
   ]
  },
  {
   "cell_type": "code",
   "execution_count": null,
   "metadata": {
    "collapsed": true
   },
   "outputs": [],
   "source": [
    "sent = \" 吼吼 吼 ， 萌死 人 的 棒棒糖 ， 中 了 大众 点评 的 霸王餐 ， 太 可爱 了 。 一直 就 好奇 这个 棒棒糖 是 怎么 个 东西 ， 大众 点评 给 了 我 这个 土老冒 一个 见识 的 机会 。 看 介绍 棒棒糖 是 用 德国 糖 做 的 ， 不会 很甜 ， 中间 的 照片 是 糯米 的 ， 能 食用 ， 真是太 高端 大气 上档次 了 ， 还 可以 买 蝴蝶结 扎口 ， 送人 可以 买 礼盒 。 我 是 先 打 的 卖家 电话 ， 加 了 微信 ， 给 卖家 传 的 照片 。 等 了 几天 ， 卖家 就 告诉 我 可以 取货 了 ， 去 大官 屯 那取 的 。 虽然 连 卖家 的 面 都 没 见到 ， 但是 还是 谢谢 卖家 送 我 这么 可爱 的 东西 ， 太 喜欢 了 ， 这 哪 舍得吃 啊 。 \""
   ]
  },
  {
   "cell_type": "code",
   "execution_count": null,
   "metadata": {},
   "outputs": [],
   "source": [
    "remove_token(sent)"
   ]
  },
  {
   "cell_type": "code",
   "execution_count": null,
   "metadata": {},
   "outputs": [],
   "source": [
    "sent = sent.lstrip('\"').rstrip('\"')"
   ]
  },
  {
   "cell_type": "code",
   "execution_count": null,
   "metadata": {},
   "outputs": [],
   "source": [
    "sent"
   ]
  },
  {
   "cell_type": "code",
   "execution_count": null,
   "metadata": {
    "collapsed": true
   },
   "outputs": [],
   "source": [
    "import jieba"
   ]
  },
  {
   "cell_type": "code",
   "execution_count": null,
   "metadata": {},
   "outputs": [],
   "source": [
    "jieba.lcut('\"位于愉景花园斜对面，交通方便，环境一般般，味道一般般，*^O^**^O^**^O^**^O^**^O^**^O^**^O^**^O^**^O^**^O^**^O^**^O^**^O^**^O^**^O^**^O^**^O^**^O^**^O^**^O^**^O^**^O^**^O^**^O^**^O^**^O^**^O^**^O^**^O^**^O^**^O^**^O^**^O^**^O^**^O^**^O^**^O^**^O^**^O^**^O^**^O^**^O^**^O^**^O^**^O^**^O^**^O^**^O^*\"')"
   ]
  },
  {
   "cell_type": "code",
   "execution_count": null,
   "metadata": {},
   "outputs": [],
   "source": [
    "'asd  asd'.replace('a', 'b')"
   ]
  },
  {
   "cell_type": "code",
   "execution_count": null,
   "metadata": {
    "collapsed": true
   },
   "outputs": [],
   "source": [
    "sent = '是 吗 是 吗 是 吗 是 吗 是 吗 是 吗 是 吗 是 吗 是 吗 是 吗 是 吗 是 吗 是 吗 是 吗 是 吗 是 吗 是 吗 是 吗 是 吗 是 吗 是 吗 是 吗 是 吗 是 吗 是 吗 是 吗 是 吗 是 吗 是 吗 是 吗 是 吗 是 吗 是 吗 是 吗 是 吗 是 吗 是 吗 是 吗 是 吗 是 吗 是 吗 是 吗 是 吗 是 吗 是 吗 是 吗 是 吗 是 吗 是 吗 是 吗 是 吗 是 吗 是 吗 是 吗 是 吗 是 吗 是 吗 是 吗 是 吗 是 吗 是 吗 是 吗 是 吗 是 吗 是 吗 是 吗'"
   ]
  },
  {
   "cell_type": "code",
   "execution_count": 29,
   "metadata": {},
   "outputs": [
    {
     "data": {
      "text/plain": [
       "['吼吼 吼',\n",
       " '萌死 人 的 棒棒糖',\n",
       " '中 了 大众 点评 的 霸王餐',\n",
       " '太 可爱 了',\n",
       " '一直 就 好奇 这个 棒棒糖 是 怎么 个 东西',\n",
       " '大众 点评 给 了 我 这个 土老冒 一个 见识 的 机会',\n",
       " '看 介绍 棒棒糖 是 用 德国 糖 做 的',\n",
       " '不会 很甜',\n",
       " '中间 的 照片 是 糯米 的',\n",
       " '能 食用',\n",
       " '真是太 高端 大气 上档次 了',\n",
       " '还 可以 买 蝴蝶结 扎口',\n",
       " '送人 可以 买 礼盒',\n",
       " '我 是 先 打 的 卖家 电话',\n",
       " '加 了 微信',\n",
       " '给 卖家 传 的 照片',\n",
       " '等 了 几天',\n",
       " '卖家 就 告诉 我 可以 取货 了',\n",
       " '去 大官 屯 那取 的',\n",
       " '虽然 连 卖家 的 面 都 没 见到',\n",
       " '但是 还是 谢谢 卖家 送 我 这么 可爱 的 东西',\n",
       " '太 喜欢 了',\n",
       " '这 哪 舍得吃 啊']"
      ]
     },
     "execution_count": 29,
     "metadata": {},
     "output_type": "execute_result"
    }
   ],
   "source": [
    "sents[0]"
   ]
  },
  {
   "cell_type": "code",
   "execution_count": null,
   "metadata": {},
   "outputs": [],
   "source": [
    "re.sub('(是\\s吗\\s*){1,}','是吧',sent)"
   ]
  },
  {
   "cell_type": "code",
   "execution_count": 36,
   "metadata": {},
   "outputs": [
    {
     "data": {
      "text/plain": [
       "array([[[0, 0, 0, ..., 0, 0, 0],\n",
       "        [0, 0, 0, ..., 0, 0, 0],\n",
       "        [0, 0, 0, ..., 0, 0, 0],\n",
       "        ...,\n",
       "        [0, 0, 0, ..., 0, 0, 0],\n",
       "        [0, 0, 0, ..., 0, 0, 0],\n",
       "        [0, 0, 0, ..., 0, 0, 0]],\n",
       "\n",
       "       [[0, 0, 0, ..., 0, 0, 0],\n",
       "        [0, 0, 0, ..., 0, 0, 0],\n",
       "        [0, 0, 0, ..., 0, 0, 0],\n",
       "        ...,\n",
       "        [0, 0, 0, ..., 0, 0, 0],\n",
       "        [0, 0, 0, ..., 0, 0, 0],\n",
       "        [0, 0, 0, ..., 0, 0, 0]],\n",
       "\n",
       "       [[0, 0, 0, ..., 0, 0, 0],\n",
       "        [0, 0, 0, ..., 0, 0, 0],\n",
       "        [0, 0, 0, ..., 0, 0, 0],\n",
       "        ...,\n",
       "        [0, 0, 0, ..., 0, 0, 0],\n",
       "        [0, 0, 0, ..., 0, 0, 0],\n",
       "        [0, 0, 0, ..., 0, 0, 0]],\n",
       "\n",
       "       ...,\n",
       "\n",
       "       [[0, 0, 0, ..., 0, 0, 0],\n",
       "        [0, 0, 0, ..., 0, 0, 0],\n",
       "        [0, 0, 0, ..., 0, 0, 0],\n",
       "        ...,\n",
       "        [0, 0, 0, ..., 0, 0, 0],\n",
       "        [0, 0, 0, ..., 0, 0, 0],\n",
       "        [0, 0, 0, ..., 0, 0, 0]],\n",
       "\n",
       "       [[0, 0, 0, ..., 0, 0, 0],\n",
       "        [0, 0, 0, ..., 0, 0, 0],\n",
       "        [0, 0, 0, ..., 0, 0, 0],\n",
       "        ...,\n",
       "        [0, 0, 0, ..., 0, 0, 0],\n",
       "        [0, 0, 0, ..., 0, 0, 0],\n",
       "        [0, 0, 0, ..., 0, 0, 0]],\n",
       "\n",
       "       [[0, 0, 0, ..., 0, 0, 0],\n",
       "        [0, 0, 0, ..., 0, 0, 0],\n",
       "        [0, 0, 0, ..., 0, 0, 0],\n",
       "        ...,\n",
       "        [0, 0, 0, ..., 0, 0, 0],\n",
       "        [0, 0, 0, ..., 0, 0, 0],\n",
       "        [0, 0, 0, ..., 0, 0, 0]]], dtype=int16)"
      ]
     },
     "execution_count": 36,
     "metadata": {},
     "output_type": "execute_result"
    }
   ],
   "source": [
    "import numpy as np\n",
    "np.zeros((len(sample), 240, 100), dtype='int16')"
   ]
  },
  {
   "cell_type": "code",
   "execution_count": 35,
   "metadata": {},
   "outputs": [
    {
     "data": {
      "text/plain": [
       "65535"
      ]
     },
     "execution_count": 35,
     "metadata": {},
     "output_type": "execute_result"
    }
   ],
   "source": [
    "2 ** 16 - 1"
   ]
  },
  {
   "cell_type": "code",
   "execution_count": 95,
   "metadata": {
    "collapsed": true
   },
   "outputs": [],
   "source": [
    "def sentence2array(data, tok2idx):\n",
    "    max_sentences = hierarchical_model_config['max_sentences']\n",
    "    max_words = hierarchical_model_config['max_sentence_length']\n",
    "    n_sentences = len(data)\n",
    "    sentence_array = np.zeros((n_sentences, max_sentences, max_words), dtype='int16')\n",
    "    for row_idx, sentences in enumerate(data):\n",
    "        for sent_idx, sentence in enumerate(sentences):\n",
    "            if sent_idx >= max_sentences:\n",
    "                continue\n",
    "            words_list = sentence.split(' ')\n",
    "            print(words_list)\n",
    "            for word_idx, word in enumerate(words_list):\n",
    "                if word_idx >= max_words:\n",
    "                    print(word_idx)\n",
    "                    continue\n",
    "                if word not in tok2idx:\n",
    "                    continue\n",
    "                print(tok2idx[word])\n",
    "                sentence_array[row_idx, sent_idx, word_idx] = tok2idx[word]\n",
    "    return sentence_array"
   ]
  },
  {
   "cell_type": "code",
   "execution_count": 53,
   "metadata": {
    "collapsed": true
   },
   "outputs": [],
   "source": [
    "w2v = KeyedVectors.load_word2vec_format(data_path_config['embedding_path'],\n",
    "                                            binary=True, unicode_errors='ignore')"
   ]
  },
  {
   "cell_type": "code",
   "execution_count": 54,
   "metadata": {
    "collapsed": true
   },
   "outputs": [],
   "source": [
    "tok2idx = build_tok2idx(w2v)"
   ]
  },
  {
   "cell_type": "code",
   "execution_count": 96,
   "metadata": {},
   "outputs": [
    {
     "name": "stdout",
     "output_type": "stream",
     "text": [
      "['吼吼', '吼']\n",
      "7468\n",
      "7365\n",
      "['萌死', '人', '的', '棒棒糖']\n",
      "46210\n",
      "30\n",
      "2\n",
      "13778\n",
      "['中', '了', '大众', '点评', '的', '霸王餐']\n",
      "167\n",
      "4\n",
      "161\n",
      "101\n",
      "2\n",
      "293\n",
      "['太', '可爱', '了']\n",
      "113\n",
      "840\n",
      "4\n",
      "['一直', '就', '好奇', '这个', '棒棒糖', '是', '怎么', '个', '东西']\n",
      "159\n",
      "13\n",
      "2651\n",
      "60\n",
      "13778\n",
      "5\n",
      "335\n",
      "91\n",
      "166\n",
      "['大众', '点评', '给', '了', '我', '这个', '土老冒', '一个', '见识', '的', '机会']\n",
      "161\n",
      "101\n",
      "65\n",
      "4\n",
      "14\n",
      "60\n",
      "38\n",
      "7366\n",
      "2\n",
      "441\n",
      "['看', '介绍', '棒棒糖', '是', '用', '德国', '糖', '做', '的']\n",
      "111\n",
      "484\n",
      "13778\n",
      "5\n",
      "105\n",
      "3591\n",
      "1128\n",
      "93\n",
      "2\n",
      "['不会', '很甜']\n",
      "142\n",
      "1245\n",
      "['中间', '的', '照片', '是', '糯米', '的']\n",
      "606\n",
      "2\n",
      "1059\n",
      "5\n",
      "1021\n",
      "2\n",
      "['能', '食用']\n",
      "104\n",
      "2532\n",
      "['真是太', '高端', '大气', '上档次', '了']\n",
      "2457\n",
      "2180\n",
      "1823\n",
      "3578\n",
      "4\n",
      "['还', '可以', '买', '蝴蝶结', '扎口']\n",
      "18\n",
      "23\n",
      "200\n",
      "25824\n",
      "57037\n",
      "['送人', '可以', '买', '礼盒']\n",
      "14016\n",
      "23\n",
      "200\n",
      "8066\n",
      "['我', '是', '先', '打', '的', '卖家', '电话']\n",
      "14\n",
      "5\n",
      "496\n",
      "465\n",
      "2\n",
      "5582\n",
      "997\n",
      "['加', '了', '微信']\n",
      "210\n",
      "4\n",
      "1094\n",
      "['给', '卖家', '传', '的', '照片']\n",
      "65\n",
      "5582\n",
      "7053\n",
      "2\n",
      "1059\n",
      "['等', '了', '几天']\n",
      "102\n",
      "4\n",
      "1322\n",
      "['卖家', '就', '告诉', '我', '可以', '取货', '了']\n",
      "5582\n",
      "13\n",
      "794\n",
      "14\n",
      "23\n",
      "21127\n",
      "4\n",
      "['去', '大官', '屯', '那取', '的']\n",
      "26\n",
      "8228\n",
      "2\n",
      "['虽然', '连', '卖家', '的', '面', '都', '没', '见到']\n",
      "145\n",
      "632\n",
      "5582\n",
      "2\n",
      "222\n",
      "11\n",
      "58\n",
      "1884\n",
      "['但是', '还是', '谢谢', '卖家', '送', '我', '这么', '可爱', '的', '东西']\n",
      "42\n",
      "25\n",
      "1413\n",
      "5582\n",
      "226\n",
      "14\n",
      "229\n",
      "840\n",
      "2\n",
      "166\n",
      "['太', '喜欢', '了']\n",
      "113\n",
      "44\n",
      "4\n",
      "['这', '哪', '舍得吃', '啊']\n",
      "84\n",
      "1574\n",
      "18394\n",
      "69\n"
     ]
    }
   ],
   "source": [
    "sss = sentence2array([sents[0]], tok2idx)"
   ]
  },
  {
   "cell_type": "code",
   "execution_count": 98,
   "metadata": {},
   "outputs": [
    {
     "data": {
      "text/plain": [
       "array([-19326,  -8499], dtype=int16)"
      ]
     },
     "execution_count": 98,
     "metadata": {},
     "output_type": "execute_result"
    }
   ],
   "source": [
    "sss[sss<0]"
   ]
  },
  {
   "cell_type": "code",
   "execution_count": null,
   "metadata": {
    "collapsed": true
   },
   "outputs": [],
   "source": []
  },
  {
   "cell_type": "code",
   "execution_count": 97,
   "metadata": {},
   "outputs": [
    {
     "data": {
      "text/plain": [
       "46210"
      ]
     },
     "execution_count": 97,
     "metadata": {},
     "output_type": "execute_result"
    }
   ],
   "source": [
    "tok2idx['萌死']"
   ]
  },
  {
   "cell_type": "code",
   "execution_count": 71,
   "metadata": {},
   "outputs": [
    {
     "data": {
      "text/plain": [
       "['吼吼 吼',\n",
       " '萌死 人 的 棒棒糖',\n",
       " '中 了 大众 点评 的 霸王餐',\n",
       " '太 可爱 了',\n",
       " '一直 就 好奇 这个 棒棒糖 是 怎么 个 东西',\n",
       " '大众 点评 给 了 我 这个 土老冒 一个 见识 的 机会',\n",
       " '看 介绍 棒棒糖 是 用 德国 糖 做 的',\n",
       " '不会 很甜',\n",
       " '中间 的 照片 是 糯米 的',\n",
       " '能 食用',\n",
       " '真是太 高端 大气 上档次 了',\n",
       " '还 可以 买 蝴蝶结 扎口',\n",
       " '送人 可以 买 礼盒',\n",
       " '我 是 先 打 的 卖家 电话',\n",
       " '加 了 微信',\n",
       " '给 卖家 传 的 照片',\n",
       " '等 了 几天',\n",
       " '卖家 就 告诉 我 可以 取货 了',\n",
       " '去 大官 屯 那取 的',\n",
       " '虽然 连 卖家 的 面 都 没 见到',\n",
       " '但是 还是 谢谢 卖家 送 我 这么 可爱 的 东西',\n",
       " '太 喜欢 了',\n",
       " '这 哪 舍得吃 啊']"
      ]
     },
     "execution_count": 71,
     "metadata": {},
     "output_type": "execute_result"
    }
   ],
   "source": [
    "sents[0]"
   ]
  },
  {
   "cell_type": "code",
   "execution_count": 92,
   "metadata": {},
   "outputs": [
    {
     "data": {
      "text/plain": [
       "array([[  7468,   7365,      0, ...,      0,      0,      0],\n",
       "       [-19326,     30,      2, ...,      0,      0,      0],\n",
       "       [   167,      4,    161, ...,      0,      0,      0],\n",
       "       ...,\n",
       "       [     0,      0,      0, ...,      0,      0,      0],\n",
       "       [     0,      0,      0, ...,      0,      0,      0],\n",
       "       [     0,      0,      0, ...,      0,      0,      0]], dtype=int16)"
      ]
     },
     "execution_count": 92,
     "metadata": {},
     "output_type": "execute_result"
    }
   ],
   "source": [
    "sss[0,:,:]"
   ]
  },
  {
   "cell_type": "code",
   "execution_count": 74,
   "metadata": {},
   "outputs": [
    {
     "data": {
      "text/plain": [
       "23"
      ]
     },
     "execution_count": 74,
     "metadata": {},
     "output_type": "execute_result"
    }
   ],
   "source": [
    "len(sents[0])"
   ]
  },
  {
   "cell_type": "code",
   "execution_count": 79,
   "metadata": {},
   "outputs": [
    {
     "data": {
      "text/plain": [
       "True"
      ]
     },
     "execution_count": 79,
     "metadata": {},
     "output_type": "execute_result"
    }
   ],
   "source": [
    "'棒棒糖' in tok2idx"
   ]
  },
  {
   "cell_type": "code",
   "execution_count": 80,
   "metadata": {},
   "outputs": [
    {
     "data": {
      "text/plain": [
       "['萌死', '人', '的', '棒棒糖']"
      ]
     },
     "execution_count": 80,
     "metadata": {},
     "output_type": "execute_result"
    }
   ],
   "source": [
    "'萌死 人 的 棒棒糖'.split(' ')"
   ]
  },
  {
   "cell_type": "code",
   "execution_count": null,
   "metadata": {
    "collapsed": true
   },
   "outputs": [],
   "source": []
  }
 ],
 "metadata": {
  "kernelspec": {
   "display_name": "Python 3",
   "language": "python",
   "name": "python3"
  },
  "language_info": {
   "codemirror_mode": {
    "name": "ipython",
    "version": 3
   },
   "file_extension": ".py",
   "mimetype": "text/x-python",
   "name": "python",
   "nbconvert_exporter": "python",
   "pygments_lexer": "ipython3",
   "version": "3.6.3"
  }
 },
 "nbformat": 4,
 "nbformat_minor": 2
}
