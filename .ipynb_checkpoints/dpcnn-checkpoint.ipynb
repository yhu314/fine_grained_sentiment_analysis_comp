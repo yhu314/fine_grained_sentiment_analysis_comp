{
 "cells": [
  {
   "cell_type": "markdown",
   "metadata": {},
   "source": [
    "# This is a Basic Module for DPCNN"
   ]
  },
  {
   "cell_type": "code",
   "execution_count": 41,
   "metadata": {},
   "outputs": [],
   "source": [
    "from keras import Model\n",
    "from keras.layers import Dense, Embedding, Input, Flatten, Concatenate,\\\n",
    "    SpatialDropout1D, Conv1D, MaxPooling1D, Add, Reshape, ZeroPadding1D\n",
    "from keras.preprocessing.sequence import pad_sequences\n",
    "from keras_callbacks import *\n",
    "import numpy as np\n",
    "from metrics import f1\n",
    "import tensorflow as tf\n",
    "import keras.backend as K\n",
    "from keras.backend.tensorflow_backend import set_session\n",
    "from keras.losses import categorical_crossentropy\n",
    "from sklearn.metrics import f1_score\n",
    "config = tf.ConfigProto()\n",
    "config.gpu_options.per_process_gpu_memory_fraction = 0.9\n",
    "config.gpu_options.allow_growth=True\n",
    "set_session(tf.Session(config=config))\n",
    "K.clear_session()"
   ]
  },
  {
   "cell_type": "code",
   "execution_count": 2,
   "metadata": {
    "collapsed": true
   },
   "outputs": [],
   "source": [
    "def dp_block(input):\n",
    "    pool = ZeroPadding1D((0, 1))(input)\n",
    "    pool = MaxPooling1D(pool_size=3, strides=2, padding='valid')(pool)\n",
    "    conv = Conv1D(filters=250, strides=1, kernel_size=3, padding='same', activation='relu')(pool)  # keep dimension the same\n",
    "    conv = Conv1D(filters=250, strides=1, kernel_size=3, padding='same', use_bias=False, activation='relu')(conv)\n",
    "    shortcut = Add()([conv, pool])\n",
    "    return shortcut"
   ]
  },
  {
   "cell_type": "code",
   "execution_count": 3,
   "metadata": {
    "collapsed": true
   },
   "outputs": [],
   "source": [
    "def build_model(embedding_layer, maxlen, targets):\n",
    "    sent_input = Input((maxlen,), dtype='int32')\n",
    "    sent_embedded = embedding_layer(sent_input)\n",
    "\n",
    "    # region embedding\n",
    "    conv = Conv1D(filters=250, strides=1, kernel_size=3, padding='same', activation='relu')(sent_embedded)\n",
    "\n",
    "#     while conv.shape[1] > 2:\n",
    "#          conv = dp_block(conv)\n",
    "    \n",
    "    output_list = []\n",
    "    for target in targets:\n",
    "        flat_target = Flatten(name='flatten'+target)(conv)\n",
    "        output_target = Dense(4, name='output'+target, activation='softmax')(flat_target)\n",
    "        output_list.append(output_target)\n",
    "    model = Model(sent_input, output_list)\n",
    "    return model"
   ]
  },
  {
   "cell_type": "markdown",
   "metadata": {},
   "source": [
    "# Load Data"
   ]
  },
  {
   "cell_type": "code",
   "execution_count": 4,
   "metadata": {},
   "outputs": [
    {
     "name": "stderr",
     "output_type": "stream",
     "text": [
      "C:\\Users\\Yi\\Anaconda3\\lib\\site-packages\\gensim\\utils.py:1167: UserWarning: detected Windows; aliasing chunkize to chunkize_serial\n",
      "  warnings.warn(\"detected Windows; aliasing chunkize to chunkize_serial\")\n"
     ]
    }
   ],
   "source": [
    "from torch_data import UserCommentDataset, calculate_labels, save_predictions\n",
    "from train_config import data_path_config, targets\n",
    "from gensim.models import KeyedVectors\n",
    "from utils import *"
   ]
  },
  {
   "cell_type": "code",
   "execution_count": 42,
   "metadata": {
    "collapsed": true
   },
   "outputs": [],
   "source": [
    "maxlen = 256"
   ]
  },
  {
   "cell_type": "code",
   "execution_count": 43,
   "metadata": {
    "collapsed": true
   },
   "outputs": [],
   "source": [
    "train_dataset = UserCommentDataset(data_path_config['train_data_path'],\n",
    "                                   targets=targets,\n",
    "                                   content='jieba_seg',\n",
    "                                   transformers=None)\n",
    "validate_dataset = UserCommentDataset(data_path_config['valid_data_path'],\n",
    "                                      targets=targets,\n",
    "                                      content='jieba_seg',\n",
    "                                      transformers=None)\n",
    "test_dataset = UserCommentDataset(data_path_config['test_data_path'],\n",
    "                                  targets=None,\n",
    "                                  content='jieba_seg',\n",
    "                                  transformers=None)"
   ]
  },
  {
   "cell_type": "code",
   "execution_count": 44,
   "metadata": {
    "collapsed": true
   },
   "outputs": [],
   "source": [
    "train_sentences, train_targets = zip(*train_dataset)\n",
    "validate_sentences, validate_targets = zip(*validate_dataset)\n",
    "test_sentences, _ = zip(*test_dataset)"
   ]
  },
  {
   "cell_type": "code",
   "execution_count": 45,
   "metadata": {
    "collapsed": true
   },
   "outputs": [],
   "source": [
    "def decompose_targets(data):\n",
    "    decomposed_list = []\n",
    "    for idx, _ in enumerate(targets):\n",
    "        target_list = [x[idx] for x in data]\n",
    "        target_array = np.vstack(target_list)\n",
    "        decomposed_list.append(target_array)\n",
    "    return decomposed_list\n",
    "\n",
    "Y_train = decompose_targets(train_targets)\n",
    "Y_valid = decompose_targets(validate_targets)"
   ]
  },
  {
   "cell_type": "code",
   "execution_count": 46,
   "metadata": {
    "collapsed": true
   },
   "outputs": [],
   "source": [
    "w2v = KeyedVectors.load_word2vec_format(data_path_config['embedding_path'],\n",
    "                                        binary=True, unicode_errors='ignore')\n",
    "tok2idx = build_tok2idx(w2v)"
   ]
  },
  {
   "cell_type": "code",
   "execution_count": 47,
   "metadata": {
    "collapsed": true
   },
   "outputs": [],
   "source": [
    "w2v_matrix = build_embedding_matrix(tok2idx, w2v, data_path_config['embedding_dim'])"
   ]
  },
  {
   "cell_type": "code",
   "execution_count": 48,
   "metadata": {
    "collapsed": true
   },
   "outputs": [],
   "source": [
    "X_train_seq = texts_to_sequences(train_sentences, tok2idx)\n",
    "X_valid_seq = texts_to_sequences(validate_sentences, tok2idx)\n",
    "X_test_seq = texts_to_sequences(test_sentences, tok2idx)"
   ]
  },
  {
   "cell_type": "code",
   "execution_count": 49,
   "metadata": {
    "collapsed": true
   },
   "outputs": [],
   "source": [
    "X_train_pad = pad_sequences(X_train_seq, maxlen=maxlen)\n",
    "X_valid_pad = pad_sequences(X_valid_seq, maxlen=maxlen)\n",
    "X_test_pad = pad_sequences(X_test_seq, maxlen=maxlen)"
   ]
  },
  {
   "cell_type": "markdown",
   "metadata": {},
   "source": [
    "# Modeling"
   ]
  },
  {
   "cell_type": "code",
   "execution_count": 50,
   "metadata": {
    "collapsed": true
   },
   "outputs": [],
   "source": [
    "model_name = 'DPCNN'\n",
    "lr_schedule = generate_learning_rate_schedule(0.001, 0.1, 20, 0)\n",
    "checkpoint = generate_check_point(model_name)\n",
    "early_stopping = generate_early_stopping()\n",
    "tensorboard = generate_tensorboard(model_name, 'ALL')\n",
    "callbacks=[lr_schedule, checkpoint, early_stopping, tensorboard]"
   ]
  },
  {
   "cell_type": "code",
   "execution_count": 51,
   "metadata": {
    "collapsed": true
   },
   "outputs": [],
   "source": [
    "embedding_matrix = np.random.randn(w2v_matrix.shape[0],w2v_matrix.shape[1])\n",
    "embedding_matrix[0, :] = 0\n",
    "\n",
    "\n",
    "embedding_layer = Embedding(input_dim=w2v_matrix.shape[0],\n",
    "                            output_dim=w2v_matrix.shape[1],\n",
    "                            weights=[embedding_matrix],\n",
    "                            trainable=True)"
   ]
  },
  {
   "cell_type": "code",
   "execution_count": 52,
   "metadata": {
    "collapsed": true
   },
   "outputs": [],
   "source": [
    "model = build_model(embedding_layer, maxlen, targets)"
   ]
  },
  {
   "cell_type": "code",
   "execution_count": 53,
   "metadata": {},
   "outputs": [
    {
     "name": "stdout",
     "output_type": "stream",
     "text": [
      "__________________________________________________________________________________________________\n",
      "Layer (type)                    Output Shape         Param #     Connected to                     \n",
      "==================================================================================================\n",
      "input_1 (InputLayer)            (None, 256)          0                                            \n",
      "__________________________________________________________________________________________________\n",
      "embedding_1 (Embedding)         (None, 256, 200)     13966000    input_1[0][0]                    \n",
      "__________________________________________________________________________________________________\n",
      "conv1d_1 (Conv1D)               (None, 256, 250)     150250      embedding_1[0][0]                \n",
      "__________________________________________________________________________________________________\n",
      "zero_padding1d_1 (ZeroPadding1D (None, 257, 250)     0           conv1d_1[0][0]                   \n",
      "__________________________________________________________________________________________________\n",
      "max_pooling1d_1 (MaxPooling1D)  (None, 128, 250)     0           zero_padding1d_1[0][0]           \n",
      "__________________________________________________________________________________________________\n",
      "conv1d_2 (Conv1D)               (None, 128, 250)     187750      max_pooling1d_1[0][0]            \n",
      "__________________________________________________________________________________________________\n",
      "conv1d_3 (Conv1D)               (None, 128, 250)     187500      conv1d_2[0][0]                   \n",
      "__________________________________________________________________________________________________\n",
      "add_1 (Add)                     (None, 128, 250)     0           conv1d_3[0][0]                   \n",
      "                                                                 max_pooling1d_1[0][0]            \n",
      "__________________________________________________________________________________________________\n",
      "zero_padding1d_2 (ZeroPadding1D (None, 129, 250)     0           add_1[0][0]                      \n",
      "__________________________________________________________________________________________________\n",
      "max_pooling1d_2 (MaxPooling1D)  (None, 64, 250)      0           zero_padding1d_2[0][0]           \n",
      "__________________________________________________________________________________________________\n",
      "conv1d_4 (Conv1D)               (None, 64, 250)      187750      max_pooling1d_2[0][0]            \n",
      "__________________________________________________________________________________________________\n",
      "conv1d_5 (Conv1D)               (None, 64, 250)      187500      conv1d_4[0][0]                   \n",
      "__________________________________________________________________________________________________\n",
      "add_2 (Add)                     (None, 64, 250)      0           conv1d_5[0][0]                   \n",
      "                                                                 max_pooling1d_2[0][0]            \n",
      "__________________________________________________________________________________________________\n",
      "zero_padding1d_3 (ZeroPadding1D (None, 65, 250)      0           add_2[0][0]                      \n",
      "__________________________________________________________________________________________________\n",
      "max_pooling1d_3 (MaxPooling1D)  (None, 32, 250)      0           zero_padding1d_3[0][0]           \n",
      "__________________________________________________________________________________________________\n",
      "conv1d_6 (Conv1D)               (None, 32, 250)      187750      max_pooling1d_3[0][0]            \n",
      "__________________________________________________________________________________________________\n",
      "conv1d_7 (Conv1D)               (None, 32, 250)      187500      conv1d_6[0][0]                   \n",
      "__________________________________________________________________________________________________\n",
      "add_3 (Add)                     (None, 32, 250)      0           conv1d_7[0][0]                   \n",
      "                                                                 max_pooling1d_3[0][0]            \n",
      "__________________________________________________________________________________________________\n",
      "zero_padding1d_4 (ZeroPadding1D (None, 33, 250)      0           add_3[0][0]                      \n",
      "__________________________________________________________________________________________________\n",
      "max_pooling1d_4 (MaxPooling1D)  (None, 16, 250)      0           zero_padding1d_4[0][0]           \n",
      "__________________________________________________________________________________________________\n",
      "conv1d_8 (Conv1D)               (None, 16, 250)      187750      max_pooling1d_4[0][0]            \n",
      "__________________________________________________________________________________________________\n",
      "conv1d_9 (Conv1D)               (None, 16, 250)      187500      conv1d_8[0][0]                   \n",
      "__________________________________________________________________________________________________\n",
      "add_4 (Add)                     (None, 16, 250)      0           conv1d_9[0][0]                   \n",
      "                                                                 max_pooling1d_4[0][0]            \n",
      "__________________________________________________________________________________________________\n",
      "zero_padding1d_5 (ZeroPadding1D (None, 17, 250)      0           add_4[0][0]                      \n",
      "__________________________________________________________________________________________________\n",
      "max_pooling1d_5 (MaxPooling1D)  (None, 8, 250)       0           zero_padding1d_5[0][0]           \n",
      "__________________________________________________________________________________________________\n",
      "conv1d_10 (Conv1D)              (None, 8, 250)       187750      max_pooling1d_5[0][0]            \n",
      "__________________________________________________________________________________________________\n",
      "conv1d_11 (Conv1D)              (None, 8, 250)       187500      conv1d_10[0][0]                  \n",
      "__________________________________________________________________________________________________\n",
      "add_5 (Add)                     (None, 8, 250)       0           conv1d_11[0][0]                  \n",
      "                                                                 max_pooling1d_5[0][0]            \n",
      "__________________________________________________________________________________________________\n",
      "zero_padding1d_6 (ZeroPadding1D (None, 9, 250)       0           add_5[0][0]                      \n",
      "__________________________________________________________________________________________________\n",
      "max_pooling1d_6 (MaxPooling1D)  (None, 4, 250)       0           zero_padding1d_6[0][0]           \n",
      "__________________________________________________________________________________________________\n",
      "conv1d_12 (Conv1D)              (None, 4, 250)       187750      max_pooling1d_6[0][0]            \n",
      "__________________________________________________________________________________________________\n",
      "conv1d_13 (Conv1D)              (None, 4, 250)       187500      conv1d_12[0][0]                  \n",
      "__________________________________________________________________________________________________\n",
      "add_6 (Add)                     (None, 4, 250)       0           conv1d_13[0][0]                  \n",
      "                                                                 max_pooling1d_6[0][0]            \n",
      "__________________________________________________________________________________________________\n",
      "zero_padding1d_7 (ZeroPadding1D (None, 5, 250)       0           add_6[0][0]                      \n",
      "__________________________________________________________________________________________________\n",
      "max_pooling1d_7 (MaxPooling1D)  (None, 2, 250)       0           zero_padding1d_7[0][0]           \n",
      "__________________________________________________________________________________________________\n",
      "conv1d_14 (Conv1D)              (None, 2, 250)       187750      max_pooling1d_7[0][0]            \n",
      "__________________________________________________________________________________________________\n",
      "conv1d_15 (Conv1D)              (None, 2, 250)       187500      conv1d_14[0][0]                  \n",
      "__________________________________________________________________________________________________\n",
      "add_7 (Add)                     (None, 2, 250)       0           conv1d_15[0][0]                  \n",
      "                                                                 max_pooling1d_7[0][0]            \n",
      "__________________________________________________________________________________________________\n",
      "flattenlocation_traffic_conveni (None, 500)          0           add_7[0][0]                      \n",
      "__________________________________________________________________________________________________\n",
      "flattenlocation_distance_from_b (None, 500)          0           add_7[0][0]                      \n",
      "__________________________________________________________________________________________________\n",
      "flattenlocation_easy_to_find (F (None, 500)          0           add_7[0][0]                      \n",
      "__________________________________________________________________________________________________\n",
      "flattenservice_wait_time (Flatt (None, 500)          0           add_7[0][0]                      \n",
      "__________________________________________________________________________________________________\n",
      "flattenservice_waiters_attitude (None, 500)          0           add_7[0][0]                      \n",
      "__________________________________________________________________________________________________\n",
      "flattenservice_parking_convenie (None, 500)          0           add_7[0][0]                      \n",
      "__________________________________________________________________________________________________\n",
      "flattenservice_serving_speed (F (None, 500)          0           add_7[0][0]                      \n",
      "__________________________________________________________________________________________________\n",
      "flattenprice_level (Flatten)    (None, 500)          0           add_7[0][0]                      \n",
      "__________________________________________________________________________________________________\n",
      "flattenprice_cost_effective (Fl (None, 500)          0           add_7[0][0]                      \n",
      "__________________________________________________________________________________________________\n",
      "flattenprice_discount (Flatten) (None, 500)          0           add_7[0][0]                      \n",
      "__________________________________________________________________________________________________\n",
      "flattenenvironment_decoration ( (None, 500)          0           add_7[0][0]                      \n",
      "__________________________________________________________________________________________________\n",
      "flattenenvironment_noise (Flatt (None, 500)          0           add_7[0][0]                      \n",
      "__________________________________________________________________________________________________\n",
      "flattenenvironment_space (Flatt (None, 500)          0           add_7[0][0]                      \n",
      "__________________________________________________________________________________________________\n",
      "flattenenvironment_cleaness (Fl (None, 500)          0           add_7[0][0]                      \n",
      "__________________________________________________________________________________________________\n",
      "flattendish_portion (Flatten)   (None, 500)          0           add_7[0][0]                      \n",
      "__________________________________________________________________________________________________\n",
      "flattendish_taste (Flatten)     (None, 500)          0           add_7[0][0]                      \n",
      "__________________________________________________________________________________________________\n",
      "flattendish_look (Flatten)      (None, 500)          0           add_7[0][0]                      \n",
      "__________________________________________________________________________________________________\n",
      "flattendish_recommendation (Fla (None, 500)          0           add_7[0][0]                      \n",
      "__________________________________________________________________________________________________\n",
      "flattenothers_overall_experienc (None, 500)          0           add_7[0][0]                      \n",
      "__________________________________________________________________________________________________\n",
      "flattenothers_willing_to_consum (None, 500)          0           add_7[0][0]                      \n",
      "__________________________________________________________________________________________________\n",
      "outputlocation_traffic_convenie (None, 4)            2004        flattenlocation_traffic_convenien\n",
      "__________________________________________________________________________________________________\n",
      "outputlocation_distance_from_bu (None, 4)            2004        flattenlocation_distance_from_bus\n",
      "__________________________________________________________________________________________________\n",
      "outputlocation_easy_to_find (De (None, 4)            2004        flattenlocation_easy_to_find[0][0\n",
      "__________________________________________________________________________________________________\n",
      "outputservice_wait_time (Dense) (None, 4)            2004        flattenservice_wait_time[0][0]   \n",
      "__________________________________________________________________________________________________\n",
      "outputservice_waiters_attitude  (None, 4)            2004        flattenservice_waiters_attitude[0\n",
      "__________________________________________________________________________________________________\n",
      "outputservice_parking_convenien (None, 4)            2004        flattenservice_parking_convenienc\n",
      "__________________________________________________________________________________________________\n",
      "outputservice_serving_speed (De (None, 4)            2004        flattenservice_serving_speed[0][0\n",
      "__________________________________________________________________________________________________\n",
      "outputprice_level (Dense)       (None, 4)            2004        flattenprice_level[0][0]         \n",
      "__________________________________________________________________________________________________\n",
      "outputprice_cost_effective (Den (None, 4)            2004        flattenprice_cost_effective[0][0]\n",
      "__________________________________________________________________________________________________\n",
      "outputprice_discount (Dense)    (None, 4)            2004        flattenprice_discount[0][0]      \n",
      "__________________________________________________________________________________________________\n",
      "outputenvironment_decoration (D (None, 4)            2004        flattenenvironment_decoration[0][\n",
      "__________________________________________________________________________________________________\n",
      "outputenvironment_noise (Dense) (None, 4)            2004        flattenenvironment_noise[0][0]   \n",
      "__________________________________________________________________________________________________\n",
      "outputenvironment_space (Dense) (None, 4)            2004        flattenenvironment_space[0][0]   \n",
      "__________________________________________________________________________________________________\n",
      "outputenvironment_cleaness (Den (None, 4)            2004        flattenenvironment_cleaness[0][0]\n",
      "__________________________________________________________________________________________________\n",
      "outputdish_portion (Dense)      (None, 4)            2004        flattendish_portion[0][0]        \n",
      "__________________________________________________________________________________________________\n",
      "outputdish_taste (Dense)        (None, 4)            2004        flattendish_taste[0][0]          \n",
      "__________________________________________________________________________________________________\n",
      "outputdish_look (Dense)         (None, 4)            2004        flattendish_look[0][0]           \n",
      "__________________________________________________________________________________________________\n",
      "outputdish_recommendation (Dens (None, 4)            2004        flattendish_recommendation[0][0] \n",
      "__________________________________________________________________________________________________\n",
      "outputothers_overall_experience (None, 4)            2004        flattenothers_overall_experience[\n",
      "__________________________________________________________________________________________________\n",
      "outputothers_willing_to_consume (None, 4)            2004        flattenothers_willing_to_consume_\n",
      "==================================================================================================\n",
      "Total params: 16,783,080\n",
      "Trainable params: 16,783,080\n",
      "Non-trainable params: 0\n",
      "__________________________________________________________________________________________________\n"
     ]
    }
   ],
   "source": [
    "model.summary()"
   ]
  },
  {
   "cell_type": "code",
   "execution_count": 54,
   "metadata": {
    "collapsed": true
   },
   "outputs": [],
   "source": [
    "model.compile(optimizer='adam', loss='categorical_crossentropy', metrics=['acc'])"
   ]
  },
  {
   "cell_type": "code",
   "execution_count": 55,
   "metadata": {},
   "outputs": [
    {
     "name": "stdout",
     "output_type": "stream",
     "text": [
      "Train on 105000 samples, validate on 15000 samples\n",
      "Epoch 1/1\n",
      "\n",
      "Epoch 00001: LearningRateScheduler reducing learning rate to 0.1.\n",
      "105000/105000 [==============================] - 96s 913us/step - loss: 104.5353 - outputlocation_traffic_convenience_loss: 3.6239 - outputlocation_distance_from_business_district_loss: 3.2699 - outputlocation_easy_to_find_loss: 3.7432 - outputservice_wait_time_loss: 1.8782 - outputservice_waiters_attitude_loss: 9.6036 - outputservice_parking_convenience_loss: 1.0322 - outputservice_serving_speed_loss: 2.5019 - outputprice_level_loss: 8.0062 - outputprice_cost_effective_loss: 3.7996 - outputprice_discount_loss: 6.2537 - outputenvironment_decoration_loss: 10.0565 - outputenvironment_noise_loss: 4.8417 - outputenvironment_space_loss: 6.0758 - outputenvironment_cleaness_loss: 5.8921 - outputdish_portion_loss: 7.3776 - outputdish_taste_loss: 7.6149 - outputdish_look_loss: 4.4544 - outputdish_recommendation_loss: 3.1054 - outputothers_overall_experience_loss: 5.3597 - outputothers_willing_to_consume_again_loss: 6.0449 - outputlocation_traffic_convenience_acc: 0.7746 - outputlocation_distance_from_business_district_acc: 0.7970 - outputlocation_easy_to_find_acc: 0.7674 - outputservice_wait_time_acc: 0.8829 - outputservice_waiters_attitude_acc: 0.4039 - outputservice_parking_convenience_acc: 0.9360 - outputservice_serving_speed_acc: 0.8442 - outputprice_level_acc: 0.5030 - outputprice_cost_effective_acc: 0.7637 - outputprice_discount_acc: 0.6116 - outputenvironment_decoration_acc: 0.3759 - outputenvironment_noise_acc: 0.6991 - outputenvironment_space_acc: 0.6225 - outputenvironment_cleaness_acc: 0.6343 - outputdish_portion_acc: 0.5418 - outputdish_taste_acc: 0.5273 - outputdish_look_acc: 0.7231 - outputdish_recommendation_acc: 0.8068 - outputothers_overall_experience_acc: 0.6670 - outputothers_willing_to_consume_again_acc: 0.6246 - val_loss: 104.3486 - val_outputlocation_traffic_convenience_loss: 3.4847 - val_outputlocation_distance_from_business_district_loss: 3.1892 - val_outputlocation_easy_to_find_loss: 3.7437 - val_outputservice_wait_time_loss: 1.8944 - val_outputservice_waiters_attitude_loss: 9.6795 - val_outputservice_parking_convenience_loss: 1.0251 - val_outputservice_serving_speed_loss: 2.4962 - val_outputprice_level_loss: 8.0623 - val_outputprice_cost_effective_loss: 3.8383 - val_outputprice_discount_loss: 6.1657 - val_outputenvironment_decoration_loss: 10.0878 - val_outputenvironment_noise_loss: 4.8129 - val_outputenvironment_space_loss: 5.9196 - val_outputenvironment_cleaness_loss: 5.8068 - val_outputdish_portion_loss: 7.4014 - val_outputdish_taste_loss: 7.6894 - val_outputdish_look_loss: 4.5582 - val_outputdish_recommendation_loss: 3.1344 - val_outputothers_overall_experience_loss: 5.2921 - val_outputothers_willing_to_consume_again_loss: 6.0669 - val_outputlocation_traffic_convenience_acc: 0.7838 - val_outputlocation_distance_from_business_district_acc: 0.8021 - val_outputlocation_easy_to_find_acc: 0.7677 - val_outputservice_wait_time_acc: 0.8825 - val_outputservice_waiters_attitude_acc: 0.3995 - val_outputservice_parking_convenience_acc: 0.9364 - val_outputservice_serving_speed_acc: 0.8451 - val_outputprice_level_acc: 0.4998 - val_outputprice_cost_effective_acc: 0.7619 - val_outputprice_discount_acc: 0.6175 - val_outputenvironment_decoration_acc: 0.3741 - val_outputenvironment_noise_acc: 0.7014 - val_outputenvironment_space_acc: 0.6327 - val_outputenvironment_cleaness_acc: 0.6397 - val_outputdish_portion_acc: 0.5408 - val_outputdish_taste_acc: 0.5229 - val_outputdish_look_acc: 0.7172 - val_outputdish_recommendation_acc: 0.8055 - val_outputothers_overall_experience_acc: 0.6717 - val_outputothers_willing_to_consume_again_acc: 0.6236\n"
     ]
    },
    {
     "data": {
      "text/plain": [
       "<keras.callbacks.History at 0x1da8b5765f8>"
      ]
     },
     "execution_count": 55,
     "metadata": {},
     "output_type": "execute_result"
    }
   ],
   "source": [
    "model.fit(X_train_pad, \n",
    "          Y_train, batch_size=64,\n",
    "          callbacks=callbacks,\n",
    "          epochs=1,\n",
    "          validation_data=(X_valid_pad, Y_valid))"
   ]
  },
  {
   "cell_type": "code",
   "execution_count": 37,
   "metadata": {},
   "outputs": [],
   "source": [
    "xxx = model.predict(X_valid_pad)[0]"
   ]
  },
  {
   "cell_type": "code",
   "execution_count": 39,
   "metadata": {},
   "outputs": [
    {
     "data": {
      "text/plain": [
       "array([15000.,     0.,     0.,     0.], dtype=float32)"
      ]
     },
     "execution_count": 39,
     "metadata": {},
     "output_type": "execute_result"
    }
   ],
   "source": [
    "np.sum(xxx, axis=0)"
   ]
  },
  {
   "cell_type": "code",
   "execution_count": null,
   "metadata": {},
   "outputs": [],
   "source": [
    "Y_valid[0].shape"
   ]
  },
  {
   "cell_type": "code",
   "execution_count": 27,
   "metadata": {},
   "outputs": [
    {
     "data": {
      "text/plain": [
       "(15000, 4)"
      ]
     },
     "execution_count": 27,
     "metadata": {},
     "output_type": "execute_result"
    }
   ],
   "source": [
    "xxx.shape"
   ]
  },
  {
   "cell_type": "code",
   "execution_count": 29,
   "metadata": {},
   "outputs": [
    {
     "data": {
      "text/plain": [
       "array([15000.,     0.,     0.,     0.], dtype=float32)"
      ]
     },
     "execution_count": 29,
     "metadata": {},
     "output_type": "execute_result"
    }
   ],
   "source": [
    "np.sum(xxx, axis=0)"
   ]
  },
  {
   "cell_type": "code",
   "execution_count": 30,
   "metadata": {},
   "outputs": [
    {
     "data": {
      "text/plain": [
       "array([11757,   182,   136,  2925])"
      ]
     },
     "execution_count": 30,
     "metadata": {},
     "output_type": "execute_result"
    }
   ],
   "source": [
    "np.sum(Y_valid[0], axis=0)"
   ]
  },
  {
   "cell_type": "code",
   "execution_count": null,
   "metadata": {
    "collapsed": true
   },
   "outputs": [],
   "source": []
  }
 ],
 "metadata": {
  "kernelspec": {
   "display_name": "Python 3",
   "language": "python",
   "name": "python3"
  },
  "language_info": {
   "codemirror_mode": {
    "name": "ipython",
    "version": 3
   },
   "file_extension": ".py",
   "mimetype": "text/x-python",
   "name": "python",
   "nbconvert_exporter": "python",
   "pygments_lexer": "ipython3",
   "version": "3.6.3"
  }
 },
 "nbformat": 4,
 "nbformat_minor": 2
}
