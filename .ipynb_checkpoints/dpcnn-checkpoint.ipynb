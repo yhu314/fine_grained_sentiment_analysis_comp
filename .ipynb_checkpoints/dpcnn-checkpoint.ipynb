{
 "cells": [
  {
   "cell_type": "markdown",
   "metadata": {},
   "source": [
    "# This is a Basic Module for DPCNN"
   ]
  },
  {
   "cell_type": "code",
   "execution_count": 1,
   "metadata": {},
   "outputs": [
    {
     "name": "stderr",
     "output_type": "stream",
     "text": [
      "C:\\Users\\Yi\\Anaconda3\\lib\\site-packages\\h5py\\__init__.py:34: FutureWarning: Conversion of the second argument of issubdtype from `float` to `np.floating` is deprecated. In future, it will be treated as `np.float64 == np.dtype(float).type`.\n",
      "  from ._conv import register_converters as _register_converters\n",
      "Using TensorFlow backend.\n"
     ]
    }
   ],
   "source": [
    "from keras import Model\n",
    "from keras.layers import Dense, Embedding, Input, Flatten, Concatenate,\\\n",
    "    SpatialDropout1D, Conv1D, MaxPooling1D, Add, Reshape, ZeroPadding1D\n",
    "from keras.preprocessing.sequence import pad_sequences\n",
    "from keras_callbacks import *\n",
    "import numpy as np\n",
    "from metrics import f1\n",
    "import tensorflow as tf\n",
    "import keras.backend as K\n",
    "from keras.backend.tensorflow_backend import set_session\n",
    "from keras.losses import categorical_crossentropy\n",
    "from sklearn.metrics import f1_score\n",
    "config = tf.ConfigProto()\n",
    "config.gpu_options.per_process_gpu_memory_fraction = 0.9\n",
    "config.gpu_options.allow_growth=True\n",
    "set_session(tf.Session(config=config))\n",
    "K.clear_session()"
   ]
  },
  {
   "cell_type": "code",
   "execution_count": 2,
   "metadata": {
    "collapsed": true
   },
   "outputs": [],
   "source": [
    "def dp_block(input):\n",
    "    pool = ZeroPadding1D((0, 1))(input)\n",
    "    pool = MaxPooling1D(pool_size=3, strides=2, padding='valid')(pool)\n",
    "    conv = Conv1D(filters=250, strides=1, kernel_size=3, padding='same')(pool)  # keep dimension the same\n",
    "    conv = Conv1D(filters=250, strides=1, kernel_size=3, padding='same', use_bias=False)(conv)\n",
    "    shortcut = Add()([conv, pool])\n",
    "    return shortcut"
   ]
  },
  {
   "cell_type": "code",
   "execution_count": 3,
   "metadata": {
    "collapsed": true
   },
   "outputs": [],
   "source": [
    "def build_model(embedding_layer, maxlen, targets):\n",
    "    sent_input = Input((maxlen,), dtype='int32')\n",
    "    sent_embedded = embedding_layer(sent_input)\n",
    "\n",
    "    # region embedding\n",
    "    conv = Conv1D(filters=250, strides=1, kernel_size=3, padding='same')(sent_embedded)\n",
    "\n",
    "    while conv.shape[1] > 2:\n",
    "         conv = dp_block(conv)\n",
    "    \n",
    "    output_list = []\n",
    "    for target in targets:\n",
    "        flat_target = Flatten(name='flatten'+target)(conv)\n",
    "        output_target = Dense(4, name='output'+target, activation='softmax')(flat_target)\n",
    "        output_list.append(output_target)\n",
    "    model = Model(sent_input, output_list)\n",
    "    return model"
   ]
  },
  {
   "cell_type": "markdown",
   "metadata": {},
   "source": [
    "# Load Data"
   ]
  },
  {
   "cell_type": "code",
   "execution_count": 4,
   "metadata": {},
   "outputs": [
    {
     "name": "stderr",
     "output_type": "stream",
     "text": [
      "C:\\Users\\Yi\\Anaconda3\\lib\\site-packages\\gensim\\utils.py:1167: UserWarning: detected Windows; aliasing chunkize to chunkize_serial\n",
      "  warnings.warn(\"detected Windows; aliasing chunkize to chunkize_serial\")\n"
     ]
    }
   ],
   "source": [
    "from torch_data import UserCommentDataset, calculate_labels, save_predictions\n",
    "from train_config import data_path_config, targets\n",
    "from gensim.models import KeyedVectors\n",
    "from utils import *"
   ]
  },
  {
   "cell_type": "code",
   "execution_count": 5,
   "metadata": {
    "collapsed": true
   },
   "outputs": [],
   "source": [
    "maxlen = 1024"
   ]
  },
  {
   "cell_type": "code",
   "execution_count": 6,
   "metadata": {
    "collapsed": true
   },
   "outputs": [],
   "source": [
    "train_dataset = UserCommentDataset(data_path_config['train_data_path'],\n",
    "                                   targets=targets,\n",
    "                                   content='jieba_seg',\n",
    "                                   transformers=None)\n",
    "validate_dataset = UserCommentDataset(data_path_config['valid_data_path'],\n",
    "                                      targets=targets,\n",
    "                                      content='jieba_seg',\n",
    "                                      transformers=None)\n",
    "test_dataset = UserCommentDataset(data_path_config['test_data_path'],\n",
    "                                  targets=None,\n",
    "                                  content='jieba_seg',\n",
    "                                  transformers=None)"
   ]
  },
  {
   "cell_type": "code",
   "execution_count": 7,
   "metadata": {
    "collapsed": true
   },
   "outputs": [],
   "source": [
    "train_sentences, train_targets = zip(*train_dataset)\n",
    "validate_sentences, validate_targets = zip(*validate_dataset)\n",
    "test_sentences, _ = zip(*test_dataset)"
   ]
  },
  {
   "cell_type": "code",
   "execution_count": 8,
   "metadata": {
    "collapsed": true
   },
   "outputs": [],
   "source": [
    "def decompose_targets(data):\n",
    "    decomposed_list = []\n",
    "    for idx, _ in enumerate(targets):\n",
    "        target_list = [x[idx] for x in data]\n",
    "        target_array = np.vstack(target_list)\n",
    "        decomposed_list.append(target_array)\n",
    "    return decomposed_list\n",
    "\n",
    "Y_train = decompose_targets(train_targets)\n",
    "Y_valid = decompose_targets(validate_targets)"
   ]
  },
  {
   "cell_type": "code",
   "execution_count": 9,
   "metadata": {
    "collapsed": true
   },
   "outputs": [],
   "source": [
    "w2v = KeyedVectors.load_word2vec_format(data_path_config['embedding_path'],\n",
    "                                        binary=True, unicode_errors='ignore')\n",
    "tok2idx = build_tok2idx(w2v)"
   ]
  },
  {
   "cell_type": "code",
   "execution_count": 10,
   "metadata": {
    "collapsed": true
   },
   "outputs": [],
   "source": [
    "w2v_matrix = build_embedding_matrix(tok2idx, w2v, data_path_config['embedding_dim'])"
   ]
  },
  {
   "cell_type": "code",
   "execution_count": 11,
   "metadata": {
    "collapsed": true
   },
   "outputs": [],
   "source": [
    "X_train_seq = texts_to_sequences(train_sentences, tok2idx)\n",
    "X_valid_seq = texts_to_sequences(validate_sentences, tok2idx)\n",
    "X_test_seq = texts_to_sequences(test_sentences, tok2idx)"
   ]
  },
  {
   "cell_type": "code",
   "execution_count": 12,
   "metadata": {
    "collapsed": true
   },
   "outputs": [],
   "source": [
    "X_train_pad = pad_sequences(X_train_seq, maxlen=maxlen)\n",
    "X_valid_pad = pad_sequences(X_valid_seq, maxlen=maxlen)\n",
    "X_test_pad = pad_sequences(X_test_seq, maxlen=maxlen)"
   ]
  },
  {
   "cell_type": "markdown",
   "metadata": {},
   "source": [
    "# Modeling"
   ]
  },
  {
   "cell_type": "code",
   "execution_count": 19,
   "metadata": {
    "collapsed": true
   },
   "outputs": [],
   "source": [
    "model_name = 'DPCNN'\n",
    "lr_schedule = generate_learning_rate_schedule(0.001, 0.5, 20, 0)\n",
    "checkpoint = generate_check_point(model_name)\n",
    "early_stopping = generate_early_stopping()\n",
    "tensorboard = generate_tensorboard(model_name, 'ALL')\n",
    "callbacks=[lr_schedule, checkpoint, early_stopping, tensorboard]"
   ]
  },
  {
   "cell_type": "code",
   "execution_count": 20,
   "metadata": {
    "collapsed": true
   },
   "outputs": [],
   "source": [
    "embedding_layer = Embedding(input_dim=w2v_matrix.shape[0],\n",
    "                            output_dim=w2v_matrix.shape[1],\n",
    "                            weights=[w2v_matrix],\n",
    "                            trainable=False)"
   ]
  },
  {
   "cell_type": "code",
   "execution_count": 21,
   "metadata": {
    "collapsed": true
   },
   "outputs": [],
   "source": [
    "model = build_model(embedding_layer, maxlen, targets)"
   ]
  },
  {
   "cell_type": "code",
   "execution_count": 22,
   "metadata": {},
   "outputs": [
    {
     "name": "stdout",
     "output_type": "stream",
     "text": [
      "__________________________________________________________________________________________________\n",
      "Layer (type)                    Output Shape         Param #     Connected to                     \n",
      "==================================================================================================\n",
      "input_2 (InputLayer)            (None, 1024)         0                                            \n",
      "__________________________________________________________________________________________________\n",
      "embedding_2 (Embedding)         (None, 1024, 200)    13966000    input_2[0][0]                    \n",
      "__________________________________________________________________________________________________\n",
      "conv1d_20 (Conv1D)              (None, 1024, 250)    150250      embedding_2[0][0]                \n",
      "__________________________________________________________________________________________________\n",
      "zero_padding1d_10 (ZeroPadding1 (None, 1025, 250)    0           conv1d_20[0][0]                  \n",
      "__________________________________________________________________________________________________\n",
      "max_pooling1d_10 (MaxPooling1D) (None, 512, 250)     0           zero_padding1d_10[0][0]          \n",
      "__________________________________________________________________________________________________\n",
      "conv1d_21 (Conv1D)              (None, 512, 250)     187750      max_pooling1d_10[0][0]           \n",
      "__________________________________________________________________________________________________\n",
      "conv1d_22 (Conv1D)              (None, 512, 250)     187500      conv1d_21[0][0]                  \n",
      "__________________________________________________________________________________________________\n",
      "add_10 (Add)                    (None, 512, 250)     0           conv1d_22[0][0]                  \n",
      "                                                                 max_pooling1d_10[0][0]           \n",
      "__________________________________________________________________________________________________\n",
      "zero_padding1d_11 (ZeroPadding1 (None, 513, 250)     0           add_10[0][0]                     \n",
      "__________________________________________________________________________________________________\n",
      "max_pooling1d_11 (MaxPooling1D) (None, 256, 250)     0           zero_padding1d_11[0][0]          \n",
      "__________________________________________________________________________________________________\n",
      "conv1d_23 (Conv1D)              (None, 256, 250)     187750      max_pooling1d_11[0][0]           \n",
      "__________________________________________________________________________________________________\n",
      "conv1d_24 (Conv1D)              (None, 256, 250)     187500      conv1d_23[0][0]                  \n",
      "__________________________________________________________________________________________________\n",
      "add_11 (Add)                    (None, 256, 250)     0           conv1d_24[0][0]                  \n",
      "                                                                 max_pooling1d_11[0][0]           \n",
      "__________________________________________________________________________________________________\n",
      "zero_padding1d_12 (ZeroPadding1 (None, 257, 250)     0           add_11[0][0]                     \n",
      "__________________________________________________________________________________________________\n",
      "max_pooling1d_12 (MaxPooling1D) (None, 128, 250)     0           zero_padding1d_12[0][0]          \n",
      "__________________________________________________________________________________________________\n",
      "conv1d_25 (Conv1D)              (None, 128, 250)     187750      max_pooling1d_12[0][0]           \n",
      "__________________________________________________________________________________________________\n",
      "conv1d_26 (Conv1D)              (None, 128, 250)     187500      conv1d_25[0][0]                  \n",
      "__________________________________________________________________________________________________\n",
      "add_12 (Add)                    (None, 128, 250)     0           conv1d_26[0][0]                  \n",
      "                                                                 max_pooling1d_12[0][0]           \n",
      "__________________________________________________________________________________________________\n",
      "zero_padding1d_13 (ZeroPadding1 (None, 129, 250)     0           add_12[0][0]                     \n",
      "__________________________________________________________________________________________________\n",
      "max_pooling1d_13 (MaxPooling1D) (None, 64, 250)      0           zero_padding1d_13[0][0]          \n",
      "__________________________________________________________________________________________________\n",
      "conv1d_27 (Conv1D)              (None, 64, 250)      187750      max_pooling1d_13[0][0]           \n",
      "__________________________________________________________________________________________________\n",
      "conv1d_28 (Conv1D)              (None, 64, 250)      187500      conv1d_27[0][0]                  \n",
      "__________________________________________________________________________________________________\n",
      "add_13 (Add)                    (None, 64, 250)      0           conv1d_28[0][0]                  \n",
      "                                                                 max_pooling1d_13[0][0]           \n",
      "__________________________________________________________________________________________________\n",
      "zero_padding1d_14 (ZeroPadding1 (None, 65, 250)      0           add_13[0][0]                     \n",
      "__________________________________________________________________________________________________\n",
      "max_pooling1d_14 (MaxPooling1D) (None, 32, 250)      0           zero_padding1d_14[0][0]          \n",
      "__________________________________________________________________________________________________\n",
      "conv1d_29 (Conv1D)              (None, 32, 250)      187750      max_pooling1d_14[0][0]           \n",
      "__________________________________________________________________________________________________\n",
      "conv1d_30 (Conv1D)              (None, 32, 250)      187500      conv1d_29[0][0]                  \n",
      "__________________________________________________________________________________________________\n",
      "add_14 (Add)                    (None, 32, 250)      0           conv1d_30[0][0]                  \n",
      "                                                                 max_pooling1d_14[0][0]           \n",
      "__________________________________________________________________________________________________\n",
      "zero_padding1d_15 (ZeroPadding1 (None, 33, 250)      0           add_14[0][0]                     \n",
      "__________________________________________________________________________________________________\n",
      "max_pooling1d_15 (MaxPooling1D) (None, 16, 250)      0           zero_padding1d_15[0][0]          \n",
      "__________________________________________________________________________________________________\n",
      "conv1d_31 (Conv1D)              (None, 16, 250)      187750      max_pooling1d_15[0][0]           \n",
      "__________________________________________________________________________________________________\n",
      "conv1d_32 (Conv1D)              (None, 16, 250)      187500      conv1d_31[0][0]                  \n",
      "__________________________________________________________________________________________________\n",
      "add_15 (Add)                    (None, 16, 250)      0           conv1d_32[0][0]                  \n",
      "                                                                 max_pooling1d_15[0][0]           \n",
      "__________________________________________________________________________________________________\n",
      "zero_padding1d_16 (ZeroPadding1 (None, 17, 250)      0           add_15[0][0]                     \n",
      "__________________________________________________________________________________________________\n",
      "max_pooling1d_16 (MaxPooling1D) (None, 8, 250)       0           zero_padding1d_16[0][0]          \n",
      "__________________________________________________________________________________________________\n",
      "conv1d_33 (Conv1D)              (None, 8, 250)       187750      max_pooling1d_16[0][0]           \n",
      "__________________________________________________________________________________________________\n",
      "conv1d_34 (Conv1D)              (None, 8, 250)       187500      conv1d_33[0][0]                  \n",
      "__________________________________________________________________________________________________\n",
      "add_16 (Add)                    (None, 8, 250)       0           conv1d_34[0][0]                  \n",
      "                                                                 max_pooling1d_16[0][0]           \n",
      "__________________________________________________________________________________________________\n",
      "zero_padding1d_17 (ZeroPadding1 (None, 9, 250)       0           add_16[0][0]                     \n",
      "__________________________________________________________________________________________________\n",
      "max_pooling1d_17 (MaxPooling1D) (None, 4, 250)       0           zero_padding1d_17[0][0]          \n",
      "__________________________________________________________________________________________________\n",
      "conv1d_35 (Conv1D)              (None, 4, 250)       187750      max_pooling1d_17[0][0]           \n",
      "__________________________________________________________________________________________________\n",
      "conv1d_36 (Conv1D)              (None, 4, 250)       187500      conv1d_35[0][0]                  \n",
      "__________________________________________________________________________________________________\n",
      "add_17 (Add)                    (None, 4, 250)       0           conv1d_36[0][0]                  \n",
      "                                                                 max_pooling1d_17[0][0]           \n",
      "__________________________________________________________________________________________________\n",
      "zero_padding1d_18 (ZeroPadding1 (None, 5, 250)       0           add_17[0][0]                     \n",
      "__________________________________________________________________________________________________\n",
      "max_pooling1d_18 (MaxPooling1D) (None, 2, 250)       0           zero_padding1d_18[0][0]          \n",
      "__________________________________________________________________________________________________\n",
      "conv1d_37 (Conv1D)              (None, 2, 250)       187750      max_pooling1d_18[0][0]           \n",
      "__________________________________________________________________________________________________\n",
      "conv1d_38 (Conv1D)              (None, 2, 250)       187500      conv1d_37[0][0]                  \n",
      "__________________________________________________________________________________________________\n",
      "add_18 (Add)                    (None, 2, 250)       0           conv1d_38[0][0]                  \n",
      "                                                                 max_pooling1d_18[0][0]           \n",
      "__________________________________________________________________________________________________\n",
      "flattenlocation_traffic_conveni (None, 500)          0           add_18[0][0]                     \n",
      "__________________________________________________________________________________________________\n",
      "flattenlocation_distance_from_b (None, 500)          0           add_18[0][0]                     \n",
      "__________________________________________________________________________________________________\n",
      "flattenlocation_easy_to_find (F (None, 500)          0           add_18[0][0]                     \n",
      "__________________________________________________________________________________________________\n",
      "flattenservice_wait_time (Flatt (None, 500)          0           add_18[0][0]                     \n",
      "__________________________________________________________________________________________________\n",
      "flattenservice_waiters_attitude (None, 500)          0           add_18[0][0]                     \n",
      "__________________________________________________________________________________________________\n",
      "flattenservice_parking_convenie (None, 500)          0           add_18[0][0]                     \n",
      "__________________________________________________________________________________________________\n",
      "flattenservice_serving_speed (F (None, 500)          0           add_18[0][0]                     \n",
      "__________________________________________________________________________________________________\n",
      "flattenprice_level (Flatten)    (None, 500)          0           add_18[0][0]                     \n",
      "__________________________________________________________________________________________________\n",
      "flattenprice_cost_effective (Fl (None, 500)          0           add_18[0][0]                     \n",
      "__________________________________________________________________________________________________\n",
      "flattenprice_discount (Flatten) (None, 500)          0           add_18[0][0]                     \n",
      "__________________________________________________________________________________________________\n",
      "flattenenvironment_decoration ( (None, 500)          0           add_18[0][0]                     \n",
      "__________________________________________________________________________________________________\n",
      "flattenenvironment_noise (Flatt (None, 500)          0           add_18[0][0]                     \n",
      "__________________________________________________________________________________________________\n",
      "flattenenvironment_space (Flatt (None, 500)          0           add_18[0][0]                     \n",
      "__________________________________________________________________________________________________\n",
      "flattenenvironment_cleaness (Fl (None, 500)          0           add_18[0][0]                     \n",
      "__________________________________________________________________________________________________\n",
      "flattendish_portion (Flatten)   (None, 500)          0           add_18[0][0]                     \n",
      "__________________________________________________________________________________________________\n",
      "flattendish_taste (Flatten)     (None, 500)          0           add_18[0][0]                     \n",
      "__________________________________________________________________________________________________\n",
      "flattendish_look (Flatten)      (None, 500)          0           add_18[0][0]                     \n",
      "__________________________________________________________________________________________________\n",
      "flattendish_recommendation (Fla (None, 500)          0           add_18[0][0]                     \n",
      "__________________________________________________________________________________________________\n",
      "flattenothers_overall_experienc (None, 500)          0           add_18[0][0]                     \n",
      "__________________________________________________________________________________________________\n",
      "flattenothers_willing_to_consum (None, 500)          0           add_18[0][0]                     \n",
      "__________________________________________________________________________________________________\n",
      "outputlocation_traffic_convenie (None, 4)            2004        flattenlocation_traffic_convenien\n",
      "__________________________________________________________________________________________________\n",
      "outputlocation_distance_from_bu (None, 4)            2004        flattenlocation_distance_from_bus\n",
      "__________________________________________________________________________________________________\n",
      "outputlocation_easy_to_find (De (None, 4)            2004        flattenlocation_easy_to_find[0][0\n",
      "__________________________________________________________________________________________________\n",
      "outputservice_wait_time (Dense) (None, 4)            2004        flattenservice_wait_time[0][0]   \n",
      "__________________________________________________________________________________________________\n",
      "outputservice_waiters_attitude  (None, 4)            2004        flattenservice_waiters_attitude[0\n",
      "__________________________________________________________________________________________________\n",
      "outputservice_parking_convenien (None, 4)            2004        flattenservice_parking_convenienc\n",
      "__________________________________________________________________________________________________\n",
      "outputservice_serving_speed (De (None, 4)            2004        flattenservice_serving_speed[0][0\n",
      "__________________________________________________________________________________________________\n",
      "outputprice_level (Dense)       (None, 4)            2004        flattenprice_level[0][0]         \n",
      "__________________________________________________________________________________________________\n",
      "outputprice_cost_effective (Den (None, 4)            2004        flattenprice_cost_effective[0][0]\n",
      "__________________________________________________________________________________________________\n",
      "outputprice_discount (Dense)    (None, 4)            2004        flattenprice_discount[0][0]      \n",
      "__________________________________________________________________________________________________\n",
      "outputenvironment_decoration (D (None, 4)            2004        flattenenvironment_decoration[0][\n",
      "__________________________________________________________________________________________________\n",
      "outputenvironment_noise (Dense) (None, 4)            2004        flattenenvironment_noise[0][0]   \n",
      "__________________________________________________________________________________________________\n",
      "outputenvironment_space (Dense) (None, 4)            2004        flattenenvironment_space[0][0]   \n",
      "__________________________________________________________________________________________________\n",
      "outputenvironment_cleaness (Den (None, 4)            2004        flattenenvironment_cleaness[0][0]\n",
      "__________________________________________________________________________________________________\n",
      "outputdish_portion (Dense)      (None, 4)            2004        flattendish_portion[0][0]        \n",
      "__________________________________________________________________________________________________\n",
      "outputdish_taste (Dense)        (None, 4)            2004        flattendish_taste[0][0]          \n",
      "__________________________________________________________________________________________________\n",
      "outputdish_look (Dense)         (None, 4)            2004        flattendish_look[0][0]           \n",
      "__________________________________________________________________________________________________\n",
      "outputdish_recommendation (Dens (None, 4)            2004        flattendish_recommendation[0][0] \n",
      "__________________________________________________________________________________________________\n",
      "outputothers_overall_experience (None, 4)            2004        flattenothers_overall_experience[\n",
      "__________________________________________________________________________________________________\n",
      "outputothers_willing_to_consume (None, 4)            2004        flattenothers_willing_to_consume_\n",
      "==================================================================================================\n",
      "Total params: 17,533,580\n",
      "Trainable params: 3,567,580\n",
      "Non-trainable params: 13,966,000\n",
      "__________________________________________________________________________________________________\n"
     ]
    }
   ],
   "source": [
    "model.summary()"
   ]
  },
  {
   "cell_type": "code",
   "execution_count": 23,
   "metadata": {
    "collapsed": true
   },
   "outputs": [],
   "source": [
    "model.compile(optimizer='sgd', loss='categorical_crossentropy', metrics=['acc'])"
   ]
  },
  {
   "cell_type": "code",
   "execution_count": 25,
   "metadata": {},
   "outputs": [
    {
     "name": "stdout",
     "output_type": "stream",
     "text": [
      "Train on 105000 samples, validate on 15000 samples\n",
      "Epoch 1/100\n",
      "\n",
      "Epoch 00001: LearningRateScheduler reducing learning rate to 0.1.\n",
      "105000/105000 [==============================] - 113s 1ms/step - loss: 180.8519 - outputlocation_traffic_convenience_loss: 3.6255 - outputlocation_distance_from_business_district_loss: 3.2727 - outputlocation_easy_to_find_loss: 3.7448 - outputservice_wait_time_loss: 15.6524 - outputservice_waiters_attitude_loss: 9.6079 - outputservice_parking_convenience_loss: 15.8946 - outputservice_serving_speed_loss: 2.5021 - outputprice_level_loss: 8.0131 - outputprice_cost_effective_loss: 15.6559 - outputprice_discount_loss: 13.3158 - outputenvironment_decoration_loss: 10.0618 - outputenvironment_noise_loss: 4.8439 - outputenvironment_space_loss: 14.6963 - outputenvironment_cleaness_loss: 5.8949 - outputdish_portion_loss: 7.3810 - outputdish_taste_loss: 9.9472 - outputdish_look_loss: 4.4555 - outputdish_recommendation_loss: 15.7689 - outputothers_overall_experience_loss: 5.3620 - outputothers_willing_to_consume_again_loss: 11.1556 - outputlocation_traffic_convenience_acc: 0.7751 - outputlocation_distance_from_business_district_acc: 0.7970 - outputlocation_easy_to_find_acc: 0.7677 - outputservice_wait_time_acc: 0.0289 - outputservice_waiters_attitude_acc: 0.4039 - outputservice_parking_convenience_acc: 0.0139 - outputservice_serving_speed_acc: 0.8448 - outputprice_level_acc: 0.5028 - outputprice_cost_effective_acc: 0.0287 - outputprice_discount_acc: 0.1739 - outputenvironment_decoration_acc: 0.3757 - outputenvironment_noise_acc: 0.6995 - outputenvironment_space_acc: 0.0882 - outputenvironment_cleaness_acc: 0.6343 - outputdish_portion_acc: 0.5421 - outputdish_taste_acc: 0.3829 - outputdish_look_acc: 0.7236 - outputdish_recommendation_acc: 0.0217 - outputothers_overall_experience_acc: 0.6673 - outputothers_willing_to_consume_again_acc: 0.3079 - val_loss: 180.4947 - val_outputlocation_traffic_convenience_loss: 3.4847 - val_outputlocation_distance_from_business_district_loss: 3.1892 - val_outputlocation_easy_to_find_loss: 3.7437 - val_outputservice_wait_time_loss: 15.6184 - val_outputservice_waiters_attitude_loss: 9.6795 - val_outputservice_parking_convenience_loss: 15.8989 - val_outputservice_serving_speed_loss: 2.4962 - val_outputprice_level_loss: 8.0655 - val_outputprice_cost_effective_loss: 15.6399 - val_outputprice_discount_loss: 13.2910 - val_outputenvironment_decoration_loss: 10.0878 - val_outputenvironment_noise_loss: 4.8129 - val_outputenvironment_space_loss: 14.7104 - val_outputenvironment_cleaness_loss: 5.8068 - val_outputdish_portion_loss: 7.4014 - val_outputdish_taste_loss: 9.8643 - val_outputdish_look_loss: 4.5582 - val_outputdish_recommendation_loss: 15.7581 - val_outputothers_overall_experience_loss: 5.2921 - val_outputothers_willing_to_consume_again_loss: 11.0957 - val_outputlocation_traffic_convenience_acc: 0.7838 - val_outputlocation_distance_from_business_district_acc: 0.8021 - val_outputlocation_easy_to_find_acc: 0.7677 - val_outputservice_wait_time_acc: 0.0310 - val_outputservice_waiters_attitude_acc: 0.3995 - val_outputservice_parking_convenience_acc: 0.0136 - val_outputservice_serving_speed_acc: 0.8451 - val_outputprice_level_acc: 0.4996 - val_outputprice_cost_effective_acc: 0.0297 - val_outputprice_discount_acc: 0.1754 - val_outputenvironment_decoration_acc: 0.3741 - val_outputenvironment_noise_acc: 0.7014 - val_outputenvironment_space_acc: 0.0873 - val_outputenvironment_cleaness_acc: 0.6397 - val_outputdish_portion_acc: 0.5408 - val_outputdish_taste_acc: 0.3880 - val_outputdish_look_acc: 0.7172 - val_outputdish_recommendation_acc: 0.0223 - val_outputothers_overall_experience_acc: 0.6717 - val_outputothers_willing_to_consume_again_acc: 0.3116\n",
      "Epoch 2/100\n",
      "\n",
      "Epoch 00002: LearningRateScheduler reducing learning rate to 0.09966186480766032.\n",
      "105000/105000 [==============================] - 112s 1ms/step - loss: 180.8519 - outputlocation_traffic_convenience_loss: 3.6255 - outputlocation_distance_from_business_district_loss: 3.2727 - outputlocation_easy_to_find_loss: 3.7448 - outputservice_wait_time_loss: 15.6524 - outputservice_waiters_attitude_loss: 9.6079 - outputservice_parking_convenience_loss: 15.8946 - outputservice_serving_speed_loss: 2.5021 - outputprice_level_loss: 8.0131 - outputprice_cost_effective_loss: 15.6559 - outputprice_discount_loss: 13.3158 - outputenvironment_decoration_loss: 10.0618 - outputenvironment_noise_loss: 4.8439 - outputenvironment_space_loss: 14.6963 - outputenvironment_cleaness_loss: 5.8949 - outputdish_portion_loss: 7.3810 - outputdish_taste_loss: 9.9472 - outputdish_look_loss: 4.4555 - outputdish_recommendation_loss: 15.7689 - outputothers_overall_experience_loss: 5.3620 - outputothers_willing_to_consume_again_loss: 11.1556 - outputlocation_traffic_convenience_acc: 0.7751 - outputlocation_distance_from_business_district_acc: 0.7970 - outputlocation_easy_to_find_acc: 0.7677 - outputservice_wait_time_acc: 0.0289 - outputservice_waiters_attitude_acc: 0.4039 - outputservice_parking_convenience_acc: 0.0139 - outputservice_serving_speed_acc: 0.8448 - outputprice_level_acc: 0.5028 - outputprice_cost_effective_acc: 0.0287 - outputprice_discount_acc: 0.1739 - outputenvironment_decoration_acc: 0.3757 - outputenvironment_noise_acc: 0.6995 - outputenvironment_space_acc: 0.0882 - outputenvironment_cleaness_acc: 0.6343 - outputdish_portion_acc: 0.5421 - outputdish_taste_acc: 0.3829 - outputdish_look_acc: 0.7236 - outputdish_recommendation_acc: 0.0217 - outputothers_overall_experience_acc: 0.6673 - outputothers_willing_to_consume_again_acc: 0.3079 - val_loss: 180.4947 - val_outputlocation_traffic_convenience_loss: 3.4847 - val_outputlocation_distance_from_business_district_loss: 3.1892 - val_outputlocation_easy_to_find_loss: 3.7437 - val_outputservice_wait_time_loss: 15.6184 - val_outputservice_waiters_attitude_loss: 9.6795 - val_outputservice_parking_convenience_loss: 15.8989 - val_outputservice_serving_speed_loss: 2.4962 - val_outputprice_level_loss: 8.0655 - val_outputprice_cost_effective_loss: 15.6399 - val_outputprice_discount_loss: 13.2910 - val_outputenvironment_decoration_loss: 10.0878 - val_outputenvironment_noise_loss: 4.8129 - val_outputenvironment_space_loss: 14.7104 - val_outputenvironment_cleaness_loss: 5.8068 - val_outputdish_portion_loss: 7.4014 - val_outputdish_taste_loss: 9.8643 - val_outputdish_look_loss: 4.5582 - val_outputdish_recommendation_loss: 15.7581 - val_outputothers_overall_experience_loss: 5.2921 - val_outputothers_willing_to_consume_again_loss: 11.0957 - val_outputlocation_traffic_convenience_acc: 0.7838 - val_outputlocation_distance_from_business_district_acc: 0.8021 - val_outputlocation_easy_to_find_acc: 0.7677 - val_outputservice_wait_time_acc: 0.0310 - val_outputservice_waiters_attitude_acc: 0.3995 - val_outputservice_parking_convenience_acc: 0.0136 - val_outputservice_serving_speed_acc: 0.8451 - val_outputprice_level_acc: 0.4996 - val_outputprice_cost_effective_acc: 0.0297 - val_outputprice_discount_acc: 0.1754 - val_outputenvironment_decoration_acc: 0.3741 - val_outputenvironment_noise_acc: 0.7014 - val_outputenvironment_space_acc: 0.0873 - val_outputenvironment_cleaness_acc: 0.6397 - val_outputdish_portion_acc: 0.5408 - val_outputdish_taste_acc: 0.3880 - val_outputdish_look_acc: 0.7172 - val_outputdish_recommendation_acc: 0.0223 - val_outputothers_overall_experience_acc: 0.6717 - val_outputothers_willing_to_consume_again_acc: 0.3116\n",
      "Epoch 3/100\n",
      "\n",
      "Epoch 00003: LearningRateScheduler reducing learning rate to 0.09864976903686952.\n"
     ]
    },
    {
     "name": "stdout",
     "output_type": "stream",
     "text": [
      " 53952/105000 [==============>...............] - ETA: 52s - loss: 180.8607 - outputlocation_traffic_convenience_loss: 3.5928 - outputlocation_distance_from_business_district_loss: 3.2970 - outputlocation_easy_to_find_loss: 3.7675 - outputservice_wait_time_loss: 15.6613 - outputservice_waiters_attitude_loss: 9.5564 - outputservice_parking_convenience_loss: 15.8991 - outputservice_serving_speed_loss: 2.4883 - outputprice_level_loss: 8.0372 - outputprice_cost_effective_loss: 15.6509 - outputprice_discount_loss: 13.2982 - outputenvironment_decoration_loss: 10.0496 - outputenvironment_noise_loss: 4.8663 - outputenvironment_space_loss: 14.6557 - outputenvironment_cleaness_loss: 5.9269 - outputdish_portion_loss: 7.4155 - outputdish_taste_loss: 9.9937 - outputdish_look_loss: 4.4615 - outputdish_recommendation_loss: 15.7704 - outputothers_overall_experience_loss: 5.3437 - outputothers_willing_to_consume_again_loss: 11.1287 - outputlocation_traffic_convenience_acc: 0.7771 - outputlocation_distance_from_business_district_acc: 0.7954 - outputlocation_easy_to_find_acc: 0.7663 - outputservice_wait_time_acc: 0.0283 - outputservice_waiters_attitude_acc: 0.4071 - outputservice_parking_convenience_acc: 0.0136 - outputservice_serving_speed_acc: 0.8456 - outputprice_level_acc: 0.5014 - outputprice_cost_effective_acc: 0.0290 - outputprice_discount_acc: 0.1750 - outputenvironment_decoration_acc: 0.3765 - outputenvironment_noise_acc: 0.6981 - outputenvironment_space_acc: 0.0907 - outputenvironment_cleaness_acc: 0.6323 - outputdish_portion_acc: 0.5399 - outputdish_taste_acc: 0.3800 - outputdish_look_acc: 0.7232 - outputdish_recommendation_acc: 0.0216 - outputothers_overall_experience_acc: 0.6685 - outputothers_willing_to_consume_again_acc: 0.3096"
     ]
    },
    {
     "ename": "KeyboardInterrupt",
     "evalue": "",
     "output_type": "error",
     "traceback": [
      "\u001b[1;31m---------------------------------------------------------------------------\u001b[0m",
      "\u001b[1;31mKeyboardInterrupt\u001b[0m                         Traceback (most recent call last)",
      "\u001b[1;32m<ipython-input-25-28f90f5eaaa6>\u001b[0m in \u001b[0;36m<module>\u001b[1;34m()\u001b[0m\n\u001b[0;32m      3\u001b[0m           \u001b[0mcallbacks\u001b[0m\u001b[1;33m=\u001b[0m\u001b[0mcallbacks\u001b[0m\u001b[1;33m,\u001b[0m\u001b[1;33m\u001b[0m\u001b[0m\n\u001b[0;32m      4\u001b[0m           \u001b[0mepochs\u001b[0m\u001b[1;33m=\u001b[0m\u001b[1;36m100\u001b[0m\u001b[1;33m,\u001b[0m\u001b[1;33m\u001b[0m\u001b[0m\n\u001b[1;32m----> 5\u001b[1;33m           validation_data=(X_valid_pad, Y_valid))\n\u001b[0m",
      "\u001b[1;32m~\\Anaconda3\\lib\\site-packages\\keras\\engine\\training.py\u001b[0m in \u001b[0;36mfit\u001b[1;34m(self, x, y, batch_size, epochs, verbose, callbacks, validation_split, validation_data, shuffle, class_weight, sample_weight, initial_epoch, steps_per_epoch, validation_steps, **kwargs)\u001b[0m\n\u001b[0;32m   1040\u001b[0m                                         \u001b[0minitial_epoch\u001b[0m\u001b[1;33m=\u001b[0m\u001b[0minitial_epoch\u001b[0m\u001b[1;33m,\u001b[0m\u001b[1;33m\u001b[0m\u001b[0m\n\u001b[0;32m   1041\u001b[0m                                         \u001b[0msteps_per_epoch\u001b[0m\u001b[1;33m=\u001b[0m\u001b[0msteps_per_epoch\u001b[0m\u001b[1;33m,\u001b[0m\u001b[1;33m\u001b[0m\u001b[0m\n\u001b[1;32m-> 1042\u001b[1;33m                                         validation_steps=validation_steps)\n\u001b[0m\u001b[0;32m   1043\u001b[0m \u001b[1;33m\u001b[0m\u001b[0m\n\u001b[0;32m   1044\u001b[0m     def evaluate(self, x=None, y=None,\n",
      "\u001b[1;32m~\\Anaconda3\\lib\\site-packages\\keras\\engine\\training_arrays.py\u001b[0m in \u001b[0;36mfit_loop\u001b[1;34m(model, f, ins, out_labels, batch_size, epochs, verbose, callbacks, val_f, val_ins, shuffle, callback_metrics, initial_epoch, steps_per_epoch, validation_steps)\u001b[0m\n\u001b[0;32m    197\u001b[0m                     \u001b[0mins_batch\u001b[0m\u001b[1;33m[\u001b[0m\u001b[0mi\u001b[0m\u001b[1;33m]\u001b[0m \u001b[1;33m=\u001b[0m \u001b[0mins_batch\u001b[0m\u001b[1;33m[\u001b[0m\u001b[0mi\u001b[0m\u001b[1;33m]\u001b[0m\u001b[1;33m.\u001b[0m\u001b[0mtoarray\u001b[0m\u001b[1;33m(\u001b[0m\u001b[1;33m)\u001b[0m\u001b[1;33m\u001b[0m\u001b[0m\n\u001b[0;32m    198\u001b[0m \u001b[1;33m\u001b[0m\u001b[0m\n\u001b[1;32m--> 199\u001b[1;33m                 \u001b[0mouts\u001b[0m \u001b[1;33m=\u001b[0m \u001b[0mf\u001b[0m\u001b[1;33m(\u001b[0m\u001b[0mins_batch\u001b[0m\u001b[1;33m)\u001b[0m\u001b[1;33m\u001b[0m\u001b[0m\n\u001b[0m\u001b[0;32m    200\u001b[0m                 \u001b[1;32mif\u001b[0m \u001b[1;32mnot\u001b[0m \u001b[0misinstance\u001b[0m\u001b[1;33m(\u001b[0m\u001b[0mouts\u001b[0m\u001b[1;33m,\u001b[0m \u001b[0mlist\u001b[0m\u001b[1;33m)\u001b[0m\u001b[1;33m:\u001b[0m\u001b[1;33m\u001b[0m\u001b[0m\n\u001b[0;32m    201\u001b[0m                     \u001b[0mouts\u001b[0m \u001b[1;33m=\u001b[0m \u001b[1;33m[\u001b[0m\u001b[0mouts\u001b[0m\u001b[1;33m]\u001b[0m\u001b[1;33m\u001b[0m\u001b[0m\n",
      "\u001b[1;32m~\\Anaconda3\\lib\\site-packages\\keras\\backend\\tensorflow_backend.py\u001b[0m in \u001b[0;36m__call__\u001b[1;34m(self, inputs)\u001b[0m\n\u001b[0;32m   2659\u001b[0m                 \u001b[1;32mreturn\u001b[0m \u001b[0mself\u001b[0m\u001b[1;33m.\u001b[0m\u001b[0m_legacy_call\u001b[0m\u001b[1;33m(\u001b[0m\u001b[0minputs\u001b[0m\u001b[1;33m)\u001b[0m\u001b[1;33m\u001b[0m\u001b[0m\n\u001b[0;32m   2660\u001b[0m \u001b[1;33m\u001b[0m\u001b[0m\n\u001b[1;32m-> 2661\u001b[1;33m             \u001b[1;32mreturn\u001b[0m \u001b[0mself\u001b[0m\u001b[1;33m.\u001b[0m\u001b[0m_call\u001b[0m\u001b[1;33m(\u001b[0m\u001b[0minputs\u001b[0m\u001b[1;33m)\u001b[0m\u001b[1;33m\u001b[0m\u001b[0m\n\u001b[0m\u001b[0;32m   2662\u001b[0m         \u001b[1;32melse\u001b[0m\u001b[1;33m:\u001b[0m\u001b[1;33m\u001b[0m\u001b[0m\n\u001b[0;32m   2663\u001b[0m             \u001b[1;32mif\u001b[0m \u001b[0mpy_any\u001b[0m\u001b[1;33m(\u001b[0m\u001b[0mis_tensor\u001b[0m\u001b[1;33m(\u001b[0m\u001b[0mx\u001b[0m\u001b[1;33m)\u001b[0m \u001b[1;32mfor\u001b[0m \u001b[0mx\u001b[0m \u001b[1;32min\u001b[0m \u001b[0minputs\u001b[0m\u001b[1;33m)\u001b[0m\u001b[1;33m:\u001b[0m\u001b[1;33m\u001b[0m\u001b[0m\n",
      "\u001b[1;32m~\\Anaconda3\\lib\\site-packages\\keras\\backend\\tensorflow_backend.py\u001b[0m in \u001b[0;36m_call\u001b[1;34m(self, inputs)\u001b[0m\n\u001b[0;32m   2629\u001b[0m                                 \u001b[0msymbol_vals\u001b[0m\u001b[1;33m,\u001b[0m\u001b[1;33m\u001b[0m\u001b[0m\n\u001b[0;32m   2630\u001b[0m                                 session)\n\u001b[1;32m-> 2631\u001b[1;33m         \u001b[0mfetched\u001b[0m \u001b[1;33m=\u001b[0m \u001b[0mself\u001b[0m\u001b[1;33m.\u001b[0m\u001b[0m_callable_fn\u001b[0m\u001b[1;33m(\u001b[0m\u001b[1;33m*\u001b[0m\u001b[0marray_vals\u001b[0m\u001b[1;33m)\u001b[0m\u001b[1;33m\u001b[0m\u001b[0m\n\u001b[0m\u001b[0;32m   2632\u001b[0m         \u001b[1;32mreturn\u001b[0m \u001b[0mfetched\u001b[0m\u001b[1;33m[\u001b[0m\u001b[1;33m:\u001b[0m\u001b[0mlen\u001b[0m\u001b[1;33m(\u001b[0m\u001b[0mself\u001b[0m\u001b[1;33m.\u001b[0m\u001b[0moutputs\u001b[0m\u001b[1;33m)\u001b[0m\u001b[1;33m]\u001b[0m\u001b[1;33m\u001b[0m\u001b[0m\n\u001b[0;32m   2633\u001b[0m \u001b[1;33m\u001b[0m\u001b[0m\n",
      "\u001b[1;32m~\\Anaconda3\\lib\\site-packages\\tensorflow\\python\\client\\session.py\u001b[0m in \u001b[0;36m__call__\u001b[1;34m(self, *args, **kwargs)\u001b[0m\n\u001b[0;32m   1380\u001b[0m           ret = tf_session.TF_SessionRunCallable(\n\u001b[0;32m   1381\u001b[0m               \u001b[0mself\u001b[0m\u001b[1;33m.\u001b[0m\u001b[0m_session\u001b[0m\u001b[1;33m.\u001b[0m\u001b[0m_session\u001b[0m\u001b[1;33m,\u001b[0m \u001b[0mself\u001b[0m\u001b[1;33m.\u001b[0m\u001b[0m_handle\u001b[0m\u001b[1;33m,\u001b[0m \u001b[0margs\u001b[0m\u001b[1;33m,\u001b[0m \u001b[0mstatus\u001b[0m\u001b[1;33m,\u001b[0m\u001b[1;33m\u001b[0m\u001b[0m\n\u001b[1;32m-> 1382\u001b[1;33m               run_metadata_ptr)\n\u001b[0m\u001b[0;32m   1383\u001b[0m         \u001b[1;32mif\u001b[0m \u001b[0mrun_metadata\u001b[0m\u001b[1;33m:\u001b[0m\u001b[1;33m\u001b[0m\u001b[0m\n\u001b[0;32m   1384\u001b[0m           \u001b[0mproto_data\u001b[0m \u001b[1;33m=\u001b[0m \u001b[0mtf_session\u001b[0m\u001b[1;33m.\u001b[0m\u001b[0mTF_GetBuffer\u001b[0m\u001b[1;33m(\u001b[0m\u001b[0mrun_metadata_ptr\u001b[0m\u001b[1;33m)\u001b[0m\u001b[1;33m\u001b[0m\u001b[0m\n",
      "\u001b[1;31mKeyboardInterrupt\u001b[0m: "
     ]
    }
   ],
   "source": [
    "model.fit(X_train_pad, \n",
    "          Y_train, batch_size=64,\n",
    "          callbacks=callbacks,\n",
    "          epochs=100,\n",
    "          validation_data=(X_valid_pad, Y_valid))"
   ]
  },
  {
   "cell_type": "code",
   "execution_count": null,
   "metadata": {
    "collapsed": true
   },
   "outputs": [],
   "source": []
  }
 ],
 "metadata": {
  "kernelspec": {
   "display_name": "Python 3",
   "language": "python",
   "name": "python3"
  },
  "language_info": {
   "codemirror_mode": {
    "name": "ipython",
    "version": 3
   },
   "file_extension": ".py",
   "mimetype": "text/x-python",
   "name": "python",
   "nbconvert_exporter": "python",
   "pygments_lexer": "ipython3",
   "version": "3.6.3"
  }
 },
 "nbformat": 4,
 "nbformat_minor": 2
}
