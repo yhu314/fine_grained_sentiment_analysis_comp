{
 "cells": [
  {
   "cell_type": "code",
   "execution_count": 1,
   "metadata": {},
   "outputs": [
    {
     "name": "stderr",
     "output_type": "stream",
     "text": [
      "C:\\Users\\Yi\\Anaconda3\\lib\\site-packages\\gensim\\utils.py:1167: UserWarning: detected Windows; aliasing chunkize to chunkize_serial\n",
      "  warnings.warn(\"detected Windows; aliasing chunkize to chunkize_serial\")\n",
      "C:\\Users\\Yi\\Anaconda3\\lib\\site-packages\\h5py\\__init__.py:34: FutureWarning: Conversion of the second argument of issubdtype from `float` to `np.floating` is deprecated. In future, it will be treated as `np.float64 == np.dtype(float).type`.\n",
      "  from ._conv import register_converters as _register_converters\n",
      "Using TensorFlow backend.\n"
     ]
    }
   ],
   "source": [
    "from transformers import *\n",
    "from train_config import data_path_config, targets, hierarchical_model_config\n",
    "from torch_data import UserCommentDataset\n",
    "from gensim.models import KeyedVectors\n",
    "from utils import build_tok2idx, build_embedding_matrix\n",
    "import numpy as np\n",
    "from keras.layers import Input, TimeDistributed, CuDNNGRU, Embedding, Bidirectional,\\\n",
    "    Dense, Reshape, RepeatVector, Permute, Multiply, BatchNormalization\n",
    "from keras import Model\n",
    "from keras_callbacks import *\n",
    "import json"
   ]
  },
  {
   "cell_type": "code",
   "execution_count": 3,
   "metadata": {},
   "outputs": [
    {
     "ename": "NameError",
     "evalue": "name 'cache' is not defined",
     "output_type": "error",
     "traceback": [
      "\u001b[1;31m---------------------------------------------------------------------------\u001b[0m",
      "\u001b[1;31mNameError\u001b[0m                                 Traceback (most recent call last)",
      "\u001b[1;32m<ipython-input-3-74fe2b5377ee>\u001b[0m in \u001b[0;36m<module>\u001b[1;34m()\u001b[0m\n\u001b[1;32m----> 1\u001b[1;33m \u001b[0membedding_matrix\u001b[0m\u001b[1;33m,\u001b[0m \u001b[0mmax_sentences\u001b[0m\u001b[1;33m,\u001b[0m \u001b[0mmax_words\u001b[0m \u001b[1;33m=\u001b[0m \u001b[0mcache\u001b[0m\u001b[1;33m\u001b[0m\u001b[0m\n\u001b[0m\u001b[0;32m      2\u001b[0m \u001b[0mgru_cells\u001b[0m \u001b[1;33m=\u001b[0m \u001b[1;36m100\u001b[0m\u001b[1;33m\u001b[0m\u001b[0m\n\u001b[0;32m      3\u001b[0m \u001b[0moutput_shape\u001b[0m \u001b[1;33m=\u001b[0m \u001b[1;36m4\u001b[0m\u001b[1;33m\u001b[0m\u001b[0m\n\u001b[0;32m      4\u001b[0m \u001b[0mn_words\u001b[0m\u001b[1;33m,\u001b[0m \u001b[0membedding_dim\u001b[0m \u001b[1;33m=\u001b[0m \u001b[0membedding_matrix\u001b[0m\u001b[1;33m.\u001b[0m\u001b[0mshape\u001b[0m\u001b[1;33m\u001b[0m\u001b[0m\n\u001b[0;32m      5\u001b[0m embedding_layer = Embedding(input_dim=n_words,\n",
      "\u001b[1;31mNameError\u001b[0m: name 'cache' is not defined"
     ]
    }
   ],
   "source": [
    "embedding_matrix, max_sentences, max_words = (None, 240, 40)\n",
    "gru_cells = 100\n",
    "output_shape = 4\n",
    "n_words, embedding_dim = embedding_matrix.shape\n",
    "embedding_layer = Embedding(input_dim=n_words,\n",
    "                            output_dim=embedding_dim,\n",
    "                            weights=[embedding_matrix],\n",
    "                            trainable=False)\n",
    "\n",
    "# Input single sentence\n",
    "sentence_input = Input((max_words,), dtype='int32')\n",
    "embedded_sentence = embedding_layer(sentence_input)\n",
    "sentence_lstm = Bidirectional(CuDNNGRU(gru_cells, return_sequences=False))(embedded_sentence)\n",
    "sent_encoder = Model(sentence_input, sentence_lstm)\n",
    "\n",
    "# Paragraph level\n",
    "review_input = Input(shape=(max_sentences, max_words), dtype='int32')\n",
    "review_encoder = TimeDistributed(sent_encoder)(review_input)\n",
    "l_lstm_sent = Bidirectional(CuDNNGRU(gru_cells, return_sequences=True))(review_encoder)"
   ]
  },
  {
   "cell_type": "code",
   "execution_count": null,
   "metadata": {
    "collapsed": true
   },
   "outputs": [],
   "source": []
  }
 ],
 "metadata": {
  "kernelspec": {
   "display_name": "Python 3",
   "language": "python",
   "name": "python3"
  },
  "language_info": {
   "codemirror_mode": {
    "name": "ipython",
    "version": 3
   },
   "file_extension": ".py",
   "mimetype": "text/x-python",
   "name": "python",
   "nbconvert_exporter": "python",
   "pygments_lexer": "ipython3",
   "version": "3.6.3"
  }
 },
 "nbformat": 4,
 "nbformat_minor": 2
}
