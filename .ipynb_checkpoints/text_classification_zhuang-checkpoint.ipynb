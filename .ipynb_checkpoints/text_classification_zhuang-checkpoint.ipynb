{
 "cells": [
  {
   "cell_type": "code",
   "execution_count": 1,
   "metadata": {},
   "outputs": [
    {
     "name": "stderr",
     "output_type": "stream",
     "text": [
      "C:\\Users\\Yi\\Anaconda3\\lib\\site-packages\\h5py\\__init__.py:34: FutureWarning: Conversion of the second argument of issubdtype from `float` to `np.floating` is deprecated. In future, it will be treated as `np.float64 == np.dtype(float).type`.\n",
      "  from ._conv import register_converters as _register_converters\n",
      "Using TensorFlow backend.\n",
      "C:\\Users\\Yi\\Anaconda3\\lib\\site-packages\\gensim\\utils.py:1167: UserWarning: detected Windows; aliasing chunkize to chunkize_serial\n",
      "  warnings.warn(\"detected Windows; aliasing chunkize to chunkize_serial\")\n"
     ]
    }
   ],
   "source": [
    "import numpy as np \n",
    "import pandas as pd \n",
    "import os\n",
    "import pickle\n",
    "from keras_callbacks import *\n",
    "from keras.layers import *\n",
    "from keras.preprocessing import text, sequence\n",
    "from keras import initializers, regularizers, constraints, optimizers, layers, callbacks\n",
    "from keras.callbacks import EarlyStopping,ModelCheckpoint\n",
    "from keras.models import Model\n",
    "from keras.optimizers import *\n",
    "from sklearn.model_selection import train_test_split\n",
    "from keras.utils import to_categorical\n",
    "import keras\n",
    "from keras import backend as K\n",
    "from random import randint\n",
    "from keras.engine.topology import Layer\n",
    "from gensim.models import KeyedVectors\n",
    "from train_config import targets\n",
    "from keras.backend.tensorflow_backend import set_session\n",
    "config = tf.ConfigProto()\n",
    "config.gpu_options.per_process_gpu_memory_fraction = 0.9\n",
    "config.gpu_options.allow_growth=True\n",
    "set_session(tf.Session(config=config))\n",
    "K.clear_session()"
   ]
  },
  {
   "cell_type": "code",
   "execution_count": 2,
   "metadata": {
    "collapsed": true
   },
   "outputs": [],
   "source": [
    "file = ['../datasets/train_data_jieba.txt', '../datasets/valid_data_jieba.txt', '../datasets/test_data_jieba.txt']\n",
    "X_train = []\n",
    "X_valid = []\n",
    "X_test = []\n",
    "\n",
    "with open('../datasets/train_data_jieba.txt', 'r', encoding='utf8') as handle:\n",
    "    for line in handle.readlines():\n",
    "        X_train.append(line.rstrip('\\n'))\n",
    "        \n",
    "        \n",
    "with open('../datasets/valid_data_jieba.txt', 'r', encoding='utf8') as handle:\n",
    "    for line in handle.readlines():\n",
    "        X_valid.append(line.rstrip('\\n'))\n",
    "        \n",
    "        \n",
    "with open('../datasets/test_data_jieba.txt', 'r', encoding='utf8') as handle:\n",
    "    for line in handle.readlines():\n",
    "        X_test.append(line.rstrip('\\n'))"
   ]
  },
  {
   "cell_type": "code",
   "execution_count": 3,
   "metadata": {},
   "outputs": [
    {
     "name": "stdout",
     "output_type": "stream",
     "text": [
      "105000\n",
      "15000\n",
      "15000\n"
     ]
    }
   ],
   "source": [
    "print(len(X_train))\n",
    "print(len(X_valid))\n",
    "print(len(X_test))"
   ]
  },
  {
   "cell_type": "code",
   "execution_count": 4,
   "metadata": {},
   "outputs": [
    {
     "data": {
      "text/plain": [
       "'吼吼吼 萌死人 的 棒棒糖 中了 大众点评 的 霸王餐 太 可爱 了 一直 就 好奇 这个 棒棒糖 是 怎么 个 东西 大众点评 给 了 我 这个 土老冒 一个 见识 的 机会 看 介绍 棒棒糖 是用 德国 糖 做的 不会 很甜 中间 的 照片 是 糯米 的 能 食用 真是太 高端大气上档次 了 还 可以买 蝴蝶结 扎口 送人 可以买 礼盒 我是 先 打的 卖家 电话 加了 微信 给 卖家 传 的 照片 等 了 几天 卖家 就 告诉我 可以 取货 了 去 大官屯 那取 的 虽然 连 卖家 的 面 都没 见到 但是 还是 谢谢 卖家 送我 这么 可爱的东西 太 喜欢了 这 哪 舍得吃 啊'"
      ]
     },
     "execution_count": 4,
     "metadata": {},
     "output_type": "execute_result"
    }
   ],
   "source": [
    "X_train[0]"
   ]
  },
  {
   "cell_type": "code",
   "execution_count": 5,
   "metadata": {
    "collapsed": true
   },
   "outputs": [],
   "source": [
    "name = ['location_traffic_convenience',\n",
    "       'location_distance_from_business_district', 'location_easy_to_find',\n",
    "       'service_wait_time', 'service_waiters_attitude',\n",
    "       'service_parking_convenience', 'service_serving_speed', 'price_level',\n",
    "       'price_cost_effective', 'price_discount', 'environment_decoration',\n",
    "       'environment_noise', 'environment_space', 'environment_cleaness',\n",
    "       'dish_portion', 'dish_taste', 'dish_look', 'dish_recommendation',\n",
    "       'others_overall_experience', 'others_willing_to_consume_again']\n",
    "train_data = pd.read_csv('../datasets/sentiment_analysis_trainingset.csv')\n",
    "valid_data = pd.read_csv('../datasets/sentiment_analysis_validationset.csv')\n",
    "\n",
    "y_train = []\n",
    "y_valid = []\n",
    "for N in name:\n",
    "    Y_train = train_data[[N]]\n",
    "    Y_train = np.array(Y_train)+2\n",
    "    Y_train = to_categorical(Y_train, num_classes=4)\n",
    "    y_train.append(Y_train)\n",
    "    \n",
    "    Y_valid = valid_data[[N]]\n",
    "    Y_valid = np.array(Y_valid)+2\n",
    "    Y_valid = to_categorical(Y_valid, num_classes=4)\n",
    "    y_valid.append(Y_valid)"
   ]
  },
  {
   "cell_type": "code",
   "execution_count": 6,
   "metadata": {},
   "outputs": [
    {
     "name": "stdout",
     "output_type": "stream",
     "text": [
      "105000\n",
      "20\n",
      "[[1. 0. 0. 0.]\n",
      " [1. 0. 0. 0.]\n",
      " [1. 0. 0. 0.]\n",
      " ...\n",
      " [1. 0. 0. 0.]\n",
      " [1. 0. 0. 0.]\n",
      " [1. 0. 0. 0.]]\n"
     ]
    }
   ],
   "source": [
    "print(len(y_train[0]))\n",
    "print(len(y_valid))\n",
    "print(y_train[3])"
   ]
  },
  {
   "cell_type": "code",
   "execution_count": 7,
   "metadata": {
    "collapsed": true
   },
   "outputs": [],
   "source": [
    "embedding_path = '../datasets/tencent_embedding.npy'\n",
    "# 词典大小，embedding矩阵大小\n",
    "tok2idx_path = '../datasets/vocab.pickle'"
   ]
  },
  {
   "cell_type": "code",
   "execution_count": 8,
   "metadata": {
    "collapsed": true
   },
   "outputs": [],
   "source": [
    "embedding_matrix = np.load(embedding_path)\n",
    "with open(tok2idx_path, 'rb') as file:\n",
    "    tok2idx = pickle.load(file)"
   ]
  },
  {
   "cell_type": "code",
   "execution_count": 9,
   "metadata": {
    "collapsed": true
   },
   "outputs": [],
   "source": [
    "def tokenize(sentence, tok2idx):\n",
    "    return [tok2idx[word] for word in sentence.split(' ')]"
   ]
  },
  {
   "cell_type": "code",
   "execution_count": 12,
   "metadata": {},
   "outputs": [],
   "source": [
    "maxlen = 1024\n",
    "train = [tokenize(x, tok2idx) for x in X_train]\n",
    "valid = [tokenize(x, tok2idx) for x in X_valid]\n",
    "test = [tokenize(x, tok2idx) for x in X_test]\n",
    "x_train = sequence.pad_sequences(train, maxlen=maxlen, padding='pre')\n",
    "x_valid = sequence.pad_sequences(valid, maxlen=maxlen, padding='pre')\n",
    "x_test = sequence.pad_sequences(test, maxlen=maxlen, padding='pre')"
   ]
  },
  {
   "cell_type": "code",
   "execution_count": 13,
   "metadata": {
    "collapsed": true
   },
   "outputs": [],
   "source": [
    "# embeddings_index = {}\n",
    "# with open(EMBEDDING_FILE,encoding='utf8') as f:\n",
    "#     for line in f:\n",
    "#         values = line.rstrip().rsplit(' ')\n",
    "#         word = values[0]\n",
    "#         coefs = np.asarray(values[1:], dtype='float32')\n",
    "#         embeddings_index[word] = coefs"
   ]
  },
  {
   "cell_type": "code",
   "execution_count": 14,
   "metadata": {
    "collapsed": true
   },
   "outputs": [],
   "source": [
    "# word_index = tok.word_index\n",
    "# num_words = min(max_features, len(word_index) + 1)\n",
    "# embedding_matrix = np.zeros((num_words, embed_size))\n",
    "# for word, i in word_index.items():\n",
    "#     if i >= max_features:\n",
    "#         continue\n",
    "#     embedding_vector = embeddings_index.get(word)\n",
    "#     if embedding_vector is not None:\n",
    "#         embedding_matrix[i] = embedding_vector"
   ]
  },
  {
   "cell_type": "code",
   "execution_count": 15,
   "metadata": {
    "collapsed": true
   },
   "outputs": [],
   "source": [
    "def f1(y_true, y_pred):\n",
    "    def recall(y_true, y_pred):\n",
    "        \"\"\"Recall metric.\n",
    "\n",
    "        Only computes a batch-wise average of recall.\n",
    "\n",
    "        Computes the recall, a metric for multi-label classification of\n",
    "        how many relevant items are selected.\n",
    "        \"\"\"\n",
    "        true_positives = K.sum(K.round(K.clip(y_true * y_pred, 0, 1)))\n",
    "        possible_positives = K.sum(K.round(K.clip(y_true, 0, 1)))\n",
    "        recall = true_positives / (possible_positives + K.epsilon())\n",
    "        return recall\n",
    "\n",
    "    def precision(y_true, y_pred):\n",
    "        \"\"\"Precision metric.\n",
    "\n",
    "        Only computes a batch-wise average of precision.\n",
    "\n",
    "        Computes the precision, a metric for multi-label classification of\n",
    "        how many selected items are relevant.\n",
    "        \"\"\"\n",
    "        true_positives = K.sum(K.round(K.clip(y_true * y_pred, 0, 1)))\n",
    "        predicted_positives = K.sum(K.round(K.clip(y_pred, 0, 1)))\n",
    "        precision = true_positives / (predicted_positives + K.epsilon())\n",
    "        return precision\n",
    "    precision = precision(y_true, y_pred)\n",
    "    recall = recall(y_true, y_pred)\n",
    "    \n",
    "    return K.mean(2*((precision*recall)/(precision+recall+K.epsilon())))\n"
   ]
  },
  {
   "cell_type": "code",
   "execution_count": 16,
   "metadata": {
    "collapsed": true
   },
   "outputs": [],
   "source": [
    "embedding_layer = Embedding(input_dim=embedding_matrix.shape[0],\n",
    "                            output_dim=embedding_matrix.shape[1],\n",
    "                            weights=[embedding_matrix],\n",
    "                            trainable=False)"
   ]
  },
  {
   "cell_type": "code",
   "execution_count": 17,
   "metadata": {
    "collapsed": true
   },
   "outputs": [],
   "source": [
    "def dp_block(input):\n",
    "    pool = ZeroPadding1D((0, 1))(input)\n",
    "    pool = MaxPooling1D(pool_size=3, strides=2, padding='valid')(pool)\n",
    "    conv = Conv1D(filters=128, strides=1, kernel_size=3, padding='same', activation='relu')(pool)  # keep dimension the same\n",
    "    conv = Conv1D(filters=64, strides=1, kernel_size=3, padding='same', activation='relu')(conv)\n",
    "    shortcut = Concatenate()([conv, pool])\n",
    "    return conv"
   ]
  },
  {
   "cell_type": "code",
   "execution_count": 18,
   "metadata": {
    "collapsed": true
   },
   "outputs": [],
   "source": [
    "def build_model(embedding_layer, maxlen, targets):\n",
    "    sent_input = Input((maxlen,), dtype='int32')\n",
    "    sent_embedded = embedding_layer(sent_input)\n",
    "    output_list_1 = []\n",
    "    conv = Conv1D(filters=256, strides=1, kernel_size=3, padding='same', activation='relu')(sent_embedded)\n",
    "    for target in targets:\n",
    "    # region embedding\n",
    "        \n",
    "        conv_1 = dp_block(conv)\n",
    "\n",
    "        flat_1 = Flatten(name='flatten_1'+target)(conv_1)\n",
    "    \n",
    "        dense = Dense(32, activation='relu', name='Dense_3_'+target)(flat_1)\n",
    "        output_target = Dense(4, name='output_'+target, activation='softmax')(dense)\n",
    "        output_list_1.append(output_target)\n",
    "    \n",
    "    \n",
    "    model = Model(sent_input, output_list_1)\n",
    "    return model"
   ]
  },
  {
   "cell_type": "code",
   "execution_count": 19,
   "metadata": {
    "collapsed": true
   },
   "outputs": [],
   "source": [
    "batch_size = 16\n",
    "epochs = 20"
   ]
  },
  {
   "cell_type": "code",
   "execution_count": 20,
   "metadata": {
    "collapsed": true
   },
   "outputs": [],
   "source": [
    "model_name = 'DPCNN'\n",
    "lr_schedule = generate_learning_rate_schedule(0.0001, 0.05, 20, 0)\n",
    "checkpoint = generate_check_point(model_name)\n",
    "early_stopping = generate_early_stopping()\n",
    "tensorboard = generate_tensorboard(model_name, 'ALL')\n",
    "callbacks=[lr_schedule, checkpoint, early_stopping, tensorboard]"
   ]
  },
  {
   "cell_type": "code",
   "execution_count": 21,
   "metadata": {},
   "outputs": [
    {
     "name": "stdout",
     "output_type": "stream",
     "text": [
      "__________________________________________________________________________________________________\n",
      "Layer (type)                    Output Shape         Param #     Connected to                     \n",
      "==================================================================================================\n",
      "input_1 (InputLayer)            (None, 1024)         0                                            \n",
      "__________________________________________________________________________________________________\n",
      "embedding_1 (Embedding)         (None, 1024, 200)    83499000    input_1[0][0]                    \n",
      "__________________________________________________________________________________________________\n",
      "conv1d_1 (Conv1D)               (None, 1024, 256)    153856      embedding_1[0][0]                \n",
      "__________________________________________________________________________________________________\n",
      "zero_padding1d_1 (ZeroPadding1D (None, 1025, 256)    0           conv1d_1[0][0]                   \n",
      "__________________________________________________________________________________________________\n",
      "zero_padding1d_2 (ZeroPadding1D (None, 1025, 256)    0           conv1d_1[0][0]                   \n",
      "__________________________________________________________________________________________________\n",
      "zero_padding1d_3 (ZeroPadding1D (None, 1025, 256)    0           conv1d_1[0][0]                   \n",
      "__________________________________________________________________________________________________\n",
      "zero_padding1d_4 (ZeroPadding1D (None, 1025, 256)    0           conv1d_1[0][0]                   \n",
      "__________________________________________________________________________________________________\n",
      "zero_padding1d_5 (ZeroPadding1D (None, 1025, 256)    0           conv1d_1[0][0]                   \n",
      "__________________________________________________________________________________________________\n",
      "zero_padding1d_6 (ZeroPadding1D (None, 1025, 256)    0           conv1d_1[0][0]                   \n",
      "__________________________________________________________________________________________________\n",
      "zero_padding1d_7 (ZeroPadding1D (None, 1025, 256)    0           conv1d_1[0][0]                   \n",
      "__________________________________________________________________________________________________\n",
      "zero_padding1d_8 (ZeroPadding1D (None, 1025, 256)    0           conv1d_1[0][0]                   \n",
      "__________________________________________________________________________________________________\n",
      "zero_padding1d_9 (ZeroPadding1D (None, 1025, 256)    0           conv1d_1[0][0]                   \n",
      "__________________________________________________________________________________________________\n",
      "zero_padding1d_10 (ZeroPadding1 (None, 1025, 256)    0           conv1d_1[0][0]                   \n",
      "__________________________________________________________________________________________________\n",
      "zero_padding1d_11 (ZeroPadding1 (None, 1025, 256)    0           conv1d_1[0][0]                   \n",
      "__________________________________________________________________________________________________\n",
      "zero_padding1d_12 (ZeroPadding1 (None, 1025, 256)    0           conv1d_1[0][0]                   \n",
      "__________________________________________________________________________________________________\n",
      "zero_padding1d_13 (ZeroPadding1 (None, 1025, 256)    0           conv1d_1[0][0]                   \n",
      "__________________________________________________________________________________________________\n",
      "zero_padding1d_14 (ZeroPadding1 (None, 1025, 256)    0           conv1d_1[0][0]                   \n",
      "__________________________________________________________________________________________________\n",
      "zero_padding1d_15 (ZeroPadding1 (None, 1025, 256)    0           conv1d_1[0][0]                   \n",
      "__________________________________________________________________________________________________\n",
      "zero_padding1d_16 (ZeroPadding1 (None, 1025, 256)    0           conv1d_1[0][0]                   \n",
      "__________________________________________________________________________________________________\n",
      "zero_padding1d_17 (ZeroPadding1 (None, 1025, 256)    0           conv1d_1[0][0]                   \n",
      "__________________________________________________________________________________________________\n",
      "zero_padding1d_18 (ZeroPadding1 (None, 1025, 256)    0           conv1d_1[0][0]                   \n",
      "__________________________________________________________________________________________________\n",
      "zero_padding1d_19 (ZeroPadding1 (None, 1025, 256)    0           conv1d_1[0][0]                   \n",
      "__________________________________________________________________________________________________\n",
      "zero_padding1d_20 (ZeroPadding1 (None, 1025, 256)    0           conv1d_1[0][0]                   \n",
      "__________________________________________________________________________________________________\n",
      "max_pooling1d_1 (MaxPooling1D)  (None, 512, 256)     0           zero_padding1d_1[0][0]           \n",
      "__________________________________________________________________________________________________\n",
      "max_pooling1d_2 (MaxPooling1D)  (None, 512, 256)     0           zero_padding1d_2[0][0]           \n",
      "__________________________________________________________________________________________________\n",
      "max_pooling1d_3 (MaxPooling1D)  (None, 512, 256)     0           zero_padding1d_3[0][0]           \n",
      "__________________________________________________________________________________________________\n",
      "max_pooling1d_4 (MaxPooling1D)  (None, 512, 256)     0           zero_padding1d_4[0][0]           \n",
      "__________________________________________________________________________________________________\n",
      "max_pooling1d_5 (MaxPooling1D)  (None, 512, 256)     0           zero_padding1d_5[0][0]           \n",
      "__________________________________________________________________________________________________\n",
      "max_pooling1d_6 (MaxPooling1D)  (None, 512, 256)     0           zero_padding1d_6[0][0]           \n",
      "__________________________________________________________________________________________________\n",
      "max_pooling1d_7 (MaxPooling1D)  (None, 512, 256)     0           zero_padding1d_7[0][0]           \n",
      "__________________________________________________________________________________________________\n",
      "max_pooling1d_8 (MaxPooling1D)  (None, 512, 256)     0           zero_padding1d_8[0][0]           \n",
      "__________________________________________________________________________________________________\n",
      "max_pooling1d_9 (MaxPooling1D)  (None, 512, 256)     0           zero_padding1d_9[0][0]           \n",
      "__________________________________________________________________________________________________\n",
      "max_pooling1d_10 (MaxPooling1D) (None, 512, 256)     0           zero_padding1d_10[0][0]          \n",
      "__________________________________________________________________________________________________\n",
      "max_pooling1d_11 (MaxPooling1D) (None, 512, 256)     0           zero_padding1d_11[0][0]          \n",
      "__________________________________________________________________________________________________\n",
      "max_pooling1d_12 (MaxPooling1D) (None, 512, 256)     0           zero_padding1d_12[0][0]          \n",
      "__________________________________________________________________________________________________\n",
      "max_pooling1d_13 (MaxPooling1D) (None, 512, 256)     0           zero_padding1d_13[0][0]          \n",
      "__________________________________________________________________________________________________\n",
      "max_pooling1d_14 (MaxPooling1D) (None, 512, 256)     0           zero_padding1d_14[0][0]          \n",
      "__________________________________________________________________________________________________\n",
      "max_pooling1d_15 (MaxPooling1D) (None, 512, 256)     0           zero_padding1d_15[0][0]          \n",
      "__________________________________________________________________________________________________\n",
      "max_pooling1d_16 (MaxPooling1D) (None, 512, 256)     0           zero_padding1d_16[0][0]          \n",
      "__________________________________________________________________________________________________\n",
      "max_pooling1d_17 (MaxPooling1D) (None, 512, 256)     0           zero_padding1d_17[0][0]          \n",
      "__________________________________________________________________________________________________\n",
      "max_pooling1d_18 (MaxPooling1D) (None, 512, 256)     0           zero_padding1d_18[0][0]          \n",
      "__________________________________________________________________________________________________\n",
      "max_pooling1d_19 (MaxPooling1D) (None, 512, 256)     0           zero_padding1d_19[0][0]          \n",
      "__________________________________________________________________________________________________\n",
      "max_pooling1d_20 (MaxPooling1D) (None, 512, 256)     0           zero_padding1d_20[0][0]          \n",
      "__________________________________________________________________________________________________\n",
      "conv1d_2 (Conv1D)               (None, 512, 128)     98432       max_pooling1d_1[0][0]            \n",
      "__________________________________________________________________________________________________\n",
      "conv1d_4 (Conv1D)               (None, 512, 128)     98432       max_pooling1d_2[0][0]            \n",
      "__________________________________________________________________________________________________\n",
      "conv1d_6 (Conv1D)               (None, 512, 128)     98432       max_pooling1d_3[0][0]            \n",
      "__________________________________________________________________________________________________\n",
      "conv1d_8 (Conv1D)               (None, 512, 128)     98432       max_pooling1d_4[0][0]            \n",
      "__________________________________________________________________________________________________\n",
      "conv1d_10 (Conv1D)              (None, 512, 128)     98432       max_pooling1d_5[0][0]            \n",
      "__________________________________________________________________________________________________\n",
      "conv1d_12 (Conv1D)              (None, 512, 128)     98432       max_pooling1d_6[0][0]            \n",
      "__________________________________________________________________________________________________\n",
      "conv1d_14 (Conv1D)              (None, 512, 128)     98432       max_pooling1d_7[0][0]            \n",
      "__________________________________________________________________________________________________\n",
      "conv1d_16 (Conv1D)              (None, 512, 128)     98432       max_pooling1d_8[0][0]            \n",
      "__________________________________________________________________________________________________\n",
      "conv1d_18 (Conv1D)              (None, 512, 128)     98432       max_pooling1d_9[0][0]            \n",
      "__________________________________________________________________________________________________\n",
      "conv1d_20 (Conv1D)              (None, 512, 128)     98432       max_pooling1d_10[0][0]           \n",
      "__________________________________________________________________________________________________\n",
      "conv1d_22 (Conv1D)              (None, 512, 128)     98432       max_pooling1d_11[0][0]           \n",
      "__________________________________________________________________________________________________\n",
      "conv1d_24 (Conv1D)              (None, 512, 128)     98432       max_pooling1d_12[0][0]           \n",
      "__________________________________________________________________________________________________\n",
      "conv1d_26 (Conv1D)              (None, 512, 128)     98432       max_pooling1d_13[0][0]           \n",
      "__________________________________________________________________________________________________\n",
      "conv1d_28 (Conv1D)              (None, 512, 128)     98432       max_pooling1d_14[0][0]           \n",
      "__________________________________________________________________________________________________\n",
      "conv1d_30 (Conv1D)              (None, 512, 128)     98432       max_pooling1d_15[0][0]           \n",
      "__________________________________________________________________________________________________\n",
      "conv1d_32 (Conv1D)              (None, 512, 128)     98432       max_pooling1d_16[0][0]           \n",
      "__________________________________________________________________________________________________\n",
      "conv1d_34 (Conv1D)              (None, 512, 128)     98432       max_pooling1d_17[0][0]           \n",
      "__________________________________________________________________________________________________\n",
      "conv1d_36 (Conv1D)              (None, 512, 128)     98432       max_pooling1d_18[0][0]           \n",
      "__________________________________________________________________________________________________\n",
      "conv1d_38 (Conv1D)              (None, 512, 128)     98432       max_pooling1d_19[0][0]           \n",
      "__________________________________________________________________________________________________\n",
      "conv1d_40 (Conv1D)              (None, 512, 128)     98432       max_pooling1d_20[0][0]           \n",
      "__________________________________________________________________________________________________\n",
      "conv1d_3 (Conv1D)               (None, 512, 64)      24640       conv1d_2[0][0]                   \n",
      "__________________________________________________________________________________________________\n",
      "conv1d_5 (Conv1D)               (None, 512, 64)      24640       conv1d_4[0][0]                   \n",
      "__________________________________________________________________________________________________\n",
      "conv1d_7 (Conv1D)               (None, 512, 64)      24640       conv1d_6[0][0]                   \n",
      "__________________________________________________________________________________________________\n",
      "conv1d_9 (Conv1D)               (None, 512, 64)      24640       conv1d_8[0][0]                   \n",
      "__________________________________________________________________________________________________\n",
      "conv1d_11 (Conv1D)              (None, 512, 64)      24640       conv1d_10[0][0]                  \n",
      "__________________________________________________________________________________________________\n",
      "conv1d_13 (Conv1D)              (None, 512, 64)      24640       conv1d_12[0][0]                  \n",
      "__________________________________________________________________________________________________\n",
      "conv1d_15 (Conv1D)              (None, 512, 64)      24640       conv1d_14[0][0]                  \n",
      "__________________________________________________________________________________________________\n",
      "conv1d_17 (Conv1D)              (None, 512, 64)      24640       conv1d_16[0][0]                  \n",
      "__________________________________________________________________________________________________\n",
      "conv1d_19 (Conv1D)              (None, 512, 64)      24640       conv1d_18[0][0]                  \n",
      "__________________________________________________________________________________________________\n",
      "conv1d_21 (Conv1D)              (None, 512, 64)      24640       conv1d_20[0][0]                  \n",
      "__________________________________________________________________________________________________\n",
      "conv1d_23 (Conv1D)              (None, 512, 64)      24640       conv1d_22[0][0]                  \n",
      "__________________________________________________________________________________________________\n",
      "conv1d_25 (Conv1D)              (None, 512, 64)      24640       conv1d_24[0][0]                  \n",
      "__________________________________________________________________________________________________\n",
      "conv1d_27 (Conv1D)              (None, 512, 64)      24640       conv1d_26[0][0]                  \n",
      "__________________________________________________________________________________________________\n",
      "conv1d_29 (Conv1D)              (None, 512, 64)      24640       conv1d_28[0][0]                  \n",
      "__________________________________________________________________________________________________\n",
      "conv1d_31 (Conv1D)              (None, 512, 64)      24640       conv1d_30[0][0]                  \n",
      "__________________________________________________________________________________________________\n",
      "conv1d_33 (Conv1D)              (None, 512, 64)      24640       conv1d_32[0][0]                  \n",
      "__________________________________________________________________________________________________\n",
      "conv1d_35 (Conv1D)              (None, 512, 64)      24640       conv1d_34[0][0]                  \n",
      "__________________________________________________________________________________________________\n",
      "conv1d_37 (Conv1D)              (None, 512, 64)      24640       conv1d_36[0][0]                  \n",
      "__________________________________________________________________________________________________\n",
      "conv1d_39 (Conv1D)              (None, 512, 64)      24640       conv1d_38[0][0]                  \n",
      "__________________________________________________________________________________________________\n",
      "conv1d_41 (Conv1D)              (None, 512, 64)      24640       conv1d_40[0][0]                  \n"
     ]
    },
    {
     "name": "stdout",
     "output_type": "stream",
     "text": [
      "__________________________________________________________________________________________________\n",
      "flatten_1location_traffic_conve (None, 32768)        0           conv1d_3[0][0]                   \n",
      "__________________________________________________________________________________________________\n",
      "flatten_1location_distance_from (None, 32768)        0           conv1d_5[0][0]                   \n",
      "__________________________________________________________________________________________________\n",
      "flatten_1location_easy_to_find  (None, 32768)        0           conv1d_7[0][0]                   \n",
      "__________________________________________________________________________________________________\n",
      "flatten_1service_wait_time (Fla (None, 32768)        0           conv1d_9[0][0]                   \n",
      "__________________________________________________________________________________________________\n",
      "flatten_1service_waiters_attitu (None, 32768)        0           conv1d_11[0][0]                  \n",
      "__________________________________________________________________________________________________\n",
      "flatten_1service_parking_conven (None, 32768)        0           conv1d_13[0][0]                  \n",
      "__________________________________________________________________________________________________\n",
      "flatten_1service_serving_speed  (None, 32768)        0           conv1d_15[0][0]                  \n",
      "__________________________________________________________________________________________________\n",
      "flatten_1price_level (Flatten)  (None, 32768)        0           conv1d_17[0][0]                  \n",
      "__________________________________________________________________________________________________\n",
      "flatten_1price_cost_effective ( (None, 32768)        0           conv1d_19[0][0]                  \n",
      "__________________________________________________________________________________________________\n",
      "flatten_1price_discount (Flatte (None, 32768)        0           conv1d_21[0][0]                  \n",
      "__________________________________________________________________________________________________\n",
      "flatten_1environment_decoration (None, 32768)        0           conv1d_23[0][0]                  \n",
      "__________________________________________________________________________________________________\n",
      "flatten_1environment_noise (Fla (None, 32768)        0           conv1d_25[0][0]                  \n",
      "__________________________________________________________________________________________________\n",
      "flatten_1environment_space (Fla (None, 32768)        0           conv1d_27[0][0]                  \n",
      "__________________________________________________________________________________________________\n",
      "flatten_1environment_cleaness ( (None, 32768)        0           conv1d_29[0][0]                  \n",
      "__________________________________________________________________________________________________\n",
      "flatten_1dish_portion (Flatten) (None, 32768)        0           conv1d_31[0][0]                  \n",
      "__________________________________________________________________________________________________\n",
      "flatten_1dish_taste (Flatten)   (None, 32768)        0           conv1d_33[0][0]                  \n",
      "__________________________________________________________________________________________________\n",
      "flatten_1dish_look (Flatten)    (None, 32768)        0           conv1d_35[0][0]                  \n",
      "__________________________________________________________________________________________________\n",
      "flatten_1dish_recommendation (F (None, 32768)        0           conv1d_37[0][0]                  \n",
      "__________________________________________________________________________________________________\n",
      "flatten_1others_overall_experie (None, 32768)        0           conv1d_39[0][0]                  \n",
      "__________________________________________________________________________________________________\n",
      "flatten_1others_willing_to_cons (None, 32768)        0           conv1d_41[0][0]                  \n",
      "__________________________________________________________________________________________________\n",
      "Dense_3_location_traffic_conven (None, 32)           1048608     flatten_1location_traffic_conveni\n",
      "__________________________________________________________________________________________________\n",
      "Dense_3_location_distance_from_ (None, 32)           1048608     flatten_1location_distance_from_b\n",
      "__________________________________________________________________________________________________\n",
      "Dense_3_location_easy_to_find ( (None, 32)           1048608     flatten_1location_easy_to_find[0]\n",
      "__________________________________________________________________________________________________\n",
      "Dense_3_service_wait_time (Dens (None, 32)           1048608     flatten_1service_wait_time[0][0] \n",
      "__________________________________________________________________________________________________\n",
      "Dense_3_service_waiters_attitud (None, 32)           1048608     flatten_1service_waiters_attitude\n",
      "__________________________________________________________________________________________________\n",
      "Dense_3_service_parking_conveni (None, 32)           1048608     flatten_1service_parking_convenie\n",
      "__________________________________________________________________________________________________\n",
      "Dense_3_service_serving_speed ( (None, 32)           1048608     flatten_1service_serving_speed[0]\n",
      "__________________________________________________________________________________________________\n",
      "Dense_3_price_level (Dense)     (None, 32)           1048608     flatten_1price_level[0][0]       \n",
      "__________________________________________________________________________________________________\n",
      "Dense_3_price_cost_effective (D (None, 32)           1048608     flatten_1price_cost_effective[0][\n",
      "__________________________________________________________________________________________________\n",
      "Dense_3_price_discount (Dense)  (None, 32)           1048608     flatten_1price_discount[0][0]    \n",
      "__________________________________________________________________________________________________\n",
      "Dense_3_environment_decoration  (None, 32)           1048608     flatten_1environment_decoration[0\n",
      "__________________________________________________________________________________________________\n",
      "Dense_3_environment_noise (Dens (None, 32)           1048608     flatten_1environment_noise[0][0] \n",
      "__________________________________________________________________________________________________\n",
      "Dense_3_environment_space (Dens (None, 32)           1048608     flatten_1environment_space[0][0] \n",
      "__________________________________________________________________________________________________\n",
      "Dense_3_environment_cleaness (D (None, 32)           1048608     flatten_1environment_cleaness[0][\n",
      "__________________________________________________________________________________________________\n",
      "Dense_3_dish_portion (Dense)    (None, 32)           1048608     flatten_1dish_portion[0][0]      \n",
      "__________________________________________________________________________________________________\n",
      "Dense_3_dish_taste (Dense)      (None, 32)           1048608     flatten_1dish_taste[0][0]        \n",
      "__________________________________________________________________________________________________\n",
      "Dense_3_dish_look (Dense)       (None, 32)           1048608     flatten_1dish_look[0][0]         \n",
      "__________________________________________________________________________________________________\n",
      "Dense_3_dish_recommendation (De (None, 32)           1048608     flatten_1dish_recommendation[0][0\n",
      "__________________________________________________________________________________________________\n",
      "Dense_3_others_overall_experien (None, 32)           1048608     flatten_1others_overall_experienc\n",
      "__________________________________________________________________________________________________\n",
      "Dense_3_others_willing_to_consu (None, 32)           1048608     flatten_1others_willing_to_consum\n",
      "__________________________________________________________________________________________________\n",
      "output_location_traffic_conveni (None, 4)            132         Dense_3_location_traffic_convenie\n",
      "__________________________________________________________________________________________________\n",
      "output_location_distance_from_b (None, 4)            132         Dense_3_location_distance_from_bu\n",
      "__________________________________________________________________________________________________\n",
      "output_location_easy_to_find (D (None, 4)            132         Dense_3_location_easy_to_find[0][\n",
      "__________________________________________________________________________________________________\n",
      "output_service_wait_time (Dense (None, 4)            132         Dense_3_service_wait_time[0][0]  \n",
      "__________________________________________________________________________________________________\n",
      "output_service_waiters_attitude (None, 4)            132         Dense_3_service_waiters_attitude[\n",
      "__________________________________________________________________________________________________\n",
      "output_service_parking_convenie (None, 4)            132         Dense_3_service_parking_convenien\n",
      "__________________________________________________________________________________________________\n",
      "output_service_serving_speed (D (None, 4)            132         Dense_3_service_serving_speed[0][\n",
      "__________________________________________________________________________________________________\n",
      "output_price_level (Dense)      (None, 4)            132         Dense_3_price_level[0][0]        \n",
      "__________________________________________________________________________________________________\n",
      "output_price_cost_effective (De (None, 4)            132         Dense_3_price_cost_effective[0][0\n",
      "__________________________________________________________________________________________________\n",
      "output_price_discount (Dense)   (None, 4)            132         Dense_3_price_discount[0][0]     \n",
      "__________________________________________________________________________________________________\n",
      "output_environment_decoration ( (None, 4)            132         Dense_3_environment_decoration[0]\n",
      "__________________________________________________________________________________________________\n",
      "output_environment_noise (Dense (None, 4)            132         Dense_3_environment_noise[0][0]  \n",
      "__________________________________________________________________________________________________\n",
      "output_environment_space (Dense (None, 4)            132         Dense_3_environment_space[0][0]  \n",
      "__________________________________________________________________________________________________\n",
      "output_environment_cleaness (De (None, 4)            132         Dense_3_environment_cleaness[0][0\n",
      "__________________________________________________________________________________________________\n",
      "output_dish_portion (Dense)     (None, 4)            132         Dense_3_dish_portion[0][0]       \n",
      "__________________________________________________________________________________________________\n",
      "output_dish_taste (Dense)       (None, 4)            132         Dense_3_dish_taste[0][0]         \n",
      "__________________________________________________________________________________________________\n",
      "output_dish_look (Dense)        (None, 4)            132         Dense_3_dish_look[0][0]          \n",
      "__________________________________________________________________________________________________\n",
      "output_dish_recommendation (Den (None, 4)            132         Dense_3_dish_recommendation[0][0]\n",
      "__________________________________________________________________________________________________\n",
      "output_others_overall_experienc (None, 4)            132         Dense_3_others_overall_experience\n",
      "__________________________________________________________________________________________________\n",
      "output_others_willing_to_consum (None, 4)            132         Dense_3_others_willing_to_consume\n",
      "==================================================================================================\n",
      "Total params: 107,089,096\n",
      "Trainable params: 23,590,096\n",
      "Non-trainable params: 83,499,000\n",
      "__________________________________________________________________________________________________\n"
     ]
    }
   ],
   "source": [
    "model = build_model(embedding_layer, maxlen, targets)\n",
    "model.summary()\n",
    "model.compile(optimizer='adam', loss='categorical_crossentropy', metrics=[f1])"
   ]
  },
  {
   "cell_type": "code",
   "execution_count": 22,
   "metadata": {},
   "outputs": [
    {
     "name": "stdout",
     "output_type": "stream",
     "text": [
      "Train on 105000 samples, validate on 15000 samples\n",
      "Epoch 1/20\n",
      "\n",
      "Epoch 00001: LearningRateScheduler reducing learning rate to 0.05.\n",
      "  3872/105000 [>.............................] - ETA: 15:13 - loss: 113.9620 - output_location_traffic_convenience_loss: 5.0429 - output_location_distance_from_business_district_loss: 3.1733 - output_location_easy_to_find_loss: 3.8148 - output_service_wait_time_loss: 1.9250 - output_service_waiters_attitude_loss: 9.0847 - output_service_parking_convenience_loss: 0.9341 - output_service_serving_speed_loss: 2.5073 - output_price_level_loss: 7.9984 - output_price_cost_effective_loss: 3.7398 - output_price_discount_loss: 6.0501 - output_environment_decoration_loss: 9.9840 - output_environment_noise_loss: 6.1167 - output_environment_space_loss: 5.9419 - output_environment_cleaness_loss: 5.8419 - output_dish_portion_loss: 7.6567 - output_dish_taste_loss: 7.7483 - output_dish_look_loss: 4.5056 - output_dish_recommendation_loss: 3.3484 - output_others_overall_experience_loss: 12.5022 - output_others_willing_to_consume_again_loss: 6.0459 - output_location_traffic_convenience_f1: 0.6834 - output_location_distance_from_business_district_f1: 0.7993 - output_location_easy_to_find_f1: 0.7596 - output_service_wait_time_f1: 0.8768 - output_service_waiters_attitude_f1: 0.4326 - output_service_parking_convenience_f1: 0.9383 - output_service_serving_speed_f1: 0.8407 - output_price_level_f1: 0.5000 - output_price_cost_effective_f1: 0.7642 - output_price_discount_f1: 0.6209 - output_environment_decoration_f1: 0.3768 - output_environment_noise_f1: 0.6167 - output_environment_space_f1: 0.6276 - output_environment_cleaness_f1: 0.6338 - output_dish_portion_f1: 0.5212 - output_dish_taste_f1: 0.5155 - output_dish_look_f1: 0.7167 - output_dish_recommendation_f1: 0.7885 - output_others_overall_experience_f1: 0.2206 - output_others_willing_to_consume_again_f1: 0.6211"
     ]
    },
    {
     "ename": "KeyboardInterrupt",
     "evalue": "",
     "output_type": "error",
     "traceback": [
      "\u001b[1;31m---------------------------------------------------------------------------\u001b[0m",
      "\u001b[1;31mKeyboardInterrupt\u001b[0m                         Traceback (most recent call last)",
      "\u001b[1;32m<ipython-input-22-66ab314de6ab>\u001b[0m in \u001b[0;36m<module>\u001b[1;34m()\u001b[0m\n\u001b[0;32m      3\u001b[0m           \u001b[0mcallbacks\u001b[0m\u001b[1;33m=\u001b[0m\u001b[0mcallbacks\u001b[0m\u001b[1;33m,\u001b[0m\u001b[1;33m\u001b[0m\u001b[0m\n\u001b[0;32m      4\u001b[0m           \u001b[0mepochs\u001b[0m\u001b[1;33m=\u001b[0m\u001b[0mepochs\u001b[0m\u001b[1;33m,\u001b[0m\u001b[1;33m\u001b[0m\u001b[0m\n\u001b[1;32m----> 5\u001b[1;33m           validation_data=(x_valid, y_valid))\n\u001b[0m",
      "\u001b[1;32m~\\Anaconda3\\lib\\site-packages\\keras\\engine\\training.py\u001b[0m in \u001b[0;36mfit\u001b[1;34m(self, x, y, batch_size, epochs, verbose, callbacks, validation_split, validation_data, shuffle, class_weight, sample_weight, initial_epoch, steps_per_epoch, validation_steps, **kwargs)\u001b[0m\n\u001b[0;32m   1040\u001b[0m                                         \u001b[0minitial_epoch\u001b[0m\u001b[1;33m=\u001b[0m\u001b[0minitial_epoch\u001b[0m\u001b[1;33m,\u001b[0m\u001b[1;33m\u001b[0m\u001b[0m\n\u001b[0;32m   1041\u001b[0m                                         \u001b[0msteps_per_epoch\u001b[0m\u001b[1;33m=\u001b[0m\u001b[0msteps_per_epoch\u001b[0m\u001b[1;33m,\u001b[0m\u001b[1;33m\u001b[0m\u001b[0m\n\u001b[1;32m-> 1042\u001b[1;33m                                         validation_steps=validation_steps)\n\u001b[0m\u001b[0;32m   1043\u001b[0m \u001b[1;33m\u001b[0m\u001b[0m\n\u001b[0;32m   1044\u001b[0m     def evaluate(self, x=None, y=None,\n",
      "\u001b[1;32m~\\Anaconda3\\lib\\site-packages\\keras\\engine\\training_arrays.py\u001b[0m in \u001b[0;36mfit_loop\u001b[1;34m(model, f, ins, out_labels, batch_size, epochs, verbose, callbacks, val_f, val_ins, shuffle, callback_metrics, initial_epoch, steps_per_epoch, validation_steps)\u001b[0m\n\u001b[0;32m    197\u001b[0m                     \u001b[0mins_batch\u001b[0m\u001b[1;33m[\u001b[0m\u001b[0mi\u001b[0m\u001b[1;33m]\u001b[0m \u001b[1;33m=\u001b[0m \u001b[0mins_batch\u001b[0m\u001b[1;33m[\u001b[0m\u001b[0mi\u001b[0m\u001b[1;33m]\u001b[0m\u001b[1;33m.\u001b[0m\u001b[0mtoarray\u001b[0m\u001b[1;33m(\u001b[0m\u001b[1;33m)\u001b[0m\u001b[1;33m\u001b[0m\u001b[0m\n\u001b[0;32m    198\u001b[0m \u001b[1;33m\u001b[0m\u001b[0m\n\u001b[1;32m--> 199\u001b[1;33m                 \u001b[0mouts\u001b[0m \u001b[1;33m=\u001b[0m \u001b[0mf\u001b[0m\u001b[1;33m(\u001b[0m\u001b[0mins_batch\u001b[0m\u001b[1;33m)\u001b[0m\u001b[1;33m\u001b[0m\u001b[0m\n\u001b[0m\u001b[0;32m    200\u001b[0m                 \u001b[1;32mif\u001b[0m \u001b[1;32mnot\u001b[0m \u001b[0misinstance\u001b[0m\u001b[1;33m(\u001b[0m\u001b[0mouts\u001b[0m\u001b[1;33m,\u001b[0m \u001b[0mlist\u001b[0m\u001b[1;33m)\u001b[0m\u001b[1;33m:\u001b[0m\u001b[1;33m\u001b[0m\u001b[0m\n\u001b[0;32m    201\u001b[0m                     \u001b[0mouts\u001b[0m \u001b[1;33m=\u001b[0m \u001b[1;33m[\u001b[0m\u001b[0mouts\u001b[0m\u001b[1;33m]\u001b[0m\u001b[1;33m\u001b[0m\u001b[0m\n",
      "\u001b[1;32m~\\Anaconda3\\lib\\site-packages\\keras\\backend\\tensorflow_backend.py\u001b[0m in \u001b[0;36m__call__\u001b[1;34m(self, inputs)\u001b[0m\n\u001b[0;32m   2659\u001b[0m                 \u001b[1;32mreturn\u001b[0m \u001b[0mself\u001b[0m\u001b[1;33m.\u001b[0m\u001b[0m_legacy_call\u001b[0m\u001b[1;33m(\u001b[0m\u001b[0minputs\u001b[0m\u001b[1;33m)\u001b[0m\u001b[1;33m\u001b[0m\u001b[0m\n\u001b[0;32m   2660\u001b[0m \u001b[1;33m\u001b[0m\u001b[0m\n\u001b[1;32m-> 2661\u001b[1;33m             \u001b[1;32mreturn\u001b[0m \u001b[0mself\u001b[0m\u001b[1;33m.\u001b[0m\u001b[0m_call\u001b[0m\u001b[1;33m(\u001b[0m\u001b[0minputs\u001b[0m\u001b[1;33m)\u001b[0m\u001b[1;33m\u001b[0m\u001b[0m\n\u001b[0m\u001b[0;32m   2662\u001b[0m         \u001b[1;32melse\u001b[0m\u001b[1;33m:\u001b[0m\u001b[1;33m\u001b[0m\u001b[0m\n\u001b[0;32m   2663\u001b[0m             \u001b[1;32mif\u001b[0m \u001b[0mpy_any\u001b[0m\u001b[1;33m(\u001b[0m\u001b[0mis_tensor\u001b[0m\u001b[1;33m(\u001b[0m\u001b[0mx\u001b[0m\u001b[1;33m)\u001b[0m \u001b[1;32mfor\u001b[0m \u001b[0mx\u001b[0m \u001b[1;32min\u001b[0m \u001b[0minputs\u001b[0m\u001b[1;33m)\u001b[0m\u001b[1;33m:\u001b[0m\u001b[1;33m\u001b[0m\u001b[0m\n",
      "\u001b[1;32m~\\Anaconda3\\lib\\site-packages\\keras\\backend\\tensorflow_backend.py\u001b[0m in \u001b[0;36m_call\u001b[1;34m(self, inputs)\u001b[0m\n\u001b[0;32m   2629\u001b[0m                                 \u001b[0msymbol_vals\u001b[0m\u001b[1;33m,\u001b[0m\u001b[1;33m\u001b[0m\u001b[0m\n\u001b[0;32m   2630\u001b[0m                                 session)\n\u001b[1;32m-> 2631\u001b[1;33m         \u001b[0mfetched\u001b[0m \u001b[1;33m=\u001b[0m \u001b[0mself\u001b[0m\u001b[1;33m.\u001b[0m\u001b[0m_callable_fn\u001b[0m\u001b[1;33m(\u001b[0m\u001b[1;33m*\u001b[0m\u001b[0marray_vals\u001b[0m\u001b[1;33m)\u001b[0m\u001b[1;33m\u001b[0m\u001b[0m\n\u001b[0m\u001b[0;32m   2632\u001b[0m         \u001b[1;32mreturn\u001b[0m \u001b[0mfetched\u001b[0m\u001b[1;33m[\u001b[0m\u001b[1;33m:\u001b[0m\u001b[0mlen\u001b[0m\u001b[1;33m(\u001b[0m\u001b[0mself\u001b[0m\u001b[1;33m.\u001b[0m\u001b[0moutputs\u001b[0m\u001b[1;33m)\u001b[0m\u001b[1;33m]\u001b[0m\u001b[1;33m\u001b[0m\u001b[0m\n\u001b[0;32m   2633\u001b[0m \u001b[1;33m\u001b[0m\u001b[0m\n",
      "\u001b[1;32m~\\Anaconda3\\lib\\site-packages\\tensorflow\\python\\client\\session.py\u001b[0m in \u001b[0;36m__call__\u001b[1;34m(self, *args, **kwargs)\u001b[0m\n\u001b[0;32m   1380\u001b[0m           ret = tf_session.TF_SessionRunCallable(\n\u001b[0;32m   1381\u001b[0m               \u001b[0mself\u001b[0m\u001b[1;33m.\u001b[0m\u001b[0m_session\u001b[0m\u001b[1;33m.\u001b[0m\u001b[0m_session\u001b[0m\u001b[1;33m,\u001b[0m \u001b[0mself\u001b[0m\u001b[1;33m.\u001b[0m\u001b[0m_handle\u001b[0m\u001b[1;33m,\u001b[0m \u001b[0margs\u001b[0m\u001b[1;33m,\u001b[0m \u001b[0mstatus\u001b[0m\u001b[1;33m,\u001b[0m\u001b[1;33m\u001b[0m\u001b[0m\n\u001b[1;32m-> 1382\u001b[1;33m               run_metadata_ptr)\n\u001b[0m\u001b[0;32m   1383\u001b[0m         \u001b[1;32mif\u001b[0m \u001b[0mrun_metadata\u001b[0m\u001b[1;33m:\u001b[0m\u001b[1;33m\u001b[0m\u001b[0m\n\u001b[0;32m   1384\u001b[0m           \u001b[0mproto_data\u001b[0m \u001b[1;33m=\u001b[0m \u001b[0mtf_session\u001b[0m\u001b[1;33m.\u001b[0m\u001b[0mTF_GetBuffer\u001b[0m\u001b[1;33m(\u001b[0m\u001b[0mrun_metadata_ptr\u001b[0m\u001b[1;33m)\u001b[0m\u001b[1;33m\u001b[0m\u001b[0m\n",
      "\u001b[1;31mKeyboardInterrupt\u001b[0m: "
     ]
    }
   ],
   "source": [
    "model.fit(x_train, \n",
    "          y_train, batch_size=batch_size,\n",
    "          callbacks=callbacks,\n",
    "          epochs=epochs,\n",
    "          validation_data=(x_valid, y_valid))"
   ]
  },
  {
   "cell_type": "code",
   "execution_count": 25,
   "metadata": {},
   "outputs": [
    {
     "ename": "AttributeError",
     "evalue": "'list' object has no attribute 'shape'",
     "output_type": "error",
     "traceback": [
      "\u001b[1;31m---------------------------------------------------------------------------\u001b[0m",
      "\u001b[1;31mAttributeError\u001b[0m                            Traceback (most recent call last)",
      "\u001b[1;32m<ipython-input-25-d822561cbaf9>\u001b[0m in \u001b[0;36m<module>\u001b[1;34m()\u001b[0m\n\u001b[1;32m----> 1\u001b[1;33m \u001b[0my_train\u001b[0m\u001b[1;33m.\u001b[0m\u001b[0mshape\u001b[0m\u001b[1;33m\u001b[0m\u001b[0m\n\u001b[0m",
      "\u001b[1;31mAttributeError\u001b[0m: 'list' object has no attribute 'shape'"
     ]
    }
   ],
   "source": [
    "y_train.shape"
   ]
  },
  {
   "cell_type": "code",
   "execution_count": 26,
   "metadata": {},
   "outputs": [
    {
     "data": {
      "text/plain": [
       "[119.37465,\n",
       " 5.540595,\n",
       " 4.5332146,\n",
       " 4.78506,\n",
       " 2.5184524,\n",
       " 7.5553575,\n",
       " 0.5036906,\n",
       " 3.022143,\n",
       " 8.814584,\n",
       " 3.5258336,\n",
       " 6.044286,\n",
       " 11.836727,\n",
       " 6.5479765,\n",
       " 6.799822,\n",
       " 6.044286,\n",
       " 7.5553575,\n",
       " 6.296131,\n",
       " 4.5332146,\n",
       " 3.5258334,\n",
       " 13.095953,\n",
       " 6.296131,\n",
       " 0.65624994,\n",
       " 0.71874994,\n",
       " 0.70312494,\n",
       " 0.84374994,\n",
       " 0.53124994,\n",
       " 0.96874994,\n",
       " 0.81249994,\n",
       " 0.45312494,\n",
       " 0.78124994,\n",
       " 0.62499994,\n",
       " 0.26562494,\n",
       " 0.59374994,\n",
       " 0.57812494,\n",
       " 0.62499994,\n",
       " 0.53124994,\n",
       " 0.60937494,\n",
       " 0.71874994,\n",
       " 0.78124994,\n",
       " 0.18749994,\n",
       " 0.60937494]"
      ]
     },
     "execution_count": 26,
     "metadata": {},
     "output_type": "execute_result"
    }
   ],
   "source": [
    "for lr_factor in range(-5, 0):\n",
    "    lr = 10 ** lr_factor\n",
    "    optimizer = Adam(lr = lr)\n",
    "    model.compile(optimizer=optimizer, loss='categorical_crossentropy')\n",
    "model.train_on_batch(x_train[:64,:], [x[:64] for x in y_train])"
   ]
  },
  {
   "cell_type": "code",
   "execution_count": null,
   "metadata": {
    "collapsed": true
   },
   "outputs": [],
   "source": []
  }
 ],
 "metadata": {
  "kernelspec": {
   "display_name": "Python 3",
   "language": "python",
   "name": "python3"
  },
  "language_info": {
   "codemirror_mode": {
    "name": "ipython",
    "version": 3
   },
   "file_extension": ".py",
   "mimetype": "text/x-python",
   "name": "python",
   "nbconvert_exporter": "python",
   "pygments_lexer": "ipython3",
   "version": "3.6.3"
  }
 },
 "nbformat": 4,
 "nbformat_minor": 2
}
