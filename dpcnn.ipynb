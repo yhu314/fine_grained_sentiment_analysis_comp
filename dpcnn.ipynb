{
 "cells": [
  {
   "cell_type": "markdown",
   "metadata": {},
   "source": [
    "# This is a Basic Module for DPCNN"
   ]
  },
  {
   "cell_type": "code",
   "execution_count": 1,
   "metadata": {},
   "outputs": [
    {
     "name": "stderr",
     "output_type": "stream",
     "text": [
      "C:\\Users\\Yi\\Anaconda3\\lib\\site-packages\\h5py\\__init__.py:34: FutureWarning: Conversion of the second argument of issubdtype from `float` to `np.floating` is deprecated. In future, it will be treated as `np.float64 == np.dtype(float).type`.\n",
      "  from ._conv import register_converters as _register_converters\n",
      "Using TensorFlow backend.\n"
     ]
    }
   ],
   "source": [
    "from keras import Model\n",
    "from keras.layers import Dense, Embedding, Input, Flatten, Concatenate,\\\n",
    "    SpatialDropout1D, Conv1D, MaxPooling1D, Add, Reshape, ZeroPadding1D\n",
    "from keras.preprocessing.sequence import pad_sequences\n",
    "from keras_callbacks import *\n",
    "import numpy as np\n",
    "from metrics import f1\n",
    "import tensorflow as tf\n",
    "import keras.backend as K\n",
    "from keras.backend.tensorflow_backend import set_session\n",
    "from keras.losses import categorical_crossentropy\n",
    "from sklearn.metrics import f1_score\n",
    "config = tf.ConfigProto()\n",
    "config.gpu_options.per_process_gpu_memory_fraction = 0.9\n",
    "config.gpu_options.allow_growth=True\n",
    "set_session(tf.Session(config=config))\n",
    "K.clear_session()"
   ]
  },
  {
   "cell_type": "code",
   "execution_count": 2,
   "metadata": {
    "collapsed": true
   },
   "outputs": [],
   "source": [
    "def dp_block(input):\n",
    "    pool = ZeroPadding1D((0, 1))(input)\n",
    "    pool = MaxPooling1D(pool_size=3, strides=2, padding='valid')(pool)\n",
    "    conv = Conv1D(filters=250, strides=1, kernel_size=3, padding='same')(pool)  # keep dimension the same\n",
    "    conv = Conv1D(filters=250, strides=1, kernel_size=3, padding='same', use_bias=False)(conv)\n",
    "    shortcut = Add()([conv, pool])\n",
    "    return shortcut"
   ]
  },
  {
   "cell_type": "code",
   "execution_count": 3,
   "metadata": {
    "collapsed": true
   },
   "outputs": [],
   "source": [
    "def build_model(embedding_layer, maxlen, targets):\n",
    "    sent_input = Input((maxlen,), dtype='int32')\n",
    "    sent_embedded = embedding_layer(sent_input)\n",
    "\n",
    "    # region embedding\n",
    "    conv = Conv1D(filters=250, strides=1, kernel_size=3, padding='same')(sent_embedded)\n",
    "\n",
    "    while conv.shape[1] > 2:\n",
    "         conv = dp_block(conv)\n",
    "    \n",
    "    output_list = []\n",
    "    for target in targets:\n",
    "        flat_target = Flatten(name='flatten'+target)(conv)\n",
    "        output_target = Dense(4, name='output'+target, activation='softmax')(flat_target)\n",
    "        output_list.append(output_target)\n",
    "    model = Model(sent_input, output_list)\n",
    "    return model"
   ]
  },
  {
   "cell_type": "markdown",
   "metadata": {},
   "source": [
    "# Load Data"
   ]
  },
  {
   "cell_type": "code",
   "execution_count": 4,
   "metadata": {},
   "outputs": [
    {
     "name": "stderr",
     "output_type": "stream",
     "text": [
      "C:\\Users\\Yi\\Anaconda3\\lib\\site-packages\\gensim\\utils.py:1167: UserWarning: detected Windows; aliasing chunkize to chunkize_serial\n",
      "  warnings.warn(\"detected Windows; aliasing chunkize to chunkize_serial\")\n"
     ]
    }
   ],
   "source": [
    "from torch_data import UserCommentDataset, calculate_labels, save_predictions\n",
    "from train_config import data_path_config, targets\n",
    "from gensim.models import KeyedVectors\n",
    "from utils import *"
   ]
  },
  {
   "cell_type": "code",
   "execution_count": 5,
   "metadata": {
    "collapsed": true
   },
   "outputs": [],
   "source": [
    "maxlen = 1024"
   ]
  },
  {
   "cell_type": "code",
   "execution_count": 6,
   "metadata": {
    "collapsed": true
   },
   "outputs": [],
   "source": [
    "train_dataset = UserCommentDataset(data_path_config['train_data_path'],\n",
    "                                   targets=targets,\n",
    "                                   content='jieba_seg',\n",
    "                                   transformers=None)\n",
    "validate_dataset = UserCommentDataset(data_path_config['valid_data_path'],\n",
    "                                      targets=targets,\n",
    "                                      content='jieba_seg',\n",
    "                                      transformers=None)\n",
    "test_dataset = UserCommentDataset(data_path_config['test_data_path'],\n",
    "                                  targets=None,\n",
    "                                  content='jieba_seg',\n",
    "                                  transformers=None)"
   ]
  },
  {
   "cell_type": "code",
   "execution_count": 7,
   "metadata": {
    "collapsed": true
   },
   "outputs": [],
   "source": [
    "train_sentences, train_targets = zip(*train_dataset)\n",
    "validate_sentences, validate_targets = zip(*validate_dataset)\n",
    "test_sentences, _ = zip(*test_dataset)"
   ]
  },
  {
   "cell_type": "code",
   "execution_count": 8,
   "metadata": {
    "collapsed": true
   },
   "outputs": [],
   "source": [
    "def decompose_targets(data):\n",
    "    decomposed_list = []\n",
    "    for idx, _ in enumerate(targets):\n",
    "        target_list = [x[idx] for x in data]\n",
    "        target_array = np.vstack(target_list)\n",
    "        decomposed_list.append(target_array)\n",
    "    return decomposed_list\n",
    "\n",
    "Y_train = decompose_targets(train_targets)\n",
    "Y_valid = decompose_targets(validate_targets)"
   ]
  },
  {
   "cell_type": "code",
   "execution_count": 9,
   "metadata": {
    "collapsed": true
   },
   "outputs": [],
   "source": [
    "w2v = KeyedVectors.load_word2vec_format(data_path_config['embedding_path'],\n",
    "                                        binary=True, unicode_errors='ignore')\n",
    "tok2idx = build_tok2idx(w2v)"
   ]
  },
  {
   "cell_type": "code",
   "execution_count": 10,
   "metadata": {
    "collapsed": true
   },
   "outputs": [],
   "source": [
    "w2v_matrix = build_embedding_matrix(tok2idx, w2v, data_path_config['embedding_dim'])"
   ]
  },
  {
   "cell_type": "code",
   "execution_count": 11,
   "metadata": {
    "collapsed": true
   },
   "outputs": [],
   "source": [
    "X_train_seq = texts_to_sequences(train_sentences, tok2idx)\n",
    "X_valid_seq = texts_to_sequences(validate_sentences, tok2idx)\n",
    "X_test_seq = texts_to_sequences(test_sentences, tok2idx)"
   ]
  },
  {
   "cell_type": "code",
   "execution_count": 12,
   "metadata": {
    "collapsed": true
   },
   "outputs": [],
   "source": [
    "X_train_pad = pad_sequences(X_train_seq, maxlen=maxlen)\n",
    "X_valid_pad = pad_sequences(X_valid_seq, maxlen=maxlen)\n",
    "X_test_pad = pad_sequences(X_test_seq, maxlen=maxlen)"
   ]
  },
  {
   "cell_type": "markdown",
   "metadata": {},
   "source": [
    "# Modeling"
   ]
  },
  {
   "cell_type": "code",
   "execution_count": 13,
   "metadata": {
    "collapsed": true
   },
   "outputs": [],
   "source": [
    "model_name = 'DPCNN'\n",
    "lr_schedule = generate_learning_rate_schedule(0.001, 0.5, 20, 0)\n",
    "checkpoint = generate_check_point(model_name)\n",
    "early_stopping = generate_early_stopping()\n",
    "tensorboard = generate_tensorboard(model_name, 'ALL')\n",
    "callbacks=[lr_schedule, checkpoint, early_stopping, tensorboard]"
   ]
  },
  {
   "cell_type": "code",
   "execution_count": 14,
   "metadata": {
    "collapsed": true
   },
   "outputs": [],
   "source": [
    "embedding_layer = Embedding(input_dim=w2v_matrix.shape[0],\n",
    "                            output_dim=w2v_matrix.shape[1],\n",
    "                            weights=[w2v_matrix],\n",
    "                            trainable=False)"
   ]
  },
  {
   "cell_type": "code",
   "execution_count": 15,
   "metadata": {
    "collapsed": true
   },
   "outputs": [],
   "source": [
    "model = build_model(embedding_layer, maxlen, targets)"
   ]
  },
  {
   "cell_type": "code",
   "execution_count": 16,
   "metadata": {},
   "outputs": [
    {
     "name": "stdout",
     "output_type": "stream",
     "text": [
      "__________________________________________________________________________________________________\n",
      "Layer (type)                    Output Shape         Param #     Connected to                     \n",
      "==================================================================================================\n",
      "input_1 (InputLayer)            (None, 1024)         0                                            \n",
      "__________________________________________________________________________________________________\n",
      "embedding_1 (Embedding)         (None, 1024, 200)    13966000    input_1[0][0]                    \n",
      "__________________________________________________________________________________________________\n",
      "conv1d_1 (Conv1D)               (None, 1024, 250)    150250      embedding_1[0][0]                \n",
      "__________________________________________________________________________________________________\n",
      "zero_padding1d_1 (ZeroPadding1D (None, 1025, 250)    0           conv1d_1[0][0]                   \n",
      "__________________________________________________________________________________________________\n",
      "max_pooling1d_1 (MaxPooling1D)  (None, 512, 250)     0           zero_padding1d_1[0][0]           \n",
      "__________________________________________________________________________________________________\n",
      "conv1d_2 (Conv1D)               (None, 512, 250)     187750      max_pooling1d_1[0][0]            \n",
      "__________________________________________________________________________________________________\n",
      "conv1d_3 (Conv1D)               (None, 512, 250)     187500      conv1d_2[0][0]                   \n",
      "__________________________________________________________________________________________________\n",
      "add_1 (Add)                     (None, 512, 250)     0           conv1d_3[0][0]                   \n",
      "                                                                 max_pooling1d_1[0][0]            \n",
      "__________________________________________________________________________________________________\n",
      "zero_padding1d_2 (ZeroPadding1D (None, 513, 250)     0           add_1[0][0]                      \n",
      "__________________________________________________________________________________________________\n",
      "max_pooling1d_2 (MaxPooling1D)  (None, 256, 250)     0           zero_padding1d_2[0][0]           \n",
      "__________________________________________________________________________________________________\n",
      "conv1d_4 (Conv1D)               (None, 256, 250)     187750      max_pooling1d_2[0][0]            \n",
      "__________________________________________________________________________________________________\n",
      "conv1d_5 (Conv1D)               (None, 256, 250)     187500      conv1d_4[0][0]                   \n",
      "__________________________________________________________________________________________________\n",
      "add_2 (Add)                     (None, 256, 250)     0           conv1d_5[0][0]                   \n",
      "                                                                 max_pooling1d_2[0][0]            \n",
      "__________________________________________________________________________________________________\n",
      "zero_padding1d_3 (ZeroPadding1D (None, 257, 250)     0           add_2[0][0]                      \n",
      "__________________________________________________________________________________________________\n",
      "max_pooling1d_3 (MaxPooling1D)  (None, 128, 250)     0           zero_padding1d_3[0][0]           \n",
      "__________________________________________________________________________________________________\n",
      "conv1d_6 (Conv1D)               (None, 128, 250)     187750      max_pooling1d_3[0][0]            \n",
      "__________________________________________________________________________________________________\n",
      "conv1d_7 (Conv1D)               (None, 128, 250)     187500      conv1d_6[0][0]                   \n",
      "__________________________________________________________________________________________________\n",
      "add_3 (Add)                     (None, 128, 250)     0           conv1d_7[0][0]                   \n",
      "                                                                 max_pooling1d_3[0][0]            \n",
      "__________________________________________________________________________________________________\n",
      "zero_padding1d_4 (ZeroPadding1D (None, 129, 250)     0           add_3[0][0]                      \n",
      "__________________________________________________________________________________________________\n",
      "max_pooling1d_4 (MaxPooling1D)  (None, 64, 250)      0           zero_padding1d_4[0][0]           \n",
      "__________________________________________________________________________________________________\n",
      "conv1d_8 (Conv1D)               (None, 64, 250)      187750      max_pooling1d_4[0][0]            \n",
      "__________________________________________________________________________________________________\n",
      "conv1d_9 (Conv1D)               (None, 64, 250)      187500      conv1d_8[0][0]                   \n",
      "__________________________________________________________________________________________________\n",
      "add_4 (Add)                     (None, 64, 250)      0           conv1d_9[0][0]                   \n",
      "                                                                 max_pooling1d_4[0][0]            \n",
      "__________________________________________________________________________________________________\n",
      "zero_padding1d_5 (ZeroPadding1D (None, 65, 250)      0           add_4[0][0]                      \n",
      "__________________________________________________________________________________________________\n",
      "max_pooling1d_5 (MaxPooling1D)  (None, 32, 250)      0           zero_padding1d_5[0][0]           \n",
      "__________________________________________________________________________________________________\n",
      "conv1d_10 (Conv1D)              (None, 32, 250)      187750      max_pooling1d_5[0][0]            \n",
      "__________________________________________________________________________________________________\n",
      "conv1d_11 (Conv1D)              (None, 32, 250)      187500      conv1d_10[0][0]                  \n",
      "__________________________________________________________________________________________________\n",
      "add_5 (Add)                     (None, 32, 250)      0           conv1d_11[0][0]                  \n",
      "                                                                 max_pooling1d_5[0][0]            \n",
      "__________________________________________________________________________________________________\n",
      "zero_padding1d_6 (ZeroPadding1D (None, 33, 250)      0           add_5[0][0]                      \n",
      "__________________________________________________________________________________________________\n",
      "max_pooling1d_6 (MaxPooling1D)  (None, 16, 250)      0           zero_padding1d_6[0][0]           \n",
      "__________________________________________________________________________________________________\n",
      "conv1d_12 (Conv1D)              (None, 16, 250)      187750      max_pooling1d_6[0][0]            \n",
      "__________________________________________________________________________________________________\n",
      "conv1d_13 (Conv1D)              (None, 16, 250)      187500      conv1d_12[0][0]                  \n",
      "__________________________________________________________________________________________________\n",
      "add_6 (Add)                     (None, 16, 250)      0           conv1d_13[0][0]                  \n",
      "                                                                 max_pooling1d_6[0][0]            \n",
      "__________________________________________________________________________________________________\n",
      "zero_padding1d_7 (ZeroPadding1D (None, 17, 250)      0           add_6[0][0]                      \n",
      "__________________________________________________________________________________________________\n",
      "max_pooling1d_7 (MaxPooling1D)  (None, 8, 250)       0           zero_padding1d_7[0][0]           \n",
      "__________________________________________________________________________________________________\n",
      "conv1d_14 (Conv1D)              (None, 8, 250)       187750      max_pooling1d_7[0][0]            \n",
      "__________________________________________________________________________________________________\n",
      "conv1d_15 (Conv1D)              (None, 8, 250)       187500      conv1d_14[0][0]                  \n",
      "__________________________________________________________________________________________________\n",
      "add_7 (Add)                     (None, 8, 250)       0           conv1d_15[0][0]                  \n",
      "                                                                 max_pooling1d_7[0][0]            \n",
      "__________________________________________________________________________________________________\n",
      "zero_padding1d_8 (ZeroPadding1D (None, 9, 250)       0           add_7[0][0]                      \n",
      "__________________________________________________________________________________________________\n",
      "max_pooling1d_8 (MaxPooling1D)  (None, 4, 250)       0           zero_padding1d_8[0][0]           \n",
      "__________________________________________________________________________________________________\n",
      "conv1d_16 (Conv1D)              (None, 4, 250)       187750      max_pooling1d_8[0][0]            \n",
      "__________________________________________________________________________________________________\n",
      "conv1d_17 (Conv1D)              (None, 4, 250)       187500      conv1d_16[0][0]                  \n",
      "__________________________________________________________________________________________________\n",
      "add_8 (Add)                     (None, 4, 250)       0           conv1d_17[0][0]                  \n",
      "                                                                 max_pooling1d_8[0][0]            \n",
      "__________________________________________________________________________________________________\n",
      "zero_padding1d_9 (ZeroPadding1D (None, 5, 250)       0           add_8[0][0]                      \n",
      "__________________________________________________________________________________________________\n",
      "max_pooling1d_9 (MaxPooling1D)  (None, 2, 250)       0           zero_padding1d_9[0][0]           \n",
      "__________________________________________________________________________________________________\n",
      "conv1d_18 (Conv1D)              (None, 2, 250)       187750      max_pooling1d_9[0][0]            \n",
      "__________________________________________________________________________________________________\n",
      "conv1d_19 (Conv1D)              (None, 2, 250)       187500      conv1d_18[0][0]                  \n",
      "__________________________________________________________________________________________________\n",
      "add_9 (Add)                     (None, 2, 250)       0           conv1d_19[0][0]                  \n",
      "                                                                 max_pooling1d_9[0][0]            \n",
      "__________________________________________________________________________________________________\n",
      "flattenlocation_traffic_conveni (None, 500)          0           add_9[0][0]                      \n",
      "__________________________________________________________________________________________________\n",
      "flattenlocation_distance_from_b (None, 500)          0           add_9[0][0]                      \n",
      "__________________________________________________________________________________________________\n",
      "flattenlocation_easy_to_find (F (None, 500)          0           add_9[0][0]                      \n",
      "__________________________________________________________________________________________________\n",
      "flattenservice_wait_time (Flatt (None, 500)          0           add_9[0][0]                      \n",
      "__________________________________________________________________________________________________\n",
      "flattenservice_waiters_attitude (None, 500)          0           add_9[0][0]                      \n",
      "__________________________________________________________________________________________________\n",
      "flattenservice_parking_convenie (None, 500)          0           add_9[0][0]                      \n",
      "__________________________________________________________________________________________________\n",
      "flattenservice_serving_speed (F (None, 500)          0           add_9[0][0]                      \n",
      "__________________________________________________________________________________________________\n",
      "flattenprice_level (Flatten)    (None, 500)          0           add_9[0][0]                      \n",
      "__________________________________________________________________________________________________\n",
      "flattenprice_cost_effective (Fl (None, 500)          0           add_9[0][0]                      \n",
      "__________________________________________________________________________________________________\n",
      "flattenprice_discount (Flatten) (None, 500)          0           add_9[0][0]                      \n",
      "__________________________________________________________________________________________________\n",
      "flattenenvironment_decoration ( (None, 500)          0           add_9[0][0]                      \n",
      "__________________________________________________________________________________________________\n",
      "flattenenvironment_noise (Flatt (None, 500)          0           add_9[0][0]                      \n",
      "__________________________________________________________________________________________________\n",
      "flattenenvironment_space (Flatt (None, 500)          0           add_9[0][0]                      \n",
      "__________________________________________________________________________________________________\n",
      "flattenenvironment_cleaness (Fl (None, 500)          0           add_9[0][0]                      \n",
      "__________________________________________________________________________________________________\n",
      "flattendish_portion (Flatten)   (None, 500)          0           add_9[0][0]                      \n",
      "__________________________________________________________________________________________________\n",
      "flattendish_taste (Flatten)     (None, 500)          0           add_9[0][0]                      \n",
      "__________________________________________________________________________________________________\n",
      "flattendish_look (Flatten)      (None, 500)          0           add_9[0][0]                      \n",
      "__________________________________________________________________________________________________\n",
      "flattendish_recommendation (Fla (None, 500)          0           add_9[0][0]                      \n",
      "__________________________________________________________________________________________________\n",
      "flattenothers_overall_experienc (None, 500)          0           add_9[0][0]                      \n",
      "__________________________________________________________________________________________________\n",
      "flattenothers_willing_to_consum (None, 500)          0           add_9[0][0]                      \n",
      "__________________________________________________________________________________________________\n",
      "outputlocation_traffic_convenie (None, 4)            2004        flattenlocation_traffic_convenien\n",
      "__________________________________________________________________________________________________\n",
      "outputlocation_distance_from_bu (None, 4)            2004        flattenlocation_distance_from_bus\n",
      "__________________________________________________________________________________________________\n",
      "outputlocation_easy_to_find (De (None, 4)            2004        flattenlocation_easy_to_find[0][0\n",
      "__________________________________________________________________________________________________\n",
      "outputservice_wait_time (Dense) (None, 4)            2004        flattenservice_wait_time[0][0]   \n",
      "__________________________________________________________________________________________________\n",
      "outputservice_waiters_attitude  (None, 4)            2004        flattenservice_waiters_attitude[0\n",
      "__________________________________________________________________________________________________\n",
      "outputservice_parking_convenien (None, 4)            2004        flattenservice_parking_convenienc\n",
      "__________________________________________________________________________________________________\n",
      "outputservice_serving_speed (De (None, 4)            2004        flattenservice_serving_speed[0][0\n",
      "__________________________________________________________________________________________________\n",
      "outputprice_level (Dense)       (None, 4)            2004        flattenprice_level[0][0]         \n",
      "__________________________________________________________________________________________________\n",
      "outputprice_cost_effective (Den (None, 4)            2004        flattenprice_cost_effective[0][0]\n",
      "__________________________________________________________________________________________________\n",
      "outputprice_discount (Dense)    (None, 4)            2004        flattenprice_discount[0][0]      \n",
      "__________________________________________________________________________________________________\n",
      "outputenvironment_decoration (D (None, 4)            2004        flattenenvironment_decoration[0][\n",
      "__________________________________________________________________________________________________\n",
      "outputenvironment_noise (Dense) (None, 4)            2004        flattenenvironment_noise[0][0]   \n",
      "__________________________________________________________________________________________________\n",
      "outputenvironment_space (Dense) (None, 4)            2004        flattenenvironment_space[0][0]   \n",
      "__________________________________________________________________________________________________\n",
      "outputenvironment_cleaness (Den (None, 4)            2004        flattenenvironment_cleaness[0][0]\n",
      "__________________________________________________________________________________________________\n",
      "outputdish_portion (Dense)      (None, 4)            2004        flattendish_portion[0][0]        \n",
      "__________________________________________________________________________________________________\n",
      "outputdish_taste (Dense)        (None, 4)            2004        flattendish_taste[0][0]          \n",
      "__________________________________________________________________________________________________\n",
      "outputdish_look (Dense)         (None, 4)            2004        flattendish_look[0][0]           \n",
      "__________________________________________________________________________________________________\n",
      "outputdish_recommendation (Dens (None, 4)            2004        flattendish_recommendation[0][0] \n",
      "__________________________________________________________________________________________________\n",
      "outputothers_overall_experience (None, 4)            2004        flattenothers_overall_experience[\n",
      "__________________________________________________________________________________________________\n",
      "outputothers_willing_to_consume (None, 4)            2004        flattenothers_willing_to_consume_\n",
      "==================================================================================================\n",
      "Total params: 17,533,580\n",
      "Trainable params: 3,567,580\n",
      "Non-trainable params: 13,966,000\n",
      "__________________________________________________________________________________________________\n"
     ]
    }
   ],
   "source": [
    "model.summary()"
   ]
  },
  {
   "cell_type": "code",
   "execution_count": null,
   "metadata": {
    "collapsed": true
   },
   "outputs": [],
   "source": [
    "model.compile(optimizer='sgd', loss='categorical_crossentropy', metrics=['acc'])"
   ]
  },
  {
   "cell_type": "code",
   "execution_count": null,
   "metadata": {},
   "outputs": [
    {
     "name": "stdout",
     "output_type": "stream",
     "text": [
      "Train on 105000 samples, validate on 15000 samples\n",
      "Epoch 1/100\n",
      "\n",
      "Epoch 00001: LearningRateScheduler reducing learning rate to 0.5.\n",
      "105000/105000 [==============================] - 118s 1ms/step - loss: 0.1390 - outputlocation_traffic_convenience_loss: 0.0098 - outputlocation_distance_from_business_district_loss: 0.0086 - outputlocation_easy_to_find_loss: 0.0094 - outputservice_wait_time_loss: 0.0077 - outputservice_waiters_attitude_loss: 0.0089 - outputservice_parking_convenience_loss: 0.0097 - outputservice_serving_speed_loss: 0.0095 - outputprice_level_loss: 0.0046 - outputprice_cost_effective_loss: 0.0020 - outputprice_discount_loss: 0.0094 - outputenvironment_decoration_loss: 0.0084 - outputenvironment_noise_loss: 0.0075 - outputenvironment_space_loss: 0.0077 - outputenvironment_cleaness_loss: 0.0092 - outputdish_portion_loss: 0.0041 - outputdish_taste_loss: 0.0063 - outputdish_look_loss: 0.0033 - outputdish_recommendation_loss: 0.0020 - outputothers_overall_experience_loss: 0.0072 - outputothers_willing_to_consume_again_loss: 0.0039 - outputlocation_traffic_convenience_acc: 0.7746 - outputlocation_distance_from_business_district_acc: 0.7965 - outputlocation_easy_to_find_acc: 0.7673 - outputservice_wait_time_acc: 0.8829 - outputservice_waiters_attitude_acc: 0.4037 - outputservice_parking_convenience_acc: 0.9354 - outputservice_serving_speed_acc: 0.8442 - outputprice_level_acc: 0.5030 - outputprice_cost_effective_acc: 0.7642 - outputprice_discount_acc: 0.6115 - outputenvironment_decoration_acc: 0.5133 - outputenvironment_noise_acc: 0.6992 - outputenvironment_space_acc: 0.6226 - outputenvironment_cleaness_acc: 0.6339 - outputdish_portion_acc: 0.5421 - outputdish_taste_acc: 0.0485 - outputdish_look_acc: 0.7236 - outputdish_recommendation_acc: 0.8073 - outputothers_overall_experience_acc: 0.0203 - outputothers_willing_to_consume_again_acc: 0.6248 - val_loss: 2.3842e-06 - val_outputlocation_traffic_convenience_loss: 1.1921e-07 - val_outputlocation_distance_from_business_district_loss: 1.1921e-07 - val_outputlocation_easy_to_find_loss: 1.1921e-07 - val_outputservice_wait_time_loss: 1.1921e-07 - val_outputservice_waiters_attitude_loss: 1.1921e-07 - val_outputservice_parking_convenience_loss: 1.1921e-07 - val_outputservice_serving_speed_loss: 1.1921e-07 - val_outputprice_level_loss: 1.1921e-07 - val_outputprice_cost_effective_loss: 1.1921e-07 - val_outputprice_discount_loss: 1.1921e-07 - val_outputenvironment_decoration_loss: 1.1921e-07 - val_outputenvironment_noise_loss: 1.1921e-07 - val_outputenvironment_space_loss: 1.1921e-07 - val_outputenvironment_cleaness_loss: 1.1921e-07 - val_outputdish_portion_loss: 1.1921e-07 - val_outputdish_taste_loss: 1.1921e-07 - val_outputdish_look_loss: 1.1921e-07 - val_outputdish_recommendation_loss: 1.1921e-07 - val_outputothers_overall_experience_loss: 1.1921e-07 - val_outputothers_willing_to_consume_again_loss: 1.1921e-07 - val_outputlocation_traffic_convenience_acc: 0.7838 - val_outputlocation_distance_from_business_district_acc: 0.8021 - val_outputlocation_easy_to_find_acc: 0.7677 - val_outputservice_wait_time_acc: 0.8825 - val_outputservice_waiters_attitude_acc: 0.3995 - val_outputservice_parking_convenience_acc: 0.9364 - val_outputservice_serving_speed_acc: 0.8451 - val_outputprice_level_acc: 0.4998 - val_outputprice_cost_effective_acc: 0.7619 - val_outputprice_discount_acc: 0.6175 - val_outputenvironment_decoration_acc: 0.5201 - val_outputenvironment_noise_acc: 0.7014 - val_outputenvironment_space_acc: 0.6327 - val_outputenvironment_cleaness_acc: 0.6397 - val_outputdish_portion_acc: 0.5408 - val_outputdish_taste_acc: 0.0504 - val_outputdish_look_acc: 0.7172 - val_outputdish_recommendation_acc: 0.8055 - val_outputothers_overall_experience_acc: 0.0190 - val_outputothers_willing_to_consume_again_acc: 0.6236ndation_loss: 0.0021 - outputothers_overall_experience_loss: 0.0075 - outputothers_willing_to_consume_again_loss: 0.0040 - outputlocation_traffic_convenience_acc: 0.7751 - outputlocation_distance_from_business_district_acc: 0.7970 - outputlocation_easy_to_find_acc: 0.7676 - outputservice_wait_time_acc: 0.8829 - outputservice_waiters_attitude_acc: 0.4034 - outputservice_parking_convenience_acc: 0.9353 - outputservice_serving_speed_acc: 0.8439 - outputprice_level_acc: 0.5034 - outputprice_cost_effective_acc: 0.7639 - outputprice_discount_acc: 0.6110 - outputenvironment_decoration_acc: 0.5124 - outputenvironment_noise_acc: 0.6990 - outputenvironment_space_acc: 0.6223 - outputenvironment_cleaness_acc: 0.6339 - outputdish_portion_acc: 0.5422 - outputdish_taste_acc: 0.0486 - outputdish_look_acc: 0.7235 - outputdish_recommendation_acc: 0.8071 - outputothers_overa\n",
      "Epoch 2/100\n",
      "\n",
      "Epoch 00002: LearningRateScheduler reducing learning rate to 0.49829566201032827.\n",
      " 10560/105000 [==>...........................] - ETA: 1:36 - loss: 2.3842e-06 - outputlocation_traffic_convenience_loss: 1.1921e-07 - outputlocation_distance_from_business_district_loss: 1.1921e-07 - outputlocation_easy_to_find_loss: 1.1921e-07 - outputservice_wait_time_loss: 1.1921e-07 - outputservice_waiters_attitude_loss: 1.1921e-07 - outputservice_parking_convenience_loss: 1.1921e-07 - outputservice_serving_speed_loss: 1.1921e-07 - outputprice_level_loss: 1.1921e-07 - outputprice_cost_effective_loss: 1.1921e-07 - outputprice_discount_loss: 1.1921e-07 - outputenvironment_decoration_loss: 1.1921e-07 - outputenvironment_noise_loss: 1.1921e-07 - outputenvironment_space_loss: 1.1921e-07 - outputenvironment_cleaness_loss: 1.1921e-07 - outputdish_portion_loss: 1.1921e-07 - outputdish_taste_loss: 1.1921e-07 - outputdish_look_loss: 1.1921e-07 - outputdish_recommendation_loss: 1.1921e-07 - outputothers_overall_experience_loss: 1.1921e-07 - outputothers_willing_to_consume_again_loss: 1.1921e-07 - outputlocation_traffic_convenience_acc: 0.7788 - outputlocation_distance_from_business_district_acc: 0.8023 - outputlocation_easy_to_find_acc: 0.7606 - outputservice_wait_time_acc: 0.8826 - outputservice_waiters_attitude_acc: 0.4122 - outputservice_parking_convenience_acc: 0.9389 - outputservice_serving_speed_acc: 0.8478 - outputprice_level_acc: 0.5024 - outputprice_cost_effective_acc: 0.7672 - outputprice_discount_acc: 0.6201 - outputenvironment_decoration_acc: 0.5140 - outputenvironment_noise_acc: 0.7009 - outputenvironment_space_acc: 0.6209 - outputenvironment_cleaness_acc: 0.6340 - outputdish_portion_acc: 0.5454 - outputdish_taste_acc: 0.0486 - outputdish_look_acc: 0.7277 - outputdish_recommendation_acc: 0.8140 - outputothers_overall_experience_acc: 0.0225 - outputothers_willing_to_consume_again_acc: 0.6173"
     ]
    }
   ],
   "source": [
    "model.fit(X_train_pad, \n",
    "          Y_train, batch_size=64,\n",
    "          callbacks=callbacks,\n",
    "          epochs=100,\n",
    "          validation_data=(X_valid_pad, Y_valid))"
   ]
  },
  {
   "cell_type": "code",
   "execution_count": null,
   "metadata": {
    "collapsed": true
   },
   "outputs": [],
   "source": []
  }
 ],
 "metadata": {
  "kernelspec": {
   "display_name": "Python 3",
   "language": "python",
   "name": "python3"
  },
  "language_info": {
   "codemirror_mode": {
    "name": "ipython",
    "version": 3
   },
   "file_extension": ".py",
   "mimetype": "text/x-python",
   "name": "python",
   "nbconvert_exporter": "python",
   "pygments_lexer": "ipython3",
   "version": "3.6.3"
  }
 },
 "nbformat": 4,
 "nbformat_minor": 2
}
