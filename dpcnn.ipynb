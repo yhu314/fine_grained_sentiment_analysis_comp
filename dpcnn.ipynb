{
 "cells": [
  {
   "cell_type": "markdown",
   "metadata": {},
   "source": [
    "# This is a Basic Module for DPCNN"
   ]
  },
  {
   "cell_type": "code",
   "execution_count": 1,
   "metadata": {},
   "outputs": [
    {
     "name": "stderr",
     "output_type": "stream",
     "text": [
      "C:\\Users\\Yi\\Anaconda3\\lib\\site-packages\\h5py\\__init__.py:34: FutureWarning: Conversion of the second argument of issubdtype from `float` to `np.floating` is deprecated. In future, it will be treated as `np.float64 == np.dtype(float).type`.\n",
      "  from ._conv import register_converters as _register_converters\n",
      "Using TensorFlow backend.\n"
     ]
    }
   ],
   "source": [
    "from keras import Model\n",
    "from keras.layers import Dense, Embedding, Input, Flatten, Concatenate,\\\n",
    "    SpatialDropout1D, Conv1D, MaxPooling1D, Add, Reshape, ZeroPadding1D\n",
    "from keras.preprocessing.sequence import pad_sequences\n",
    "from keras_callbacks import *\n",
    "import numpy as np\n",
    "from metrics import f1\n",
    "import tensorflow as tf\n",
    "import keras.backend as K\n",
    "from keras.backend.tensorflow_backend import set_session\n",
    "from keras.losses import categorical_crossentropy\n",
    "from sklearn.metrics import f1_score\n",
    "config = tf.ConfigProto()\n",
    "config.gpu_options.per_process_gpu_memory_fraction = 0.9\n",
    "config.gpu_options.allow_growth=True\n",
    "set_session(tf.Session(config=config))\n",
    "K.clear_session()"
   ]
  },
  {
   "cell_type": "code",
   "execution_count": 2,
   "metadata": {
    "collapsed": true
   },
   "outputs": [],
   "source": [
    "def dp_block(input):\n",
    "    pool = ZeroPadding1D((0, 1))(input)\n",
    "    pool = MaxPooling1D(pool_size=3, strides=2, padding='valid')(pool)\n",
    "    conv = Conv1D(filters=250, strides=1, kernel_size=3, padding='same', activation='relu')(pool)  # keep dimension the same\n",
    "    conv = Conv1D(filters=250, strides=1, kernel_size=3, padding='same', use_bias=False, activation='relu')(conv)\n",
    "    shortcut = Add()([conv, pool])\n",
    "    return shortcut"
   ]
  },
  {
   "cell_type": "code",
   "execution_count": 3,
   "metadata": {
    "collapsed": true
   },
   "outputs": [],
   "source": [
    "def build_model(embedding_layer, maxlen, targets):\n",
    "    sent_input = Input((maxlen,), dtype='int32')\n",
    "    sent_embedded = embedding_layer(sent_input)\n",
    "\n",
    "    # region embedding\n",
    "    conv = Conv1D(filters=250, strides=1, kernel_size=3, padding='same', activation='relu')(sent_embedded)\n",
    "\n",
    "#     while conv.shape[1] > 2:\n",
    "#          conv = dp_block(conv)\n",
    "    \n",
    "    output_list = []\n",
    "    for target in targets:\n",
    "        flat_target = Flatten(name='flatten'+target)(conv)\n",
    "        output_target = Dense(4, name='output'+target, activation='softmax')(flat_target)\n",
    "        output_list.append(output_target)\n",
    "    model = Model(sent_input, output_list)\n",
    "    return model"
   ]
  },
  {
   "cell_type": "markdown",
   "metadata": {},
   "source": [
    "# Load Data"
   ]
  },
  {
   "cell_type": "code",
   "execution_count": 4,
   "metadata": {},
   "outputs": [
    {
     "name": "stderr",
     "output_type": "stream",
     "text": [
      "C:\\Users\\Yi\\Anaconda3\\lib\\site-packages\\gensim\\utils.py:1167: UserWarning: detected Windows; aliasing chunkize to chunkize_serial\n",
      "  warnings.warn(\"detected Windows; aliasing chunkize to chunkize_serial\")\n"
     ]
    }
   ],
   "source": [
    "from torch_data import UserCommentDataset, calculate_labels, save_predictions\n",
    "from train_config import data_path_config, targets\n",
    "from gensim.models import KeyedVectors\n",
    "from utils import *"
   ]
  },
  {
   "cell_type": "code",
   "execution_count": 5,
   "metadata": {
    "collapsed": true
   },
   "outputs": [],
   "source": [
    "maxlen = 256"
   ]
  },
  {
   "cell_type": "code",
   "execution_count": 6,
   "metadata": {
    "collapsed": true
   },
   "outputs": [],
   "source": [
    "train_dataset = UserCommentDataset(data_path_config['train_data_path'],\n",
    "                                   targets=targets,\n",
    "                                   content='jieba_seg',\n",
    "                                   transformers=None)\n",
    "validate_dataset = UserCommentDataset(data_path_config['valid_data_path'],\n",
    "                                      targets=targets,\n",
    "                                      content='jieba_seg',\n",
    "                                      transformers=None)\n",
    "test_dataset = UserCommentDataset(data_path_config['test_data_path'],\n",
    "                                  targets=None,\n",
    "                                  content='jieba_seg',\n",
    "                                  transformers=None)"
   ]
  },
  {
   "cell_type": "code",
   "execution_count": 7,
   "metadata": {
    "collapsed": true
   },
   "outputs": [],
   "source": [
    "train_sentences, train_targets = zip(*train_dataset)\n",
    "validate_sentences, validate_targets = zip(*validate_dataset)\n",
    "test_sentences, _ = zip(*test_dataset)"
   ]
  },
  {
   "cell_type": "code",
   "execution_count": 8,
   "metadata": {
    "collapsed": true
   },
   "outputs": [],
   "source": [
    "def decompose_targets(data):\n",
    "    decomposed_list = []\n",
    "    for idx, _ in enumerate(targets):\n",
    "        target_list = [x[idx] for x in data]\n",
    "        target_array = np.vstack(target_list)\n",
    "        decomposed_list.append(target_array)\n",
    "    return decomposed_list\n",
    "\n",
    "Y_train = decompose_targets(train_targets)\n",
    "Y_valid = decompose_targets(validate_targets)"
   ]
  },
  {
   "cell_type": "code",
   "execution_count": 9,
   "metadata": {
    "collapsed": true
   },
   "outputs": [],
   "source": [
    "w2v = KeyedVectors.load_word2vec_format(data_path_config['embedding_path'],\n",
    "                                        binary=True, unicode_errors='ignore')\n",
    "tok2idx = build_tok2idx(w2v)"
   ]
  },
  {
   "cell_type": "code",
   "execution_count": 10,
   "metadata": {
    "collapsed": true
   },
   "outputs": [],
   "source": [
    "w2v_matrix = build_embedding_matrix(tok2idx, w2v, data_path_config['embedding_dim'])"
   ]
  },
  {
   "cell_type": "code",
   "execution_count": 11,
   "metadata": {
    "collapsed": true
   },
   "outputs": [],
   "source": [
    "X_train_seq = texts_to_sequences(train_sentences, tok2idx)\n",
    "X_valid_seq = texts_to_sequences(validate_sentences, tok2idx)\n",
    "X_test_seq = texts_to_sequences(test_sentences, tok2idx)"
   ]
  },
  {
   "cell_type": "code",
   "execution_count": 12,
   "metadata": {
    "collapsed": true
   },
   "outputs": [],
   "source": [
    "X_train_pad = pad_sequences(X_train_seq, maxlen=maxlen)\n",
    "X_valid_pad = pad_sequences(X_valid_seq, maxlen=maxlen)\n",
    "X_test_pad = pad_sequences(X_test_seq, maxlen=maxlen)"
   ]
  },
  {
   "cell_type": "markdown",
   "metadata": {},
   "source": [
    "# Modeling"
   ]
  },
  {
   "cell_type": "code",
   "execution_count": 13,
   "metadata": {
    "collapsed": true
   },
   "outputs": [],
   "source": [
    "model_name = 'DPCNN'\n",
    "lr_schedule = generate_learning_rate_schedule(0.001, 0.1, 20, 0)\n",
    "checkpoint = generate_check_point(model_name)\n",
    "early_stopping = generate_early_stopping()\n",
    "tensorboard = generate_tensorboard(model_name, 'ALL')\n",
    "callbacks=[lr_schedule, checkpoint, early_stopping, tensorboard]"
   ]
  },
  {
   "cell_type": "code",
   "execution_count": 14,
   "metadata": {
    "collapsed": true
   },
   "outputs": [],
   "source": [
    "embedding_matrix = np.random.randn(w2v_matrix.shape[0],w2v_matrix.shape[1])\n",
    "embedding_matrix[0, :] = 0\n",
    "\n",
    "\n",
    "embedding_layer = Embedding(input_dim=w2v_matrix.shape[0],\n",
    "                            output_dim=w2v_matrix.shape[1],\n",
    "                            weights=[embedding_matrix],\n",
    "                            trainable=True)"
   ]
  },
  {
   "cell_type": "code",
   "execution_count": 15,
   "metadata": {
    "collapsed": true
   },
   "outputs": [],
   "source": [
    "model = build_model(embedding_layer, maxlen, targets)"
   ]
  },
  {
   "cell_type": "code",
   "execution_count": 16,
   "metadata": {},
   "outputs": [
    {
     "name": "stdout",
     "output_type": "stream",
     "text": [
      "__________________________________________________________________________________________________\n",
      "Layer (type)                    Output Shape         Param #     Connected to                     \n",
      "==================================================================================================\n",
      "input_1 (InputLayer)            (None, 256)          0                                            \n",
      "__________________________________________________________________________________________________\n",
      "embedding_1 (Embedding)         (None, 256, 200)     13966000    input_1[0][0]                    \n",
      "__________________________________________________________________________________________________\n",
      "conv1d_1 (Conv1D)               (None, 256, 250)     150250      embedding_1[0][0]                \n",
      "__________________________________________________________________________________________________\n",
      "flattenlocation_traffic_conveni (None, 64000)        0           conv1d_1[0][0]                   \n",
      "__________________________________________________________________________________________________\n",
      "flattenlocation_distance_from_b (None, 64000)        0           conv1d_1[0][0]                   \n",
      "__________________________________________________________________________________________________\n",
      "flattenlocation_easy_to_find (F (None, 64000)        0           conv1d_1[0][0]                   \n",
      "__________________________________________________________________________________________________\n",
      "flattenservice_wait_time (Flatt (None, 64000)        0           conv1d_1[0][0]                   \n",
      "__________________________________________________________________________________________________\n",
      "flattenservice_waiters_attitude (None, 64000)        0           conv1d_1[0][0]                   \n",
      "__________________________________________________________________________________________________\n",
      "flattenservice_parking_convenie (None, 64000)        0           conv1d_1[0][0]                   \n",
      "__________________________________________________________________________________________________\n",
      "flattenservice_serving_speed (F (None, 64000)        0           conv1d_1[0][0]                   \n",
      "__________________________________________________________________________________________________\n",
      "flattenprice_level (Flatten)    (None, 64000)        0           conv1d_1[0][0]                   \n",
      "__________________________________________________________________________________________________\n",
      "flattenprice_cost_effective (Fl (None, 64000)        0           conv1d_1[0][0]                   \n",
      "__________________________________________________________________________________________________\n",
      "flattenprice_discount (Flatten) (None, 64000)        0           conv1d_1[0][0]                   \n",
      "__________________________________________________________________________________________________\n",
      "flattenenvironment_decoration ( (None, 64000)        0           conv1d_1[0][0]                   \n",
      "__________________________________________________________________________________________________\n",
      "flattenenvironment_noise (Flatt (None, 64000)        0           conv1d_1[0][0]                   \n",
      "__________________________________________________________________________________________________\n",
      "flattenenvironment_space (Flatt (None, 64000)        0           conv1d_1[0][0]                   \n",
      "__________________________________________________________________________________________________\n",
      "flattenenvironment_cleaness (Fl (None, 64000)        0           conv1d_1[0][0]                   \n",
      "__________________________________________________________________________________________________\n",
      "flattendish_portion (Flatten)   (None, 64000)        0           conv1d_1[0][0]                   \n",
      "__________________________________________________________________________________________________\n",
      "flattendish_taste (Flatten)     (None, 64000)        0           conv1d_1[0][0]                   \n",
      "__________________________________________________________________________________________________\n",
      "flattendish_look (Flatten)      (None, 64000)        0           conv1d_1[0][0]                   \n",
      "__________________________________________________________________________________________________\n",
      "flattendish_recommendation (Fla (None, 64000)        0           conv1d_1[0][0]                   \n",
      "__________________________________________________________________________________________________\n",
      "flattenothers_overall_experienc (None, 64000)        0           conv1d_1[0][0]                   \n",
      "__________________________________________________________________________________________________\n",
      "flattenothers_willing_to_consum (None, 64000)        0           conv1d_1[0][0]                   \n",
      "__________________________________________________________________________________________________\n",
      "outputlocation_traffic_convenie (None, 4)            256004      flattenlocation_traffic_convenien\n",
      "__________________________________________________________________________________________________\n",
      "outputlocation_distance_from_bu (None, 4)            256004      flattenlocation_distance_from_bus\n",
      "__________________________________________________________________________________________________\n",
      "outputlocation_easy_to_find (De (None, 4)            256004      flattenlocation_easy_to_find[0][0\n",
      "__________________________________________________________________________________________________\n",
      "outputservice_wait_time (Dense) (None, 4)            256004      flattenservice_wait_time[0][0]   \n",
      "__________________________________________________________________________________________________\n",
      "outputservice_waiters_attitude  (None, 4)            256004      flattenservice_waiters_attitude[0\n",
      "__________________________________________________________________________________________________\n",
      "outputservice_parking_convenien (None, 4)            256004      flattenservice_parking_convenienc\n",
      "__________________________________________________________________________________________________\n",
      "outputservice_serving_speed (De (None, 4)            256004      flattenservice_serving_speed[0][0\n",
      "__________________________________________________________________________________________________\n",
      "outputprice_level (Dense)       (None, 4)            256004      flattenprice_level[0][0]         \n",
      "__________________________________________________________________________________________________\n",
      "outputprice_cost_effective (Den (None, 4)            256004      flattenprice_cost_effective[0][0]\n",
      "__________________________________________________________________________________________________\n",
      "outputprice_discount (Dense)    (None, 4)            256004      flattenprice_discount[0][0]      \n",
      "__________________________________________________________________________________________________\n",
      "outputenvironment_decoration (D (None, 4)            256004      flattenenvironment_decoration[0][\n",
      "__________________________________________________________________________________________________\n",
      "outputenvironment_noise (Dense) (None, 4)            256004      flattenenvironment_noise[0][0]   \n",
      "__________________________________________________________________________________________________\n",
      "outputenvironment_space (Dense) (None, 4)            256004      flattenenvironment_space[0][0]   \n",
      "__________________________________________________________________________________________________\n",
      "outputenvironment_cleaness (Den (None, 4)            256004      flattenenvironment_cleaness[0][0]\n",
      "__________________________________________________________________________________________________\n",
      "outputdish_portion (Dense)      (None, 4)            256004      flattendish_portion[0][0]        \n",
      "__________________________________________________________________________________________________\n",
      "outputdish_taste (Dense)        (None, 4)            256004      flattendish_taste[0][0]          \n",
      "__________________________________________________________________________________________________\n",
      "outputdish_look (Dense)         (None, 4)            256004      flattendish_look[0][0]           \n",
      "__________________________________________________________________________________________________\n",
      "outputdish_recommendation (Dens (None, 4)            256004      flattendish_recommendation[0][0] \n",
      "__________________________________________________________________________________________________\n",
      "outputothers_overall_experience (None, 4)            256004      flattenothers_overall_experience[\n",
      "__________________________________________________________________________________________________\n",
      "outputothers_willing_to_consume (None, 4)            256004      flattenothers_willing_to_consume_\n",
      "==================================================================================================\n",
      "Total params: 19,236,330\n",
      "Trainable params: 19,236,330\n",
      "Non-trainable params: 0\n",
      "__________________________________________________________________________________________________\n"
     ]
    }
   ],
   "source": [
    "model.summary()"
   ]
  },
  {
   "cell_type": "code",
   "execution_count": null,
   "metadata": {
    "collapsed": true
   },
   "outputs": [],
   "source": [
    "model.compile(optimizer='adam', loss='categorical_crossentropy', metrics=['acc'])"
   ]
  },
  {
   "cell_type": "code",
   "execution_count": null,
   "metadata": {},
   "outputs": [
    {
     "name": "stdout",
     "output_type": "stream",
     "text": [
      "Train on 105000 samples, validate on 15000 samples\n",
      "Epoch 1/100\n",
      "\n",
      "Epoch 00001: LearningRateScheduler reducing learning rate to 0.1.\n",
      "105000/105000 [==============================] - 78s 745us/step - loss: 102.4830 - outputlocation_traffic_convenience_loss: 3.6243 - outputlocation_distance_from_business_district_loss: 3.2720 - outputlocation_easy_to_find_loss: 3.7440 - outputservice_wait_time_loss: 1.8775 - outputservice_waiters_attitude_loss: 9.7637 - outputservice_parking_convenience_loss: 1.0326 - outputservice_serving_speed_loss: 2.5027 - outputprice_level_loss: 8.0066 - outputprice_cost_effective_loss: 3.7997 - outputprice_discount_loss: 6.2542 - outputenvironment_decoration_loss: 7.8381 - outputenvironment_noise_loss: 4.8415 - outputenvironment_space_loss: 6.0764 - outputenvironment_cleaness_loss: 5.8925 - outputdish_portion_loss: 7.3765 - outputdish_taste_loss: 7.6159 - outputdish_look_loss: 4.4533 - outputdish_recommendation_loss: 3.1053 - outputothers_overall_experience_loss: 5.3606 - outputothers_willing_to_consume_again_loss: 6.0459 - outputlocation_traffic_convenience_acc: 0.7749 - outputlocation_distance_from_business_district_acc: 0.7966 - outputlocation_easy_to_find_acc: 0.7674 - outputservice_wait_time_acc: 0.8832 - outputservice_waiters_attitude_acc: 0.3939 - outputservice_parking_convenience_acc: 0.9355 - outputservice_serving_speed_acc: 0.8442 - outputprice_level_acc: 0.5028 - outputprice_cost_effective_acc: 0.7638 - outputprice_discount_acc: 0.6116 - outputenvironment_decoration_acc: 0.5134 - outputenvironment_noise_acc: 0.6993 - outputenvironment_space_acc: 0.6226 - outputenvironment_cleaness_acc: 0.6340 - outputdish_portion_acc: 0.5420 - outputdish_taste_acc: 0.5270 - outputdish_look_acc: 0.7232 - outputdish_recommendation_acc: 0.8070 - outputothers_overall_experience_acc: 0.6670 - outputothers_willing_to_consume_again_acc: 0.6246 - val_loss: 102.0211 - val_outputlocation_traffic_convenience_loss: 3.4847 - val_outputlocation_distance_from_business_district_loss: 3.1892 - val_outputlocation_easy_to_find_loss: 3.7437 - val_outputservice_wait_time_loss: 1.8944 - val_outputservice_waiters_attitude_loss: 9.7042 - val_outputservice_parking_convenience_loss: 1.0251 - val_outputservice_serving_speed_loss: 2.4962 - val_outputprice_level_loss: 8.0623 - val_outputprice_cost_effective_loss: 3.8383 - val_outputprice_discount_loss: 6.1657 - val_outputenvironment_decoration_loss: 7.7356 - val_outputenvironment_noise_loss: 4.8129 - val_outputenvironment_space_loss: 5.9196 - val_outputenvironment_cleaness_loss: 5.8068 - val_outputdish_portion_loss: 7.4014 - val_outputdish_taste_loss: 7.6894 - val_outputdish_look_loss: 4.5582 - val_outputdish_recommendation_loss: 3.1344 - val_outputothers_overall_experience_loss: 5.2921 - val_outputothers_willing_to_consume_again_loss: 6.0669 - val_outputlocation_traffic_convenience_acc: 0.7838 - val_outputlocation_distance_from_business_district_acc: 0.8021 - val_outputlocation_easy_to_find_acc: 0.7677 - val_outputservice_wait_time_acc: 0.8825 - val_outputservice_waiters_attitude_acc: 0.3979 - val_outputservice_parking_convenience_acc: 0.9364 - val_outputservice_serving_speed_acc: 0.8451 - val_outputprice_level_acc: 0.4998 - val_outputprice_cost_effective_acc: 0.7619 - val_outputprice_discount_acc: 0.6175 - val_outputenvironment_decoration_acc: 0.5201 - val_outputenvironment_noise_acc: 0.7014 - val_outputenvironment_space_acc: 0.6327 - val_outputenvironment_cleaness_acc: 0.6397 - val_outputdish_portion_acc: 0.5408 - val_outputdish_taste_acc: 0.5229 - val_outputdish_look_acc: 0.7172 - val_outputdish_recommendation_acc: 0.8055 - val_outputothers_overall_experience_acc: 0.6717 - val_outputothers_willing_to_consume_again_acc: 0.6236\n",
      "Epoch 2/100\n",
      "\n",
      "Epoch 00002: LearningRateScheduler reducing learning rate to 0.09966186480766032.\n",
      " 54592/105000 [==============>...............] - ETA: 34s - loss: 102.5547 - outputlocation_traffic_convenience_loss: 3.6304 - outputlocation_distance_from_business_district_loss: 3.2941 - outputlocation_easy_to_find_loss: 3.7482 - outputservice_wait_time_loss: 1.8934 - outputservice_waiters_attitude_loss: 9.7387 - outputservice_parking_convenience_loss: 1.0337 - outputservice_serving_speed_loss: 2.5146 - outputprice_level_loss: 8.0041 - outputprice_cost_effective_loss: 3.7623 - outputprice_discount_loss: 6.2731 - outputenvironment_decoration_loss: 7.8500 - outputenvironment_noise_loss: 4.8320 - outputenvironment_space_loss: 6.0762 - outputenvironment_cleaness_loss: 5.9076 - outputdish_portion_loss: 7.3531 - outputdish_taste_loss: 7.6416 - outputdish_look_loss: 4.4585 - outputdish_recommendation_loss: 3.1211 - outputothers_overall_experience_loss: 5.3688 - outputothers_willing_to_consume_again_loss: 6.0534 - outputlocation_traffic_convenience_acc: 0.7748 - outputlocation_distance_from_business_district_acc: 0.7956 - outputlocation_easy_to_find_acc: 0.7675 - outputservice_wait_time_acc: 0.8825 - outputservice_waiters_attitude_acc: 0.3958 - outputservice_parking_convenience_acc: 0.9359 - outputservice_serving_speed_acc: 0.8440 - outputprice_level_acc: 0.5034 - outputprice_cost_effective_acc: 0.7666 - outputprice_discount_acc: 0.6108 - outputenvironment_decoration_acc: 0.5130 - outputenvironment_noise_acc: 0.7002 - outputenvironment_space_acc: 0.6230 - outputenvironment_cleaness_acc: 0.6335 - outputdish_portion_acc: 0.5438 - outputdish_taste_acc: 0.5259 - outputdish_look_acc: 0.7234 - outputdish_recommendation_acc: 0.8064 - outputothers_overall_experience_acc: 0.6669 - outputothers_willing_to_consume_again_acc: 0.6244"
     ]
    }
   ],
   "source": [
    "model.fit(X_train_pad, \n",
    "          Y_train, batch_size=64,\n",
    "          callbacks=callbacks,\n",
    "          epochs=100,\n",
    "          validation_data=(X_valid_pad, Y_valid))"
   ]
  },
  {
   "cell_type": "code",
   "execution_count": null,
   "metadata": {
    "collapsed": true
   },
   "outputs": [],
   "source": []
  }
 ],
 "metadata": {
  "kernelspec": {
   "display_name": "Python 3",
   "language": "python",
   "name": "python3"
  },
  "language_info": {
   "codemirror_mode": {
    "name": "ipython",
    "version": 3
   },
   "file_extension": ".py",
   "mimetype": "text/x-python",
   "name": "python",
   "nbconvert_exporter": "python",
   "pygments_lexer": "ipython3",
   "version": "3.6.3"
  }
 },
 "nbformat": 4,
 "nbformat_minor": 2
}
